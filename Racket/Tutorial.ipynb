{
 "cells": [
  {
   "cell_type": "markdown",
   "metadata": {},
   "source": [
    "# Getting Started with IRacket with Pictures\n",
    "\n",
    "This follows the examples from Racket's [Quick tutorial](http://docs.racket-lang.org/quick/index.html).\n",
    "\n",
    "IRacket is like a REPL; it doesn't support treating the whole notebook as one module, so we can't use `#lang slideshow`.\n",
    "We use `require` instead."
   ]
  },
  {
   "cell_type": "code",
   "execution_count": 1,
   "metadata": {},
   "outputs": [],
   "source": [
    "(require pict)"
   ]
  },
  {
   "cell_type": "markdown",
   "metadata": {},
   "source": [
    "## Ready, Set, Go!"
   ]
  },
  {
   "cell_type": "code",
   "execution_count": 2,
   "metadata": {},
   "outputs": [
    {
     "data": {
      "text/html": [
       "<code><img style=\"display: inline; vertical-align: baseline; padding: 0pt; margin: 0pt; border: 0pt\" src=\"data:image/png;base64,iVBORw0KGgoAAAANSUhEUgAAAAoAAAAKCAYAAACNMs+9AAAAcElEQVQYlY3QoRHCUBBF0ZOv\r\n",
       "ImIpJj4yJUSE0igkFhiwVIFMClgEKzKI8N/MNfuu2ScioMGEBe9kyVuTjoILHhhxSkY8sytw\r\n",
       "xh1tRNiDNrsZbhh+pZ084AobugOxw1p8E/6k4IX+wOnTqX+mbp7awT8daWL0QpmoRQAAAABJ\r\n",
       "RU5ErkJggg==\r\n",
       "\"/></code>"
      ],
      "text/plain": [
       "(pict '(prog #<procedure:...t/private/utils.rkt:386:8> 10) 10 10 10 0 '() #f #f)"
      ]
     },
     "execution_count": 2,
     "metadata": {},
     "output_type": "execute_result"
    }
   ],
   "source": [
    "(circle 10)"
   ]
  },
  {
   "cell_type": "markdown",
   "metadata": {},
   "source": [
    "Did you know that the area of a circle is given by\n",
    "\n",
    "$$ A = \\pi r^2 $$\n",
    "\n",
    "where $A$ is the area and $r$ is the radius? And did you know that you could have math inside of markdown cells?"
   ]
  },
  {
   "cell_type": "code",
   "execution_count": 3,
   "metadata": {},
   "outputs": [
    {
     "data": {
      "text/html": [
       "<code><img style=\"display: inline; vertical-align: baseline; padding: 0pt; margin: 0pt; border: 0pt\" src=\"data:image/png;base64,iVBORw0KGgoAAAANSUhEUgAAAAoAAAAUCAYAAAC07qxWAAAANElEQVQoke3KoQ0AIBDF0Jaw\r\n",
       "/6rcBh+LOiyCJnUPYAG5vASSRJrUjA6cffjhS3ACpebiagMjvhHfDNt9oAAAAABJRU5ErkJg\r\n",
       "gg==\r\n",
       "\"/></code>"
      ],
      "text/plain": [
       "(pict '(prog #<procedure:...t/private/utils.rkt:386:8> 20) 10 20 20 0 '() #f #f)"
      ]
     },
     "execution_count": 3,
     "metadata": {},
     "output_type": "execute_result"
    }
   ],
   "source": [
    "(rectangle 10 20)"
   ]
  },
  {
   "cell_type": "code",
   "execution_count": 4,
   "metadata": {},
   "outputs": [
    {
     "data": {
      "text/html": [
       "<code><img style=\"display: inline; vertical-align: baseline; padding: 0pt; margin: 0pt; border: 0pt\" src=\"data:image/png;base64,iVBORw0KGgoAAAANSUhEUgAAABQAAAAUCAYAAACNiR0NAAAAt0lEQVQ4je2UOw7CQAxE30QU\r\n",
       "KVLQcJj0KXOEFHA0DrItIGg5RRoiOIApcDrYj0iDxEgjrbyjV9iWZWbkSNINWCdikwqAZmZK\r\n",
       "ZaosWoF+BKiXBklB0ugOXov27RN0D5yBHti4e+DifxVgZkbMgAHsgBNQvwnU/rctAR6BLhLq\r\n",
       "gEMJ8AE0kVAD3HOB85TztjtzIFegjWRaz2Rr8aEsuzb+EDAAARjdwWvzAckC/q/N91oVZCdJ\r\n",
       "qYZPTzAHKk8Lf3EoAAAAAElFTkSuQmCC\r\n",
       "\"/></code>"
      ],
      "text/plain": [
       "(pict '(picture 20 20 (put 0 5 #0=(prog #<procedure:...t/private/utils.rkt:386:8> 10)) (put 10 0 #1=(prog #<procedure:...t/private/utils.rkt:386:8> 20))) 20 20 15 0 (list (child (pict #0# 10 10 10 0 '() #f #f) 0 5 1 1 0 0) (child #2=(pict #1# 10 20 20 0 '() #f #f) 10 0 1 1 0 0)) #f #2#)"
      ]
     },
     "execution_count": 4,
     "metadata": {},
     "output_type": "execute_result"
    }
   ],
   "source": [
    "(hc-append (circle 10) (rectangle 10 20))"
   ]
  },
  {
   "cell_type": "code",
   "execution_count": 5,
   "metadata": {},
   "outputs": [
    {
     "data": {
      "text/html": [
       "<code><img style=\"display: inline; vertical-align: baseline; padding: 0pt; margin: 0pt; border: 0pt\" src=\"data:image/png;base64,iVBORw0KGgoAAAANSUhEUgAAAAoAAAAUCAYAAAC07qxWAAAANElEQVQoke3KoQ0AIBDF0Jaw\r\n",
       "/6rcBh+LOiyCJnUPYAG5vASSRJrUjA6cffjhS3ACpebiagMjvhHfDNt9oAAAAABJRU5ErkJg\r\n",
       "gg==\r\n",
       "\"/></code>"
      ],
      "text/plain": [
       "(pict '(prog #<procedure:...t/private/utils.rkt:386:8> 20) 10 20 20 0 '() #f #f)"
      ]
     },
     "execution_count": 5,
     "metadata": {},
     "output_type": "execute_result"
    }
   ],
   "source": [
    ";; LIMITATION: IRacket evaluates everything in a cell, but only returns the last result:\n",
    "(circle 10) ;; doesn't show up\n",
    "(rectangle 10 20)"
   ]
  },
  {
   "cell_type": "code",
   "execution_count": 6,
   "metadata": {},
   "outputs": [
    {
     "data": {
      "text/html": [
       "<code>(list <img style=\"display: inline; vertical-align: baseline; padding: 0pt; margin: 0pt; border: 0pt\" src=\"data:image/png;base64,iVBORw0KGgoAAAANSUhEUgAAAAoAAAAKCAYAAACNMs+9AAAAcElEQVQYlY3QoRHCUBBF0ZOv\r\n",
       "ImIpJj4yJUSE0igkFhiwVIFMClgEKzKI8N/MNfuu2ScioMGEBe9kyVuTjoILHhhxSkY8sytw\r\n",
       "xh1tRNiDNrsZbhh+pZ084AobugOxw1p8E/6k4IX+wOnTqX+mbp7awT8daWL0QpmoRQAAAABJ\r\n",
       "RU5ErkJggg==\r\n",
       "\"/> <img style=\"display: inline; vertical-align: baseline; padding: 0pt; margin: 0pt; border: 0pt\" src=\"data:image/png;base64,iVBORw0KGgoAAAANSUhEUgAAAAoAAAAUCAYAAAC07qxWAAAANElEQVQoke3KoQ0AIBDF0Jaw\r\n",
       "/6rcBh+LOiyCJnUPYAG5vASSRJrUjA6cffjhS3ACpebiagMjvhHfDNt9oAAAAABJRU5ErkJg\r\n",
       "gg==\r\n",
       "\"/>)</code>"
      ],
      "text/plain": [
       "(list (pict '(prog #<procedure:...t/private/utils.rkt:386:8> 10) 10 10 10 0 '() #f #f) (pict '(prog #<procedure:...t/private/utils.rkt:386:8> 20) 10 20 20 0 '() #f #f))"
      ]
     },
     "execution_count": 6,
     "metadata": {},
     "output_type": "execute_result"
    }
   ],
   "source": [
    "(list (circle 10) (rectangle 10 20))"
   ]
  },
  {
   "cell_type": "code",
   "execution_count": 7,
   "metadata": {},
   "outputs": [
    {
     "data": {
      "text/html": [
       "<code><img style=\"display: inline; vertical-align: baseline; padding: 0pt; margin: 0pt; border: 0pt\" src=\"data:image/png;base64,iVBORw0KGgoAAAANSUhEUgAAABQAAAAUCAYAAACNiR0NAAAAIklEQVQ4jWNkYGD4z0BFwERN\r\n",
       "w0YNHDVw1MBRA0cNHEoGAgDO7gEnhnkkVwAAAABJRU5ErkJggg==\r\n",
       "\"/></code>"
      ],
      "text/plain": [
       "(pict '(prog #<procedure:...t/private/utils.rkt:386:8> 20) 20 20 20 0 '() #f #f)"
      ]
     },
     "execution_count": 7,
     "metadata": {},
     "output_type": "execute_result"
    }
   ],
   "source": [
    "(define (square n)\n",
    "  ; A semi-colon starts a line comment.\n",
    "  ; The expression below is the function body.\n",
    "  (filled-rectangle n n))\n",
    "\n",
    "(square 20)"
   ]
  },
  {
   "cell_type": "code",
   "execution_count": 8,
   "metadata": {},
   "outputs": [
    {
     "data": {
      "text/html": [
       "<code><img style=\"display: inline; vertical-align: baseline; padding: 0pt; margin: 0pt; border: 0pt\" src=\"data:image/png;base64,iVBORw0KGgoAAAANSUhEUgAAABQAAAAUCAYAAACNiR0NAAAAkElEQVQ4je3TIQ7CUAwA0Lev\r\n",
       "JmY5zPzkjoCAo3GQWUbAcgokHOAj+EsWxPhLviJrUtM+0aStGCNU2GPAI+WQalWMUa6DgBOu\r\n",
       "6LFL2eOWemGFc8QF9TTJbKI69Q4rnBHdN5rhDucVzgvNAmzwzHXBJ6K8+OkC7mgXTJtMriu/\r\n",
       "lLJnU/qwp6UUje1Ttk/5u095A4iad9L1dTzjAAAAAElFTkSuQmCC\r\n",
       "\"/></code>"
      ],
      "text/plain": [
       "(pict '(picture 20 20 (put 0 10 #1=(picture 20 10 (put 0 0 #0=(prog #<procedure:...t/private/utils.rkt:386:8> 10)) (put 10 0 #0#))) (put 0 0 #1#)) 20 20 10 0 (list (child #3=(pict #1# 20 10 10 0 (list (child #2=(pict #0# 10 10 10 0 '() #f #f) 0 0 1 1 0 0) (child #2# 10 0 1 1 0 0)) #f #2#) 0 10 1 1 0 0) (child #3# 0 0 1 1 0 0)) #f (list #3# #2#))"
      ]
     },
     "execution_count": 8,
     "metadata": {},
     "output_type": "execute_result"
    }
   ],
   "source": [
    "(define (four p)\n",
    "  (define two-p (hc-append p p))\n",
    "  (vc-append two-p two-p))\n",
    "\n",
    "(four (circle 10))"
   ]
  },
  {
   "cell_type": "code",
   "execution_count": 9,
   "metadata": {},
   "outputs": [
    {
     "data": {
      "text/html": [
       "<code><img style=\"display: inline; vertical-align: baseline; padding: 0pt; margin: 0pt; border: 0pt\" src=\"data:image/png;base64,iVBORw0KGgoAAAANSUhEUgAAABQAAAAUCAYAAACNiR0NAAAANElEQVQ4jWP8z8Dwn4EIwEiM\r\n",
       "IgYGBiYi1RENRg0cNXAwGMjIQGROIUoRw1Dw8qiBowaSAQBAOAQklfK8SQAAAABJRU5ErkJg\r\n",
       "gg==\r\n",
       "\"/></code>"
      ],
      "text/plain": [
       "(pict '(picture 20 20 (put 0 10 #2=(picture 20 10 (put 0 0 #1=(color \"red\" #3=(prog #<procedure:...t/private/utils.rkt:386:8> 10))) (put 10 0 #0=(color \"black\" #4=(prog #<procedure:...t/private/utils.rkt:386:8> 10))))) (put 0 0 #6=(picture 20 10 (put 0 0 #0#) (put 10 0 #1#)))) 20 20 10 0 (list (child (pict #2# 20 10 10 0 (list (child #7=(pict #1# 10 10 10 0 (list (child (pict #3# 10 10 10 0 '() #f #f) 0 0 1 1 0 0)) #f #f) 0 0 1 1 0 0) (child #5=(pict #0# 10 10 10 0 (list (child (pict #4# 10 10 10 0 '() #f #f) 0 0 1 1 0 0)) #f #f) 10 0 1 1 0 0)) #f #5#) 0 10 1 1 0 0) (child #8=(pict #6# 20 10 10 0 (list (child #5# 0 0 1 1 0 0) (child #7# 10 0 1 1 0 0)) #f #7#) 0 0 1 1 0 0)) #f (list #8# #7#))"
      ]
     },
     "execution_count": 9,
     "metadata": {},
     "output_type": "execute_result"
    }
   ],
   "source": [
    "(define (checker p1 p2)\n",
    "  (let ([p12 (hc-append p1 p2)]\n",
    "        [p21 (hc-append p2 p1)])\n",
    "    (vc-append p12 p21)))\n",
    "\n",
    "(checker (colorize (square 10) \"red\")\n",
    "         (colorize (square 10) \"black\"))"
   ]
  },
  {
   "cell_type": "code",
   "execution_count": 10,
   "metadata": {},
   "outputs": [
    {
     "data": {
      "text/html": [
       "<code><img style=\"display: inline; vertical-align: baseline; padding: 0pt; margin: 0pt; border: 0pt\" src=\"data:image/png;base64,iVBORw0KGgoAAAANSUhEUgAAAFAAAABQCAYAAACOEfKtAAAA5klEQVR4nO3ZMQrDQAwAQV3w\r\n",
       "/7/svCAg2CKJmakPFYsKG5175p6Fs3k0y2EPmvdavuMDASMBIwEjASMBIwEjASMBozPLj/Nf\r\n",
       "/yP41jwbGAkYCRgJGAkYCRgJGAkYCRhdT/kjcBP5UwJGAkYCRgJGAkYCRgJGAkZuInGeDYwE\r\n",
       "jASMBIwEjASMBIwEjASM3ETiPBsYCRgJGAkYCRgJGAkYCRgJGLmJxHk2MBIwEjASMBIwEjAS\r\n",
       "MBIwEjByE4nzbGAkYCRgJGAkYCRgJGAkYCRg5CYS59nASMBIwEjASMBIwEjASMBIwOgNhFEl\r\n",
       "mcy6CRYAAAAASUVORK5CYII=\r\n",
       "\"/></code>"
      ],
      "text/plain": [
       "(pict '(picture 80 80 (put 0 40 #6=(picture 80 40 (put 0 0 #5=(picture 40 40 (put 0 20 #4=(picture 40 20 (put 0 0 #3=(picture 20 20 (put 0 10 #7=(picture 20 10 (put 0 0 #2=(color \"red\" #0=(prog #<procedure:...t/private/utils.rkt:386:8> 10))) (put 10 0 #1=(color \"black\" #0#)))) (put 0 0 #10=(picture 20 10 (put 0 0 #1#) (put 10 0 #2#))))) (put 20 0 #3#))) (put 0 0 #4#))) (put 40 0 #5#))) (put 0 0 #6#)) 80 80 10 0 (list (child #19=(pict #6# 80 40 10 0 (list (child #17=(pict #5# 40 40 10 0 (list (child #15=(pict #4# 40 20 10 0 (list (child #13=(pict #3# 20 20 10 0 (list (child (pict #7# 20 10 10 0 (list (child #11=(pict #2# 10 10 10 0 (list (child #8=(pict #0# 10 10 10 0 '() #f #f) 0 0 1 1 0 0)) #f #f) 0 0 1 1 0 0) (child #9=(pict #1# 10 10 10 0 (list (child #8# 0 0 1 1 0 0)) #f #f) 10 0 1 1 0 0)) #f #9#) 0 10 1 1 0 0) (child #12=(pict #10# 20 10 10 0 (list (child #9# 0 0 1 1 0 0) (child #11# 10 0 1 1 0 0)) #f #11#) 0 0 1 1 0 0)) #f #14=(list #12# #11#)) 0 0 1 1 0 0) (child #13# 20 0 1 1 0 0)) #f #16=(cons #13# #14#)) 0 20 1 1 0 0) (child #15# 0 0 1 1 0 0)) #f #18=(cons #15# #16#)) 0 0 1 1 0 0) (child #17# 40 0 1 1 0 0)) #f #20=(cons #17# #18#)) 0 40 1 1 0 0) (child #19# 0 0 1 1 0 0)) #f (cons #19# #20#))"
      ]
     },
     "execution_count": 10,
     "metadata": {},
     "output_type": "execute_result"
    }
   ],
   "source": [
    "(define (checkerboard p)\n",
    "  (let* ([rp (colorize p \"red\")]\n",
    "         [bp (colorize p \"black\")]\n",
    "         [c (checker rp bp)]\n",
    "         [c4 (four c)])\n",
    "    (four c4)))\n",
    "\n",
    "(checkerboard (square 10))"
   ]
  },
  {
   "cell_type": "markdown",
   "metadata": {},
   "source": [
    "## Functions as values"
   ]
  },
  {
   "cell_type": "code",
   "execution_count": 11,
   "metadata": {},
   "outputs": [],
   "source": [
    "(define (series mk)\n",
    "  (hc-append 4 (mk 5) (mk 10) (mk 20)))"
   ]
  },
  {
   "cell_type": "code",
   "execution_count": 12,
   "metadata": {},
   "outputs": [
    {
     "data": {
      "text/html": [
       "<code><img style=\"display: inline; vertical-align: baseline; padding: 0pt; margin: 0pt; border: 0pt\" src=\"data:image/png;base64,iVBORw0KGgoAAAANSUhEUgAAACsAAAAUCAYAAAAUccS4AAAAd0lEQVRIie2WQQrAIAwEd8VD\r\n",
       "v91Xe9xei9CSWkMa6oAHRcIQogklwQuSU4OXmcG8WbJepJKtlkvWhyKJ73TuSZXZQrKR1Gm1\r\n",
       "aKkrCoCtO+v3nyFXGUQLPCGVbAWwR0tYoWWQGf1nfz3ImDqYd2eykiqzS9aLVLIHGHsYtIZP\r\n",
       "iJIAAAAASUVORK5CYII=\r\n",
       "\"/></code>"
      ],
      "text/plain": [
       "(pict '(picture 43 20 (put 0 15/2 #0=(prog #<procedure:...t/private/utils.rkt:386:8> 5)) (put 9 0 #1=(picture 34 20 (put 0 5 #2=(prog #<procedure:...t/private/utils.rkt:386:8> 10)) (put 14 0 #3=(prog #<procedure:...t/private/utils.rkt:386:8> 20))))) 43 20 25/2 0 (list (child (pict #0# 5 5 5 0 '() #f #f) 0 15/2 1 1 0 0) (child #5=(pict #1# 34 20 15 0 (list (child (pict #2# 10 10 10 0 '() #f #f) 0 5 1 1 0 0) (child #4=(pict #3# 20 20 20 0 '() #f #f) 14 0 1 1 0 0)) #f #4#) 9 0 1 1 0 0)) #f (list #5# #4#))"
      ]
     },
     "execution_count": 12,
     "metadata": {},
     "output_type": "execute_result"
    }
   ],
   "source": [
    "(series square)"
   ]
  },
  {
   "cell_type": "code",
   "execution_count": 13,
   "metadata": {
    "scrolled": true
   },
   "outputs": [
    {
     "data": {
      "text/html": [
       "<code><img style=\"display: inline; vertical-align: baseline; padding: 0pt; margin: 0pt; border: 0pt\" src=\"data:image/png;base64,iVBORw0KGgoAAAANSUhEUgAAACsAAAAUCAYAAAAUccS4AAAB30lEQVRIib3Xu08UURTH8c8d\r\n",
       "A8GwFG5iY7QjAVs7GgRDSUTwUVloeNj5f/D4J3zEWlqBAkjUaKQyEddH4yPRck0stBiLuRiy\r\n",
       "O0tmdydzkpM7c+/53XzvY+65E9I0VaWFEAYxh2u4hAtI8RUHeIrNNE3/tInTNK3McR2f8AxL\r\n",
       "GMNw9HEsYwsfsdCmrwjyFDbwHpMF4i+jgXUkVcNuYBdnutDUsYe1ymDj0h92A9oC3MB8V7AI\r\n",
       "uI0d/Iy+E+tCB81A3H/TfQx2Ep8xWFSQ4AFeYRZno8/idWxLcnS3sFXC6mzjBoxiH79jOZoT\r\n",
       "fBcvMZTTNhTb7uS0PcFiCbAreCRu/Ps4HcvdnOAXmDmhsxk8z6k/xFgJsON4B03UYmUNzZzg\r\n",
       "X0cxHTrrpGtipATYETQTWdZYCiEMx0P5QL5Vm+pyLMGiLPX9wNX43mpvMXFCPxMxptW+41yf\r\n",
       "jHAe34ouQ68f2GMsl7AN7uFh0eBej66b2C4BNju6uhD0mhQ+4EofoFOyy0+xpNDnrCzIUma9\r\n",
       "B209DnYuTau7yKzLLiWFgSPoPlb/11UEm2AtzvBUgfjpOKOrqr4iHoOYjxDbshR6UZZQavF5\r\n",
       "JX4HjaOlP+4hdlKZhRAGtP/WwBe8wabst+Zvq/YfIhp4XZj1JqIAAAAASUVORK5CYII=\r\n",
       "\"/></code>"
      ],
      "text/plain": [
       "(pict '(picture 43 20 (put 0 15/2 #0=(prog #<procedure:...t/private/utils.rkt:386:8> 5)) (put 9 0 #1=(picture 34 20 (put 0 5 #2=(prog #<procedure:...t/private/utils.rkt:386:8> 10)) (put 14 0 #3=(prog #<procedure:...t/private/utils.rkt:386:8> 20))))) 43 20 25/2 0 (list (child (pict #0# 5 5 5 0 '() #f #f) 0 15/2 1 1 0 0) (child #5=(pict #1# 34 20 15 0 (list (child (pict #2# 10 10 10 0 '() #f #f) 0 5 1 1 0 0) (child #4=(pict #3# 20 20 20 0 '() #f #f) 14 0 1 1 0 0)) #f #4#) 9 0 1 1 0 0)) #f (list #5# #4#))"
      ]
     },
     "execution_count": 13,
     "metadata": {},
     "output_type": "execute_result"
    }
   ],
   "source": [
    "(series circle)"
   ]
  },
  {
   "cell_type": "code",
   "execution_count": 14,
   "metadata": {},
   "outputs": [
    {
     "data": {
      "text/html": [
       "<code><img style=\"display: inline; vertical-align: baseline; padding: 0pt; margin: 0pt; border: 0pt\" src=\"data:image/png;base64,iVBORw0KGgoAAAANSUhEUgAAASAAAACgCAYAAACsRLHsAAAC5klEQVR4nO3cwWrDMBQAwaj4\r\n",
       "/39ZPRdycGvRleOZY0nFO4RFhIfGnPPFg42x9AswVh72er1WfzvNd83q+b4WnwdwmgABGQEC\r\n",
       "MgIEZAQIyAgQkBEgICNAQEaAgIwAARkBAjICBGQECMgIEJARICAjQEBGgICMAAEZAQIyRz0A\r\n",
       "rae9QWy+a1bP5wYEZAQIyAgQkBEgICNAQEaAgIwAARkBAjICBGQECMgIEJARICAjQEBGgICM\r\n",
       "AAEZAQIyAgRkBAjICBCQud+b0GOcepb27Fu4Z9+4/Zjz5vzx0ae9QWy+a1bP5wYEZAQIyAgQ\r\n",
       "kBEgICNAQEaAgIwAARkBAjICBGRutwn9MRvJ0XmwEzcgICNAQEaAgIwAARkBAjICBGQECMgI\r\n",
       "EJARICBzvHtj+d327btN23/53B/fMN59I3mX8572BrH5rlk9nxsQkBEgICNAQEaAgMyx1Q/O\r\n",
       "b/4GfC43ICAjQEBGgICMAAGZY6cfnM98bpcN4rueBztxAwIyAgRkBAjICBCQsQkNZNyAgIwA\r\n",
       "ARkBAjICBGRutwn9KRvJu5z3tDeIzXfN6vncgICMAAEZAQIyAgRkbEIDGTcgICNAQEaAgIwA\r\n",
       "AZnbbULvskF81/NgJ25AQEaAgIwAARkBAjI2oYGMGxCQESAgI0BARoCAzDHnPLVse/YH4tWf\r\n",
       "++v/7b6RvMt5T3uD2HzXrJ7PDQjICBCQESAgI0BARoCAjAABGQECMgIEZAQIyBz1AL+1ywbx\r\n",
       "Xc+DnbgBARkBAjICBGQECMgIEJARICAjQEBGgICMAAGZMacd2kcbY+kXYPc3iM13zer53ICA\r\n",
       "jAABGQECMgIEZAQIyAgQkBEgICNAQEaAgIwAARkBAjICBGQECMgIEJARICAjQEBGgICMAAEZ\r\n",
       "AQIyRz0Arae9QWy+a1bP5wYEZAQIyAgQkBEgICNAQEaAgIwAARkBAjICBGQECMgIEJARICAj\r\n",
       "QEBGgICMAAEZAQIyAgRkBAjICBCQ+QYUynlOwUlzMAAAAABJRU5ErkJggg==\r\n",
       "\"/></code>"
      ],
      "text/plain": [
       "(pict '(picture 288 160 (put 0 60 #21=(picture 40 40 (put 0 20 #6=(picture 40 20 (put 0 0 #5=(picture 20 20 (put 0 10 #4=(picture 20 10 (put 0 0 #3=(picture 10 10 (put 0 5 #22=(picture 10 5 (put 0 0 #2=(color \"red\" #0=(prog #<procedure:...t/private/utils.rkt:386:8> 5))) (put 5 0 #1=(color \"black\" #0#)))) (put 0 0 #25=(picture 10 5 (put 0 0 #1#) (put 5 0 #2#))))) (put 10 0 #3#))) (put 0 0 #4#))) (put 20 0 #5#))) (put 0 0 #6#))) (put 44 0 #36=(picture 244 160 (put 0 40 #37=(picture 80 80 (put 0 40 #13=(picture 80 40 (put 0 0 #12=(picture 40 40 (put 0 20 #11=(picture 40 20 (put 0 0 #10=(picture 20 20 (put 0 10 #38=(picture 20 10 (put 0 0 #9=(color \"red\" #7=(prog #<procedure:...t/private/utils.rkt:386:8> 10))) (put 10 0 #8=(color \"black\" #7#)))) (put 0 0 #41=(picture 20 10 (put 0 0 #8#) (put 10 0 #9#))))) (put 20 0 #10#))) (put 0 0 #11#))) (put 40 0 #12#))) (put 0 0 #13#))) (put 84 0 #52=(picture 160 160 (put 0 80 #20=(picture 160 80 (put 0 0 #19=(picture 80 80 (put 0 40 #18=(picture 80 40 (put 0 0 #17=(picture 40 40 (put 0 20 #53=(picture 40 20 (put 0 0 #16=(color \"red\" #14=(prog #<procedure:...t/private/utils.rkt:386:8> 20))) (put 20 0 #15=(color \"black\" #14#)))) (put 0 0 #56=(picture 40 20 (put 0 0 #15#) (put 20 0 #16#))))) (put 40 0 #17#))) (put 0 0 #18#))) (put 80 0 #19#))) (put 0 0 #20#)))))) 288 160 20 0 (list (child (pict #21# 40 40 5 0 (list (child #34=(pict #6# 40 20 5 0 (list (child #32=(pict #5# 20 20 5 0 (list (child #30=(pict #4# 20 10 5 0 (list (child #28=(pict #3# 10 10 5 0 (list (child (pict #22# 10 5 5 0 (list (child #26=(pict #2# 5 5 5 0 (list (child #23=(pict #0# 5 5 5 0 '() #f #f) 0 0 1 1 0 0)) #f #f) 0 0 1 1 0 0) (child #24=(pict #1# 5 5 5 0 (list (child #23# 0 0 1 1 0 0)) #f #f) 5 0 1 1 0 0)) #f #24#) 0 5 1 1 0 0) (child #27=(pict #25# 10 5 5 0 (list (child #24# 0 0 1 1 0 0) (child #26# 5 0 1 1 0 0)) #f #26#) 0 0 1 1 0 0)) #f #29=(list #27# #26#)) 0 0 1 1 0 0) (child #28# 10 0 1 1 0 0)) #f #31=(cons #28# #29#)) 0 10 1 1 0 0) (child #30# 0 0 1 1 0 0)) #f #33=(cons #30# #31#)) 0 0 1 1 0 0) (child #32# 20 0 1 1 0 0)) #f #35=(cons #32# #33#)) 0 20 1 1 0 0) (child #34# 0 0 1 1 0 0)) #f (cons #34# #35#)) 0 60 1 1 0 0) (child #69=(pict #36# 244 160 20 0 (list (child (pict #37# 80 80 10 0 (list (child #50=(pict #13# 80 40 10 0 (list (child #48=(pict #12# 40 40 10 0 (list (child #46=(pict #11# 40 20 10 0 (list (child #44=(pict #10# 20 20 10 0 (list (child (pict #38# 20 10 10 0 (list (child #42=(pict #9# 10 10 10 0 (list (child #39=(pict #7# 10 10 10 0 '() #f #f) 0 0 1 1 0 0)) #f #f) 0 0 1 1 0 0) (child #40=(pict #8# 10 10 10 0 (list (child #39# 0 0 1 1 0 0)) #f #f) 10 0 1 1 0 0)) #f #40#) 0 10 1 1 0 0) (child #43=(pict #41# 20 10 10 0 (list (child #40# 0 0 1 1 0 0) (child #42# 10 0 1 1 0 0)) #f #42#) 0 0 1 1 0 0)) #f #45=(list #43# #42#)) 0 0 1 1 0 0) (child #44# 20 0 1 1 0 0)) #f #47=(cons #44# #45#)) 0 20 1 1 0 0) (child #46# 0 0 1 1 0 0)) #f #49=(cons #46# #47#)) 0 0 1 1 0 0) (child #48# 40 0 1 1 0 0)) #f #51=(cons #48# #49#)) 0 40 1 1 0 0) (child #50# 0 0 1 1 0 0)) #f (cons #50# #51#)) 0 40 1 1 0 0) (child #67=(pict #52# 160 160 20 0 (list (child #65=(pict #20# 160 80 20 0 (list (child #63=(pict #19# 80 80 20 0 (list (child #61=(pict #18# 80 40 20 0 (list (child #59=(pict #17# 40 40 20 0 (list (child (pict #53# 40 20 20 0 (list (child #57=(pict #16# 20 20 20 0 (list (child #54=(pict #14# 20 20 20 0 '() #f #f) 0 0 1 1 0 0)) #f #f) 0 0 1 1 0 0) (child #55=(pict #15# 20 20 20 0 (list (child #54# 0 0 1 1 0 0)) #f #f) 20 0 1 1 0 0)) #f #55#) 0 20 1 1 0 0) (child #58=(pict #56# 40 20 20 0 (list (child #55# 0 0 1 1 0 0) (child #57# 20 0 1 1 0 0)) #f #57#) 0 0 1 1 0 0)) #f #60=(list #58# #57#)) 0 0 1 1 0 0) (child #59# 40 0 1 1 0 0)) #f #62=(cons #59# #60#)) 0 40 1 1 0 0) (child #61# 0 0 1 1 0 0)) #f #64=(cons #61# #62#)) 0 0 1 1 0 0) (child #63# 80 0 1 1 0 0)) #f #66=(cons #63# #64#)) 0 80 1 1 0 0) (child #65# 0 0 1 1 0 0)) #f #68=(cons #65# #66#)) 84 0 1 1 0 0)) #f #70=(cons #67# #68#)) 44 0 1 1 0 0)) #f (cons #69# #70#))"
      ]
     },
     "execution_count": 14,
     "metadata": {},
     "output_type": "execute_result"
    }
   ],
   "source": [
    "(series (lambda (size) (checkerboard (square size))))"
   ]
  },
  {
   "cell_type": "code",
   "execution_count": 15,
   "metadata": {},
   "outputs": [
    {
     "data": {
      "text/html": [
       "<code><img style=\"display: inline; vertical-align: baseline; padding: 0pt; margin: 0pt; border: 0pt\" src=\"data:image/png;base64,iVBORw0KGgoAAAANSUhEUgAAACsAAAA8CAYAAAD/jkPjAAAEkklEQVRoge2XPW8UVxSGn1li\r\n",
       "ZOR1EUs0UdJZsmnT0Rg7cmmF2HxUFCBs0/E//PEnCIg6afG6sC0FBEqqSJg10ORDCuUiUSTF\r\n",
       "k2LOko1nFmZ2nEsKRjq6s/feM3r33nPvOU+mkvTJstPAReAb4EvgC0DgV+An4Dvge/TPgq+a\r\n",
       "zuCS8EJ4IKwKM8JE2KywJuwIz4WV4/6pRJ4StoVnwlyF+ReErrAltFKL3Rb2hE9r+EwJ+8Jm\r\n",
       "OrH51h/WEvpvwV1huZ5YyIRrwq7wKmw3+rIhPmMRfwsN/uyc8FI4XdWhJdwRHgtLwtmwJeFJ\r\n",
       "jLVK/K4KOyewOx3hMsK0cCC8iXa6ZPIN4ZEwXjI2HmPXS8buCzdPQOy6cJcI/NvCmWj3SiY/\r\n",
       "FBbf8bFF4YeS/kNh5gTEzgpPEXpCOzrbQq9k8uu3c8o/NsyvJ0yegNhJodeKrLFKlk0Aa/G7\r\n",
       "7Emc6opPC7hJnvr+AL6O38efn4Hz7/jO+Zhz/Pkd+KyhRoDPgd+qbsOoB+yesHYCYXBL+Lbq\r\n",
       "5FGvritC5wTExtVV3WHUpHAkfNVA6Lx58VMxKTRblZVImVMj+E7Fn72o6QqZrShKqgvOhR4I\r\n",
       "G/2+VGJbwmas8HyF+QuxohsmLxH/EbEcIjqRQs9FQmnH+3qcg25/6wct08R3fZaNUcQagF+A\r\n",
       "H4HvybHmr+Oun6TS2H8yyaBgRtvq95UuYcowQC4hL5AHyCoyg0yEzSJryA7yHD8QgyGnkG3k\r\n",
       "Gb6fwZALSBfZwsQHLITuYXW0QaaQfUzIYLH1h3WEHhPcxZoMhmTINWQXeRW2G32l6RYZi/gb\r\n",
       "mcGQOeQlVky3SAu5gzxGlpCzYUvIkxgrFDLIVWzOYEgHuQwyjRwgb6ItMBhyA3mExRIRGY+x\r\n",
       "6yVj97E5gyHryF0i8G8jZ6ItMBjyEIczGLKIRQaLWG3MYHGtPQXpYc5XSBuLLIW87s8Z8rFh\r\n",
       "fj1szmDIJA4wWMZHBkvPYA0O2D1szmDILazIYA2urivYnMHeXl01HEZNCkc4OoMh8+TFz3/P\r\n",
       "YMhKpMzaDBbp9ggTMlhUT/t1BIfQA0zMYBHzm7HC8xXmL8SKbpC6RBwQsRwiOpFCz0VCacf7\r\n",
       "epyDbn/rBy05g2VUYzD5HzAYmZUYrDRfJg0DvAS+AB+Aq+AMOBE2C66BO+Bz8AMxGJ4Ct8Fn\r\n",
       "4PsZDC+AXXALTMxgudA9sDqD4RS4DyZksHzrD+sIPSa4C9ZkMMzAa+Au+CpsN/rK0y2ORfyN\r\n",
       "zmA4B74EKzIYtsA74GNwCTwbtgQ+ibFiIYNXweYMhh3wMuA0eAC+ibbIYHgDfAQWS0Qcj7Hr\r\n",
       "JWP3weYMhuvgXSLwb4Nnoi0yGD4EhzMYLoJFBstjtTmD5dfaU8Ae2I7ONlhkKXzdnzPkY8P8\r\n",
       "emBzBsNJcIDBMj4yGMkZbPQDdg9szmB4C6zIYKNfXVfA5gzWv7pqOIyaFI7A0RkM58mLnwQM\r\n",
       "hiuRMuszWJ5uj8CEDJZXT/t1BIfQAzAxg+UxvxkrPF9h/kKs6AapS8QBEcshohMp9FwklHa8\r\n",
       "r8c56Pa3ftDSM1hGNQaTAoP9DZWcT12RU8a6AAAAAElFTkSuQmCC\r\n",
       "\"/></code>"
      ],
      "text/plain": [
       "(pict '(picture 43 60 (put 0 40 #0=(picture 43 20 (put 0 15/2 #1=(color \"red\" #2=(prog #<procedure:...t/private/utils.rkt:386:8> 5))) (put 9 0 #3=(picture 34 20 (put 0 5 #4=(color \"red\" #5=(prog #<procedure:...t/private/utils.rkt:386:8> 10))) (put 14 0 #6=(color \"red\" #7=(prog #<procedure:...t/private/utils.rkt:386:8> 20))))))) (put 0 0 #10=(picture 43 40 (put 0 20 #11=(picture 43 20 (put 0 15/2 #12=(color \"green\" #13=(prog #<procedure:...t/private/utils.rkt:386:8> 5))) (put 9 0 #14=(picture 34 20 (put 0 5 #15=(color \"green\" #16=(prog #<procedure:...t/private/utils.rkt:386:8> 10))) (put 14 0 #17=(color \"green\" #18=(prog #<procedure:...t/private/utils.rkt:386:8> 20))))))) (put 0 0 #21=(picture 43 20 (put 0 15/2 #22=(color \"blue\" #23=(prog #<procedure:...t/private/utils.rkt:386:8> 5))) (put 9 0 #24=(picture 34 20 (put 0 5 #25=(color \"blue\" #26=(prog #<procedure:...t/private/utils.rkt:386:8> 10))) (put 14 0 #27=(color \"blue\" #28=(prog #<procedure:...t/private/utils.rkt:386:8> 20)))))))))) 43 60 25/2 0 (list (child (pict #0# 43 20 25/2 0 (list (child (pict #1# 5 5 5 0 (list (child (pict #2# 5 5 5 0 '() #f #f) 0 0 1 1 0 0)) #f #f) 0 15/2 1 1 0 0) (child #9=(pict #3# 34 20 15 0 (list (child (pict #4# 10 10 10 0 (list (child (pict #5# 10 10 10 0 '() #f #f) 0 0 1 1 0 0)) #f #f) 0 5 1 1 0 0) (child #8=(pict #6# 20 20 20 0 (list (child (pict #7# 20 20 20 0 '() #f #f) 0 0 1 1 0 0)) #f #f) 14 0 1 1 0 0)) #f #8#) 9 0 1 1 0 0)) #f (list #9# #8#)) 0 40 1 1 0 0) (child #33=(pict #10# 43 40 25/2 0 (list (child (pict #11# 43 20 25/2 0 (list (child (pict #12# 5 5 5 0 (list (child (pict #13# 5 5 5 0 '() #f #f) 0 0 1 1 0 0)) #f #f) 0 15/2 1 1 0 0) (child #20=(pict #14# 34 20 15 0 (list (child (pict #15# 10 10 10 0 (list (child (pict #16# 10 10 10 0 '() #f #f) 0 0 1 1 0 0)) #f #f) 0 5 1 1 0 0) (child #19=(pict #17# 20 20 20 0 (list (child (pict #18# 20 20 20 0 '() #f #f) 0 0 1 1 0 0)) #f #f) 14 0 1 1 0 0)) #f #19#) 9 0 1 1 0 0)) #f (list #20# #19#)) 0 20 1 1 0 0) (child #31=(pict #21# 43 20 25/2 0 (list (child (pict #22# 5 5 5 0 (list (child (pict #23# 5 5 5 0 '() #f #f) 0 0 1 1 0 0)) #f #f) 0 15/2 1 1 0 0) (child #30=(pict #24# 34 20 15 0 (list (child (pict #25# 10 10 10 0 (list (child (pict #26# 10 10 10 0 '() #f #f) 0 0 1 1 0 0)) #f #f) 0 5 1 1 0 0) (child #29=(pict #27# 20 20 20 0 (list (child (pict #28# 20 20 20 0 '() #f #f) 0 0 1 1 0 0)) #f #f) 14 0 1 1 0 0)) #f #29#) 9 0 1 1 0 0)) #f #32=(list #30# #29#)) 0 0 1 1 0 0)) #f #34=(cons #31# #32#)) 0 0 1 1 0 0)) #f (cons #33# #34#))"
      ]
     },
     "execution_count": 15,
     "metadata": {},
     "output_type": "execute_result"
    }
   ],
   "source": [
    "(define (rgb-series mk)\n",
    "  (vc-append\n",
    "   (series (lambda (sz) (colorize (mk sz) \"red\")))\n",
    "   (series (lambda (sz) (colorize (mk sz) \"green\")))\n",
    "   (series (lambda (sz) (colorize (mk sz) \"blue\")))))\n",
    "\n",
    "(rgb-series circle)"
   ]
  },
  {
   "cell_type": "code",
   "execution_count": 16,
   "metadata": {},
   "outputs": [
    {
     "data": {
      "text/html": [
       "<code><img style=\"display: inline; vertical-align: baseline; padding: 0pt; margin: 0pt; border: 0pt\" src=\"data:image/png;base64,iVBORw0KGgoAAAANSUhEUgAAACsAAAA8CAYAAAD/jkPjAAABBElEQVRoge2ZwQ6DMAxD7Yof\r\n",
       "31f3mJ02Idg00xEVozypN0BPaUKxYEQgDfLUh7czH5ZNyWZhJbtIV6mDEsF/ZH5hVdkGsoOM\r\n",
       "1eqzpb7BAPZbvN3O0Tao96wJVrILgMdsCRVKHzI1YMfRTrDkk0nFqrIlm4WVrDZgg5z74jKr\r\n",
       "bMlmYSUrDRjFUQlUBnvTCHaCsVrXzWCIfQbbbudoG6j3qXi1wWyBI1jJ3i+D1YANIJ1g2SeT\r\n",
       "ilVlSzYLK9nUDHZ2CLOqbMlmYSWrZTB++EnygQhUBnvRSHQSsVoXzmDYfyNut3O0DdT7VLza\r\n",
       "YLbAEaxkb5jBasCOo2Ww5JNJxaqyJZuFlewTswBS2YVEP+cAAAAASUVORK5CYII=\r\n",
       "\"/></code>"
      ],
      "text/plain": [
       "(pict '(picture 43 60 (put 0 40 #0=(picture 43 20 (put 0 15/2 #1=(color \"red\" #2=(prog #<procedure:...t/private/utils.rkt:386:8> 5))) (put 9 0 #3=(picture 34 20 (put 0 5 #4=(color \"red\" #5=(prog #<procedure:...t/private/utils.rkt:386:8> 10))) (put 14 0 #6=(color \"red\" #7=(prog #<procedure:...t/private/utils.rkt:386:8> 20))))))) (put 0 0 #10=(picture 43 40 (put 0 20 #11=(picture 43 20 (put 0 15/2 #12=(color \"green\" #13=(prog #<procedure:...t/private/utils.rkt:386:8> 5))) (put 9 0 #14=(picture 34 20 (put 0 5 #15=(color \"green\" #16=(prog #<procedure:...t/private/utils.rkt:386:8> 10))) (put 14 0 #17=(color \"green\" #18=(prog #<procedure:...t/private/utils.rkt:386:8> 20))))))) (put 0 0 #21=(picture 43 20 (put 0 15/2 #22=(color \"blue\" #23=(prog #<procedure:...t/private/utils.rkt:386:8> 5))) (put 9 0 #24=(picture 34 20 (put 0 5 #25=(color \"blue\" #26=(prog #<procedure:...t/private/utils.rkt:386:8> 10))) (put 14 0 #27=(color \"blue\" #28=(prog #<procedure:...t/private/utils.rkt:386:8> 20)))))))))) 43 60 25/2 0 (list (child (pict #0# 43 20 25/2 0 (list (child (pict #1# 5 5 5 0 (list (child (pict #2# 5 5 5 0 '() #f #f) 0 0 1 1 0 0)) #f #f) 0 15/2 1 1 0 0) (child #9=(pict #3# 34 20 15 0 (list (child (pict #4# 10 10 10 0 (list (child (pict #5# 10 10 10 0 '() #f #f) 0 0 1 1 0 0)) #f #f) 0 5 1 1 0 0) (child #8=(pict #6# 20 20 20 0 (list (child (pict #7# 20 20 20 0 '() #f #f) 0 0 1 1 0 0)) #f #f) 14 0 1 1 0 0)) #f #8#) 9 0 1 1 0 0)) #f (list #9# #8#)) 0 40 1 1 0 0) (child #33=(pict #10# 43 40 25/2 0 (list (child (pict #11# 43 20 25/2 0 (list (child (pict #12# 5 5 5 0 (list (child (pict #13# 5 5 5 0 '() #f #f) 0 0 1 1 0 0)) #f #f) 0 15/2 1 1 0 0) (child #20=(pict #14# 34 20 15 0 (list (child (pict #15# 10 10 10 0 (list (child (pict #16# 10 10 10 0 '() #f #f) 0 0 1 1 0 0)) #f #f) 0 5 1 1 0 0) (child #19=(pict #17# 20 20 20 0 (list (child (pict #18# 20 20 20 0 '() #f #f) 0 0 1 1 0 0)) #f #f) 14 0 1 1 0 0)) #f #19#) 9 0 1 1 0 0)) #f (list #20# #19#)) 0 20 1 1 0 0) (child #31=(pict #21# 43 20 25/2 0 (list (child (pict #22# 5 5 5 0 (list (child (pict #23# 5 5 5 0 '() #f #f) 0 0 1 1 0 0)) #f #f) 0 15/2 1 1 0 0) (child #30=(pict #24# 34 20 15 0 (list (child (pict #25# 10 10 10 0 (list (child (pict #26# 10 10 10 0 '() #f #f) 0 0 1 1 0 0)) #f #f) 0 5 1 1 0 0) (child #29=(pict #27# 20 20 20 0 (list (child (pict #28# 20 20 20 0 '() #f #f) 0 0 1 1 0 0)) #f #f) 14 0 1 1 0 0)) #f #29#) 9 0 1 1 0 0)) #f #32=(list #30# #29#)) 0 0 1 1 0 0)) #f #34=(cons #31# #32#)) 0 0 1 1 0 0)) #f (cons #33# #34#))"
      ]
     },
     "execution_count": 16,
     "metadata": {},
     "output_type": "execute_result"
    }
   ],
   "source": [
    "(rgb-series square)"
   ]
  },
  {
   "cell_type": "code",
   "execution_count": 17,
   "metadata": {
    "scrolled": true
   },
   "outputs": [
    {
     "data": {
      "text/html": [
       "<code><img style=\"display: inline; vertical-align: baseline; padding: 0pt; margin: 0pt; border: 0pt\" src=\"data:image/png;base64,iVBORw0KGgoAAAANSUhEUgAAACsAAAA8CAYAAAD/jkPjAAAE+UlEQVRoge3awW9cVxUG8N8d\r\n",
       "x1GiOkhYiqAUVqmUZlux6QLHQVlaTZ1Q2ETQitQSmyzY8AfAxnHYI1hlh1gR1BW15dhBpEqg\r\n",
       "K0QTuwkLIBJBAsmJWLSLj8XcVMnMeObNeGakSrnS0Rvf+85539w5557zveOSxFRHKYdxDm/h\r\n",
       "dXwDwT/wEX6L65JPu3STTE+4EO6H34dL4WR4qcpr4b3wQfgknO/UnxbImXA13AsLDe4/HXbC\r\n",
       "WmhNG+zVsBW+PITOfNgOV6YHtv3T3x0K6POAd8Ly5MEyW/3vzAFsLIQH4XBrwrG/jL9JNke2\r\n",
       "kGzjAd6cNNi38Osx2PkNzk0a7Ov4wxjsbOObJZlgUihlD69IHh/QzjH8c9I7O9YxabAP8bUx\r\n",
       "2Pm6Kezsn7AwBjsLuDNpsNfxvTHYeRu/m0ZS2A3fPoCNxVr8HB5GqYSLYSM8qrJR50ofvfM1\r\n",
       "Zc6PmG53w7nm6ZZWuBZuh6VwvMpSuFPXWn3012pR0hxwG+jNsPp0rqniu+HDcKTH2pG69s6A\r\n",
       "L3ul7vBig+edqTu6OnyJyK1wts/62fDHBnaWK4j1sBJOhbkqp+rcRv1S5zr1m2WwUh7jZcmT\r\n",
       "fdbn8FDypQa2ZnXTGvg7/qx9glyXfNapemgw0s/HWPJyiUKXpF5bT+d6PazpOfsXvNFn/Y16\r\n",
       "T3+gygV8jPewqb27X8FXtcvJG1jBX4tyvstAeLVG3f/q9dVxB5iYEVfFPRnMwcRpsSPW5NkA\r\n",
       "a3Ojy+FovW6N++iqQLekObUR82JbnuVg7IW5Cmou7O0TySMlBXFB3B0GaAfgHWlzsJb2i4VL\r\n",
       "Snmp+tJHPf0t/WUfH53FKn4U+e8gn+520fwHl/DzohwWToQb4UnYDCd6fMOWuCZuiyVxvMqS\r\n",
       "uFPXutxAfFd8MOyO9rCzLr7TKlFKzJRolThUj5bO8QOcxELk/ci/q7yPb9W17/fQGysHUx3/\r\n",
       "sjhar10BJm7J/hlMnJXuDFZ99eQYdvY18TGxJ+0AE3PSHWDi8dN79jG2n96eODYGsMfE3ucB\r\n",
       "VvQPMGPKYAcZLfxQ27f+hTfr351j1Aw2Zg5WUpTMKGkpOaSkV4D9Ej8rypHOhTr303pP5xgr\r\n",
       "B0O2yGVytF57BdioR9fbYn1cRxeyR9oBJnOkZwYTRVwUG+JRlY061zODiVmxK6NzMLEo7kv7\r\n",
       "xVw7wIr+ATZCCot8hp/gF0WZH/a3rzq/wo8jnyInyA3yhGyS7gwmLXKN3CZL5HiVJXKnrvUr\r\n",
       "ZNZqUdKYg9W64KYMycHIu+RD0lUikiN17Z0+D26JK7UoWWwA9Ex1n9XnS8RmYG+R/TOYnCUD\r\n",
       "OZhYriDWxYo4VRPKXP28UuNgR0bkYKV4jJcTPTlYKebwMDGQg9VKbCAHq/7+3Jg6B6vn+EAO\r\n",
       "1utp0+VgRXMOVvTgYNMIMJkhV8k9MpiDyWmyQ9aePWWagj3Y0dUGukWaczCZJ9tk+D4YKeQi\r\n",
       "2SCPqmzUuf05mFwgd4cB2gF4h0y+D0ZmySdk5D4YWSAPyHT6YInNUQ0kXvTBeo0vTh+sFHt4\r\n",
       "JXGgPlgpXvTBOseLPtikxhenD1aTwi4ZnYPJIrlPhuiDjf6w8zVlDt0Hq+l2lwzRBzs44LVa\r\n",
       "lDTnYG2gN8mQfbCDg22RK3WHFxvcf6bu6OrQJeIYQS9XEOtkhZzSflcxVz+v1Epu5+lP/6xM\r\n",
       "9j85eoxSNONg0cXB/g/mN4mMcYqgVgAAAABJRU5ErkJggg==\r\n",
       "\"/></code>"
      ],
      "text/plain": [
       "(pict '(picture 43 60 (put 0 45/2 #0=(picture 5 15 (put 0 10 #1=(color \"red\" #2=(prog #<procedure:...t/private/utils.rkt:386:8> 5))) (put 0 0 #3=(picture 5 10 (put 0 5 #4=(color \"green\" #5=(prog #<procedure:...t/private/utils.rkt:386:8> 5))) (put 0 0 #6=(color \"blue\" #7=(prog #<procedure:...t/private/utils.rkt:386:8> 5))))))) (put 9 0 #10=(picture 34 60 (put 0 15 #11=(picture 10 30 (put 0 20 #12=(color \"red\" #13=(prog #<procedure:...t/private/utils.rkt:386:8> 10))) (put 0 0 #14=(picture 10 20 (put 0 10 #15=(color \"green\" #16=(prog #<procedure:...t/private/utils.rkt:386:8> 10))) (put 0 0 #17=(color \"blue\" #18=(prog #<procedure:...t/private/utils.rkt:386:8> 10))))))) (put 14 0 #21=(picture 20 60 (put 0 40 #22=(color \"red\" #23=(prog #<procedure:...t/private/utils.rkt:386:8> 20))) (put 0 0 #24=(picture 20 40 (put 0 20 #25=(color \"green\" #26=(prog #<procedure:...t/private/utils.rkt:386:8> 20))) (put 0 0 #27=(color \"blue\" #28=(prog #<procedure:...t/private/utils.rkt:386:8> 20)))))))))) 43 60 20 0 (list (child (pict #0# 5 15 5 0 (list (child (pict #1# 5 5 5 0 (list (child (pict #2# 5 5 5 0 '() #f #f) 0 0 1 1 0 0)) #f #f) 0 10 1 1 0 0) (child #9=(pict #3# 5 10 5 0 (list (child (pict #4# 5 5 5 0 (list (child (pict #5# 5 5 5 0 '() #f #f) 0 0 1 1 0 0)) #f #f) 0 5 1 1 0 0) (child #8=(pict #6# 5 5 5 0 (list (child (pict #7# 5 5 5 0 '() #f #f) 0 0 1 1 0 0)) #f #f) 0 0 1 1 0 0)) #f #8#) 0 0 1 1 0 0)) #f (list #9# #8#)) 0 45/2 1 1 0 0) (child #33=(pict #10# 34 60 20 0 (list (child (pict #11# 10 30 10 0 (list (child (pict #12# 10 10 10 0 (list (child (pict #13# 10 10 10 0 '() #f #f) 0 0 1 1 0 0)) #f #f) 0 20 1 1 0 0) (child #20=(pict #14# 10 20 10 0 (list (child (pict #15# 10 10 10 0 (list (child (pict #16# 10 10 10 0 '() #f #f) 0 0 1 1 0 0)) #f #f) 0 10 1 1 0 0) (child #19=(pict #17# 10 10 10 0 (list (child (pict #18# 10 10 10 0 '() #f #f) 0 0 1 1 0 0)) #f #f) 0 0 1 1 0 0)) #f #19#) 0 0 1 1 0 0)) #f (list #20# #19#)) 0 15 1 1 0 0) (child #31=(pict #21# 20 60 20 0 (list (child (pict #22# 20 20 20 0 (list (child (pict #23# 20 20 20 0 '() #f #f) 0 0 1 1 0 0)) #f #f) 0 40 1 1 0 0) (child #30=(pict #24# 20 40 20 0 (list (child (pict #25# 20 20 20 0 (list (child (pict #26# 20 20 20 0 '() #f #f) 0 0 1 1 0 0)) #f #f) 0 20 1 1 0 0) (child #29=(pict #27# 20 20 20 0 (list (child (pict #28# 20 20 20 0 '() #f #f) 0 0 1 1 0 0)) #f #f) 0 0 1 1 0 0)) #f #29#) 0 0 1 1 0 0)) #f #32=(list #30# #29#)) 14 0 1 1 0 0)) #f #34=(cons #31# #32#)) 9 0 1 1 0 0)) #f (cons #33# #34#))"
      ]
     },
     "execution_count": 17,
     "metadata": {},
     "output_type": "execute_result"
    }
   ],
   "source": [
    "(define (rgb-maker mk)\n",
    "  (lambda (sz)\n",
    "    (vc-append (colorize (mk sz) \"red\")\n",
    "               (colorize (mk sz) \"green\")\n",
    "               (colorize (mk sz) \"blue\"))))\n",
    "\n",
    "(series (rgb-maker circle))"
   ]
  }
 ],
 "metadata": {
  "kernelspec": {
   "display_name": "Racket",
   "language": "racket",
   "name": "racket"
  },
  "language_info": {
   "codemirror_mode": "scheme",
   "file_extension": ".rkt",
   "mimetype": "text/x-racket",
   "name": "Racket",
   "pygments_lexer": "racket",
   "version": "8.0"
  }
 },
 "nbformat": 4,
 "nbformat_minor": 1
}
