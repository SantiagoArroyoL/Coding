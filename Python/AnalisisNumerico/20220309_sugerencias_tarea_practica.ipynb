{
 "cells": [
  {
   "cell_type": "markdown",
   "metadata": {
    "id": "Mh2cVSfOOKLu"
   },
   "source": [
    "## Ejercicio 1\n",
    "\n",
    "Para este ejercicio les recomiendo usar un ciclo for y comparar el valor exacto del factorial de n (número natural) con la aproximación de Stirling. Dentro del ciclo for implementen la aproximación de Stirling y las instrucciones necesarias para el cálculo de errores."
   ]
  },
  {
   "cell_type": "code",
   "execution_count": 16,
   "metadata": {
    "colab": {
     "base_uri": "https://localhost:8080/"
    },
    "id": "vYkFvBT6ODSt",
    "outputId": "851066f2-ed85-4f2e-9355-d86781ea32c3"
   },
   "outputs": [
    {
     "name": "stdout",
     "output_type": "stream",
     "text": [
      "Introduce un número natural, n = 6\n",
      "El factorial de  1  es:  1\n",
      "El factorial de  2  es:  2\n",
      "El factorial de  3  es:  6\n",
      "El factorial de  4  es:  24\n",
      "El factorial de  5  es:  120\n",
      "El factorial de  6  es:  720\n"
     ]
    }
   ],
   "source": [
    "#Cálculo de el factorial de un número natural\n",
    "from math import*\n",
    "n = int(input('Introduce un número natural, n = ', ))\n",
    "\n",
    "k = 1\n",
    "for i in range(n):\n",
    "  k = k*(i+1)       #Recuerden que los valores que tomará i van de 0 a n-1\n",
    "  print('El factorial de ',i+1,' es: ', k)"
   ]
  },
  {
   "cell_type": "markdown",
   "metadata": {
    "id": "UzMePuxiPqo0"
   },
   "source": [
    "## Ejercicio 2.\n",
    "\n",
    "En la redacción de este ejercicio hay un error, la ecuación correcta es:\n",
    "\n",
    "# $$L_{2n} = \\sqrt{2-\\sqrt{4-L_{n}^2}}.$$\n",
    "\n",
    "Para este ejercicio les recomiendo usar un ciclo for. Dentro del ciclo for implementen las instrucciones necesarias para calcular errores, considerando el valor exacto de pi como el valor dado por la computadora.\n"
   ]
  },
  {
   "cell_type": "code",
   "execution_count": 15,
   "metadata": {
    "colab": {
     "base_uri": "https://localhost:8080/"
    },
    "id": "NlG5Q_EVTDeG",
    "outputId": "4c68259c-f5e9-4480-ada8-9f889d7add1a"
   },
   "outputs": [
    {
     "name": "stdout",
     "output_type": "stream",
     "text": [
      "12  aproximación de pi, pi es aprox.  3.1058285412302498\n",
      "24  aproximación de pi, pi es aprox.  3.132628613281237\n",
      "48  aproximación de pi, pi es aprox.  3.139350203046872\n",
      "96  aproximación de pi, pi es aprox.  3.14103195089053\n"
     ]
    }
   ],
   "source": [
    "#Este es un ejemplo de como se puede comenzar a formular la rutina deseada.\n",
    "\n",
    "L = 1   #Para n = 6 , L = 1; este es el valor con el que comenzaremos a hacer los cálculos.\n",
    "\n",
    "\n",
    "for i in range(1,5):  #i tomará los valores de 1 hasta 4 (pueden modificar el código para que i tome los valores de 1 hasta 20).\n",
    "  L = sqrt(2 - sqrt(4 - L**2))   #Valor de L calculado de forma iterativa.\n",
    "  n = 6*2**i                     #Valor de n = 6 x 2^i\n",
    "  p = n*L/2                      #Aproximación de pi\n",
    "  print(n,' aproximación de pi, pi es aprox. ', p)"
   ]
  },
  {
   "cell_type": "markdown",
   "metadata": {
    "id": "xg3zxz9MWF-U"
   },
   "source": [
    "Para el inciso b) de este ejercicio noten que la expresión:\n",
    "\n",
    "# $$ 2-\\sqrt{4-L_{n}^2} $$\n",
    "\n",
    "tiene la forma $ b-\\sqrt{b^2 - a}$.\n"
   ]
  }
 ],
 "metadata": {
  "colab": {
   "name": "20220309-sugerencias-tarea-practica.ipynb",
   "provenance": []
  },
  "kernelspec": {
   "display_name": "Python 3",
   "language": "python",
   "name": "python3"
  },
  "language_info": {
   "codemirror_mode": {
    "name": "ipython",
    "version": 3
   },
   "file_extension": ".py",
   "mimetype": "text/x-python",
   "name": "python",
   "nbconvert_exporter": "python",
   "pygments_lexer": "ipython3",
   "version": "3.8.8"
  }
 },
 "nbformat": 4,
 "nbformat_minor": 1
}
