{
 "cells": [
  {
   "cell_type": "markdown",
   "metadata": {
    "id": "p9hIbgL4gfL8"
   },
   "source": [
    "# El Problema de la caja de fósforos de Banach"
   ]
  },
  {
   "cell_type": "markdown",
   "metadata": {
    "id": "pude6G4dgoJK"
   },
   "source": [
    "El célebre matemático polaco Stefan Banach solía reunirse con otros matemáticos en el Café Escocés en Lwów, Polonia, en donde había un cuaderno en el cual se anotaban los problemas planteados y sus soluciones. Esta libreta se conoce como el Libro Escocés. (El siguiente es el último problema incluido en este libro).\n",
    "\n",
    "En todo momento, Banach lleva $2$ cajas de fósforos: $1$ en su bolsillo izquierdo y $1$ en su bolsillo derecho. Cada vez que necesita un fósforo, es igualmente probable que lo saque de cualquier bolsillo. Considere el momento en que Banach descubre por primera vez que una de sus cajas de fósforos está vacía. <font color=red>Banach descubre que alguna de las cajetillas está vacía solo cuando vuelve a abrirla una vez que ésta se ha vaciado la última vez que abrió la misma caja.</font>\n",
    " \n",
    "1. Si se supone que ambas cajas de fósforos inicialmente contenían $N$ fósforos, ¿cuál es la probabilidad de que haya exactamente $k$ fósforos, $k=0,1,\\dots, N$, en la otra caja?\n",
    "2.\tResuelve el problema de la caja de fósforos de Banach cuando la caja de fósforos de la izquierda contenía originalmente $N_1$ fósforos y la caja de la derecha contenía $N_2$ fósforos.\n",
    "3.\tEncuentra la probabilidad de que, en el momento en que se vacía la primera caja (en lugar de decubrirse vacía), la otra caja contenga exactamente $k$ fósforos.\n",
    "\n"
   ]
  },
  {
   "cell_type": "markdown",
   "metadata": {
    "id": "oTo4yIBeRi8y"
   },
   "source": [
    "## Simulación en Python"
   ]
  },
  {
   "cell_type": "code",
   "execution_count": 2,
   "metadata": {
    "id": "OcVDutYjRi8y",
    "outputId": "e60ea30d-21b9-4462-e2a2-aa9e549c81b8"
   },
   "outputs": [
    {
     "name": "stdout",
     "output_type": "stream",
     "text": [
      "[0, 0, 0, 0, 0, 0, 0, 0, 0, 0]\n",
      "[1, 1, 1, 1, 1, 1, 1, 1, 1, 1]\n"
     ]
    }
   ],
   "source": [
    "n=10 # el número de fósforos en las cajetillas\n",
    "\n",
    "#c0=[0 for i in range(n)]\n",
    "\n",
    "c0=[0,]*n # la cajita de fósforos 0\n",
    "c1=[1,]*n # la cajita de fósforos 1\n",
    "\n",
    "print(c0)\n",
    "print(c1)"
   ]
  },
  {
   "cell_type": "code",
   "execution_count": 3,
   "metadata": {
    "id": "BjAdmhXfRi80",
    "outputId": "670052b5-5ca1-4138-d0c6-5b2c76da0461"
   },
   "outputs": [
    {
     "name": "stdout",
     "output_type": "stream",
     "text": [
      "[0, 0, 0, 0, 0, 0, 0, 0, 0]\n",
      "[1, 1, 1, 1, 1, 1, 1, 1, 1, 1]\n"
     ]
    }
   ],
   "source": [
    "import random\n",
    "\n",
    "n=10 # el número de fósforos en las cajetillas\n",
    "\n",
    "#c0=[0 for i in range(n)]\n",
    "\n",
    "c0=[0,]*n # la cajita de fósforos 0\n",
    "c1=[1,]*n # la cajita de fósforos 1\n",
    "\n",
    "c=[c0,c1]\n",
    "\n",
    "p=random.choice(c) # Elegimos una de las cajitas\n",
    "e=random.choice(p) # Elegimos un fósforo de la cajita elegida antes\n",
    "\n",
    "if e==0:\n",
    "    c0.remove(e)\n",
    "else:\n",
    "    c1.remove(e)\n",
    "    \n",
    "print(c0)\n",
    "print(c1)\n"
   ]
  },
  {
   "cell_type": "code",
   "execution_count": 4,
   "metadata": {
    "id": "OyU0iT7lRi80",
    "outputId": "c17b65b1-4919-47fe-d344-2590d0a49550"
   },
   "outputs": [
    {
     "name": "stdout",
     "output_type": "stream",
     "text": [
      "[0, 0]\n",
      "[]\n"
     ]
    }
   ],
   "source": [
    "import random\n",
    "\n",
    "n=10 # el número de fósforos en las cajetillas\n",
    "\n",
    "#c0=[0 for i in range(n)]\n",
    "\n",
    "c0=[0,]*n # la cajita de fósforos 0\n",
    "c1=[1,]*n # la cajita de fósforos 1\n",
    "\n",
    "c=[c0,c1]\n",
    "\n",
    "#while len(c0)>0 and len(c1)>0: \n",
    "while c0 and c1:\n",
    "    e=random.choice(random.choice(c))\n",
    "    if e==0:\n",
    "        c0.remove(e)\n",
    "    else:\n",
    "        c1.remove(e)\n",
    "        \n",
    "    c=[c0,c1]\n",
    "        \n",
    "print(c0)\n",
    "print(c1)"
   ]
  },
  {
   "cell_type": "markdown",
   "metadata": {
    "id": "vTnW0mF3Ri80"
   },
   "source": [
    "cuántos fósforos usa Banach?"
   ]
  },
  {
   "cell_type": "code",
   "execution_count": 5,
   "metadata": {
    "id": "gRQdAtQFRi80",
    "outputId": "6a0f18b9-509e-4b3d-ec5e-0ff9b24b90f4"
   },
   "outputs": [
    {
     "name": "stdout",
     "output_type": "stream",
     "text": [
      "[]\n",
      "[1, 1, 1, 1, 1]\n",
      "15\n"
     ]
    }
   ],
   "source": [
    "import random\n",
    "\n",
    "n=10 # el número de fósforos en las cajetillas\n",
    "\n",
    "#c0=[0 for i in range(n)]\n",
    "\n",
    "c0=[0,]*n # la cajita de fósforos 0\n",
    "c1=[1,]*n # la cajita de fósforos 1\n",
    "\n",
    "c=[c0,c1]\n",
    "\n",
    "# Hay que poner un contador de fósforos usados\n",
    "t=0\n",
    "\n",
    "#while len(c0)>0 and len(c1)>0: \n",
    "while c0 and c1:\n",
    "    e=random.choice(random.choice(c))\n",
    "    if e==0:\n",
    "        c0.remove(e)\n",
    "    else:\n",
    "        c1.remove(e)\n",
    "        \n",
    "    c=[c0,c1]\n",
    "    t+=1\n",
    "        \n",
    "print(c0)\n",
    "print(c1)\n",
    "print(t)"
   ]
  },
  {
   "cell_type": "code",
   "execution_count": 6,
   "metadata": {
    "id": "tV9yZ-bfRi80"
   },
   "outputs": [],
   "source": [
    "import random\n",
    "\n",
    "def banach(n):\n",
    "    c0=[0,]*n # la cajita de fósforos 0\n",
    "    c1=[1,]*n # la cajita de fósforos 1\n",
    "    c=[c0,c1]\n",
    "    t=0\n",
    "    while c0 and c1:\n",
    "        e=random.choice(random.choice(c))\n",
    "        if e==0:\n",
    "            c0.remove(e)\n",
    "        else:\n",
    "            c1.remove(e)\n",
    "\n",
    "        c=[c0,c1]\n",
    "        t+=1\n",
    "        \n",
    "    if c0:\n",
    "        return 0,t,len(c0)\n",
    "    else:\n",
    "        return 1,t,len(c1)\n",
    "    \n"
   ]
  },
  {
   "cell_type": "code",
   "execution_count": 7,
   "metadata": {
    "id": "EoDLRH_GRi80",
    "outputId": "01c11555-eb70-437a-f76b-0add0f9b1435"
   },
   "outputs": [
    {
     "name": "stdout",
     "output_type": "stream",
     "text": [
      "Banach usó 14 fósforos antes de vaciar la cajetilla 1\n",
      "La cajita 0 quedó con 6 fosforos\n"
     ]
    }
   ],
   "source": [
    "B=banach(10)\n",
    "\n",
    "print(\"Banach usó\",B[1],\"fósforos antes de vaciar la cajetilla\",1-B[0])\n",
    "print(\"La cajita\",B[0],\"quedó con\",B[2],\"fosforos\")"
   ]
  },
  {
   "cell_type": "markdown",
   "metadata": {
    "id": "ZVP_ws7nRi80"
   },
   "source": [
    "Pero el problema es muy específico: No se trata de saber cuántas cerillas (o cuantos cigarros) ha usado Banach, sino el momento en que Banach descubre que alguna de las cajetillas se ha vacíado."
   ]
  },
  {
   "cell_type": "markdown",
   "metadata": {
    "id": "y9jM5zWlRi80"
   },
   "source": [
    "Cualquiera de las cajetillas puede quedar vacía y Banach puede incluso seguir usando fósforos de la otra caja y seguir fumando, mientras no sé de cuenta de que una caja está vacía."
   ]
  },
  {
   "cell_type": "code",
   "execution_count": 8,
   "metadata": {
    "executionInfo": {
     "elapsed": 633,
     "status": "ok",
     "timestamp": 1605835909600,
     "user": {
      "displayName": "Guillermo Garro Gómez",
      "photoUrl": "https://lh3.googleusercontent.com/a-/AOh14GgnJlgTZTdV5ATYtGt1MFyRpJ3mQdPl85sTIHfu=s64",
      "userId": "02582274975258674112"
     },
     "user_tz": 360
    },
    "id": "t8mGi6LiRi80"
   },
   "outputs": [],
   "source": [
    "import random\n",
    "\n",
    "def banach(n):\n",
    "    c0=[0,]*(n+1) # la cajita de fósforos 0\n",
    "    c1=[1,]*(n+1) # la cajita de fósforos 1\n",
    "    c=[c0,c1]\n",
    "    # contador del momento en que Banach descubre que alguna de las cajitas está vacía\n",
    "    t=0\n",
    "    while c0 and c1:\n",
    "        e=random.choice(random.choice(c))\n",
    "        if e==0:\n",
    "            c0.remove(e)\n",
    "        else:\n",
    "            c1.remove(e)\n",
    "\n",
    "        c=[c0,c1]\n",
    "        t+=1\n",
    "        \n",
    "    if c0:\n",
    "        return 0,t,len(c0)-1\n",
    "    else:\n",
    "        return 1,t,len(c1)-1"
   ]
  },
  {
   "cell_type": "code",
   "execution_count": 9,
   "metadata": {
    "colab": {
     "base_uri": "https://localhost:8080/"
    },
    "executionInfo": {
     "elapsed": 625,
     "status": "ok",
     "timestamp": 1605835922304,
     "user": {
      "displayName": "Guillermo Garro Gómez",
      "photoUrl": "https://lh3.googleusercontent.com/a-/AOh14GgnJlgTZTdV5ATYtGt1MFyRpJ3mQdPl85sTIHfu=s64",
      "userId": "02582274975258674112"
     },
     "user_tz": 360
    },
    "id": "PUB5WX-MRi80",
    "outputId": "136d1496-4faa-4f47-c8c3-0549a7be8bcb"
   },
   "outputs": [
    {
     "name": "stdout",
     "output_type": "stream",
     "text": [
      "Banach intentó sacar 18 fósfortos antes de darse cuenta que había vaciado la cajetilla 0\n",
      "La cajetilla 1 quedó con 3 fósforo\n"
     ]
    }
   ],
   "source": [
    "B=banach(10)\n",
    "\n",
    "print(\"Banach intentó sacar\", B[1],\"fósfortos antes de darse cuenta que había vaciado la cajetilla\",abs(B[0]-1))\n",
    "print(\"La cajetilla\",B[0],\"quedó con\",B[2],\"fósforo\")"
   ]
  },
  {
   "cell_type": "markdown",
   "metadata": {
    "id": "lEEZoCIRRi80"
   },
   "source": [
    "## Ejercicio"
   ]
  },
  {
   "cell_type": "markdown",
   "metadata": {
    "id": "yH-xLlOfRi80"
   },
   "source": [
    "Agregar un contador que cuente el momento en que Banach se da cuenta de que alguna de las cajitas de fósforos queda vacía."
   ]
  },
  {
   "cell_type": "code",
   "execution_count": 10,
   "metadata": {},
   "outputs": [],
   "source": [
    "import random\n",
    "\n",
    "'''\n",
    "Esta función hará todo el trabajo por nosotros\n",
    "@param n Es el número de cerillos con el que se llevará a cabo la simualción\n",
    "@return Un diccionario que contiene los datos del experimento\n",
    "'''\n",
    "def banach(n):\n",
    "    c0=[0,]*(n+1) # La cajita de fósforos 0\n",
    "    c1=[1,]*(n+1) # la cajita de fósforos 1\n",
    "    c = [c0,c1]\n",
    "    t = 0\n",
    "    while c0 and c1:\n",
    "        #Elegimos una cajita y de ella el cerillo\n",
    "        e = random.choice(random.choice(c)) \n",
    "        #Vamos removiendo cerillos hasta que la caja se vacíe\n",
    "        if e==0:\n",
    "            c0.remove(e)\n",
    "        else:\n",
    "            c1.remove(e)\n",
    "        c=[c0,c1] \n",
    "        t +=1\n",
    "    \n",
    "    if c0:\n",
    "        return 0,t,len(c0)-1\n",
    "    else:\n",
    "        return 1,t,len(c1)-1"
   ]
  },
  {
   "cell_type": "code",
   "execution_count": 11,
   "metadata": {},
   "outputs": [
    {
     "name": "stdout",
     "output_type": "stream",
     "text": [
      "Banach usó 18 fósforos antes de vaciar la cajita 0\n",
      "La cajita 1 quedó con 2 fósforos\n",
      "Banach se dio cuenta de que la cajita 0 se quedó vacía cuando quiso sacar el 19 -avo fósforo\n",
      "(Que no pudo sacarlo porque la cajita 0 ya estaba vacía)\n"
     ]
    }
   ],
   "source": [
    "B = banach(10)\n",
    "\n",
    "print(\"Banach usó\", B[1]-1, \"fósforos antes de vaciar la cajita\", 1-B[0])\n",
    "print(\"La cajita\", B[0], \"quedó con\", B[2], \"fósforos\")\n",
    "print(\"Banach se dio cuenta de que la cajita\", 1-B[0], \"se quedó vacía cuando quiso sacar el\", B[1],\"-avo fósforo\")\n",
    "print(\"(Que no pudo sacarlo porque la cajita\", 1-B[0], \"ya estaba vacía)\")"
   ]
  },
  {
   "cell_type": "markdown",
   "metadata": {
    "id": "fXjxNQ7pRi80"
   },
   "source": [
    "## Ejercicio"
   ]
  },
  {
   "cell_type": "markdown",
   "metadata": {
    "id": "xeaURctARi80"
   },
   "source": [
    "Haz un gráfico de barras para un número arbitrario $n$ de simulaciones de este problema (considera un número de fósforos fijo igual a $10$). Cada barra debe reprersentar la frecuencia relativa de la cantidad de cerillos restantes que quedan en la caja no vacía. Observése que una vez que alguna de las cajas se ha vaciado, en la otra caja solo puede quedar 0 o bien 1, 2, 3, 4, 5, 6, 7, 8, 9 ó 10 cerillas. Tienes hasta la media noche de hoy."
   ]
  },
  {
   "cell_type": "code",
   "execution_count": 7,
   "metadata": {
    "id": "jjvvcaQBRi80"
   },
   "outputs": [
    {
     "name": "stdout",
     "output_type": "stream",
     "text": [
      "dict_items([(('4', 'fósforos'), 6087), (('0', 'fósforos'), 8813), (('1', 'fósforos'), 8762), (('3', 'fósforos'), 7566), (('2', 'fósforos'), 8298), (('5', 'fósforos'), 4515), (('8', 'fósforos'), 847), (('7', 'fósforos'), 1733), (('6', 'fósforos'), 3077), (('9', 'fósforos'), 255), (('10', 'fósforos'), 47)])\n",
      "\n",
      "[(('0', 'fósforos'), 8813), (('1', 'fósforos'), 8762), (('10', 'fósforos'), 47), (('2', 'fósforos'), 8298), (('3', 'fósforos'), 7566), (('4', 'fósforos'), 6087), (('5', 'fósforos'), 4515), (('6', 'fósforos'), 3077), (('7', 'fósforos'), 1733), (('8', 'fósforos'), 847), (('9', 'fósforos'), 255)]\n"
     ]
    }
   ],
   "source": [
    "import random\n",
    "from collections import defaultdict\n",
    "\n",
    "n=50000 # número total de repeticiones (Número arbitrario de simulaciones del problema)\n",
    "r=0      # repetición actual\n",
    "f=10\n",
    "F = defaultdict(int)\n",
    "\n",
    "while r<n:\n",
    "    c0=[0,]*(f+1) # La cajita de fósforos 0 PUNTO CLAVE\n",
    "    c1=[1,]*(f+1) # la cajita de fósforos 1\n",
    "    c = [c0,c1]\n",
    "    t=0\n",
    "    while c0 and c1: #Esto es más rápido, Python ya sabe lo que quieres hacer :o\n",
    "        e = random.choice(random.choice(c)) #Primero elije una cajita, y de esa cajita sale un cerillo\n",
    "        if e==0:\n",
    "            c0.remove(e)\n",
    "        else:\n",
    "            c1.remove(e)\n",
    "        c=[c0,c1] #Y después se actualiza la lista de cajitas, y se repite hasta que alguna caja \"se vacíe\"\n",
    "        t +=1\n",
    "    \n",
    "    if c0: #Esto es igual a \"if len(c0)>0:\"\n",
    "        a = [0,t,len(c0)-1]\n",
    "    else:\n",
    "        a = [1,t,len(c1)-1]\n",
    "    #print(\"La cajita de fósforos no vacía se quedó con\", a[2], \"fósforos.\") #Esta línea se repite por cada valor de \"n\"\n",
    "    S = (str(a[2]), \"fósforos\")\n",
    "    S = tuple(S)\n",
    "    F[S] +=1\n",
    "    r+=1\n",
    "\n",
    "print(F.items())\n",
    "F=sorted(F.items())\n",
    "print()\n",
    "print(F)"
   ]
  },
  {
   "cell_type": "code",
   "execution_count": 13,
   "metadata": {},
   "outputs": [
    {
     "data": {
      "image/png": "[encoded data removed]",
      "text/plain": [
       "<Figure size 432x288 with 1 Axes>"
      ]
     },
     "metadata": {
      "needs_background": "light"
     },
     "output_type": "display_data"
    }
   ],
   "source": [
    "#Usamos el código que ya conocíamos para graficar:\n",
    "import matplotlib.pyplot as plt\n",
    "fig = plt.figure()\n",
    "ax = fig.add_axes([0,0,2,1])\n",
    "resultado = [str(i) for i,j in F]\n",
    "resultado.sort()\n",
    "frecuencia = [j for i,j in F]\n",
    "frecuencia.sort()\n",
    "ax.bar(resultado,frecuencia)\n",
    "plt.xlabel(\"$Cantidad \\;de\\; Fósforos$\",fontsize=14)\n",
    "plt.title(\"Frecuencias en \"+str(r)+\" repeticiones\")\n",
    "plt.show()"
   ]
  },
  {
   "cell_type": "code",
   "execution_count": 12,
   "metadata": {},
   "outputs": [
    {
     "data": {
      "image/png": "[encoded data removed]",
      "text/plain": [
       "<Figure size 432x288 with 1 Axes>"
      ]
     },
     "metadata": {
      "needs_background": "light"
     },
     "output_type": "display_data"
    }
   ],
   "source": [
    "import random\n",
    "import matplotlib.pyplot as plt\n",
    "\n",
    "\n",
    "def banach(n):\n",
    "    c0=[0,]*(n+1) # la cajita de fósforos 0\n",
    "    c1=[1,]*(n+1) # la cajita de fósforos 1\n",
    "    c=[c0,c1]\n",
    "    # contador del momento en que Banach descubre que alguna de las cajitas está vacía\n",
    "    t=0\n",
    "    while c0 and c1:\n",
    "        e=random.choice(random.choice(c))\n",
    "        if e==0:\n",
    "            c0.remove(e)\n",
    "        else:\n",
    "            c1.remove(e)\n",
    "\n",
    "        c=[c0,c1]\n",
    "        t+=1\n",
    "        \n",
    "    if c0:\n",
    "        return 0,t,len(c0)-1\n",
    "    else:\n",
    "        return 1,t,len(c1)-1\n",
    "\n",
    "\n",
    "n = 10 \n",
    "frecuencias = {i:0 for i in range(0, 11)}\n",
    "simulaciones = 50000 \n",
    "\n",
    "for i in range(0, simulaciones): \n",
    "  B = banach(n)\n",
    "  frecuencias[B[2]]+=1\n",
    "\n",
    "for var in frecuencias: \n",
    "  frecuencias[var] = frecuencias[var]/simulaciones \n",
    "\n",
    "plt.scatter(x=frecuencias.keys(), y=frecuencias.values())\n",
    "plt.ylim(-0.1,0.25)\n",
    "plt.grid()\n",
    "plt.xlabel(\"$Cantidad \\;de\\; Fósforos$\",fontsize=14)\n",
    "plt.ylabel(\"$F$\",fontsize=14)\n",
    "plt.title(\"Frecuencias Relativas\",fontsize=14)\n",
    "plt.show()"
   ]
  }
 ],
 "metadata": {
  "colab": {
   "collapsed_sections": [],
   "name": "La caja de fósforos de Banach.ipynb",
   "provenance": []
  },
  "kernelspec": {
   "display_name": "Python 3",
   "language": "python",
   "name": "python3"
  },
  "language_info": {
   "codemirror_mode": {
    "name": "ipython",
    "version": 3
   },
   "file_extension": ".py",
   "mimetype": "text/x-python",
   "name": "python",
   "nbconvert_exporter": "python",
   "pygments_lexer": "ipython3",
   "version": "3.7.6"
  }
 },
 "nbformat": 4,
 "nbformat_minor": 1
}
