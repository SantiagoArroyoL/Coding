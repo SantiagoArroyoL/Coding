{
 "cells": [
  {
   "cell_type": "markdown",
   "metadata": {},
   "source": [
    "# Ejercicio 2 - Tarea 2 Parte 3\n",
    "## Simulación del ejericio 7 - Usando los parámetros que elijas, calcula $P(Z \\leq 10).$"
   ]
  },
  {
   "cell_type": "markdown",
   "metadata": {},
   "source": [
    "Demostramos en la parte 1 de la tarea que \n",
    "\\begin{equation*}\n",
    "    \\boxed{\\mathbb{P}(Z = k) = \\frac{p^k \\theta^k e^{-p \\theta}}{k!}}\n",
    "\\end{equation*}\n",
    "Definiéndolo en Python:"
   ]
  },
  {
   "cell_type": "code",
   "execution_count": 19,
   "metadata": {},
   "outputs": [],
   "source": [
    "import math\n",
    "'''\n",
    "Definimos una función que reciba de parámetros:\n",
    "p - probabilidad de que cada huevo eclosione\n",
    "t - intensidad de la distribución Poisson theta\n",
    "k - El número de huevos\n",
    "Esta función representa la probabilidad de el evento Z (que eclosionen huevos) evaluada en k\n",
    "'''\n",
    "def eclosiona(p,t,k): \n",
    "     return ((p**k)*(t**k)*(math.e**(-p*t)))/math.factorial(k)"
   ]
  },
  {
   "cell_type": "markdown",
   "metadata": {},
   "source": [
    "Hagamos la simulación que se nos pide, en particular cuando $Z \\leq 10$, que como sabemos, es: \n",
    "$$\n",
    "    \\sum_{i=1}^{10} \\mathbb{P}(Z=i)\n",
    "$$\n",
    "Simulando:"
   ]
  },
  {
   "cell_type": "code",
   "execution_count": 26,
   "metadata": {},
   "outputs": [
    {
     "name": "stdout",
     "output_type": "stream",
     "text": [
      "La ley de Z es:\n"
     ]
    },
    {
     "data": {
      "text/plain": [
       "{0: 0.5488116360940265,\n",
       " 1: 0.3292869816564159,\n",
       " 2: 0.09878609449692477,\n",
       " 3: 0.019757218899384952,\n",
       " 4: 0.002963582834907743,\n",
       " 5: 0.0003556299401889291,\n",
       " 6: 3.556299401889291e-05,\n",
       " 7: 3.0482566301908205e-06,\n",
       " 8: 2.286192472643115e-07,\n",
       " 9: 1.5241283150954104e-08,\n",
       " 10: 9.14476989057246e-10}"
      ]
     },
     "execution_count": 26,
     "metadata": {},
     "output_type": "execute_result"
    }
   ],
   "source": [
    "p = .3 # Probabilidad arbitraria\n",
    "t = 2 #Distribución Poisson arbitraria\n",
    "leyZ={k:eclosiona(p,t,k) for k in range(0,11)}\n",
    "print(\"La ley de Z es:\")\n",
    "leyZ"
   ]
  },
  {
   "cell_type": "code",
   "execution_count": 28,
   "metadata": {},
   "outputs": [
    {
     "name": "stdout",
     "output_type": "stream",
     "text": [
      "La suma de las probabilidades es 0.9999999999475052\n"
     ]
    }
   ],
   "source": [
    "total = 0\n",
    "for x in leyZ:\n",
    "    total += leyZ[x]\n",
    "print(\"La suma de las probabilidades es \" + str(total))"
   ]
  },
  {
   "cell_type": "markdown",
   "metadata": {},
   "source": [
    "Y así tenemos que $$\\mathbb{P}(Z\\leq 10) \\approx 0.9999999999475052$$ Graficando:"
   ]
  },
  {
   "cell_type": "code",
   "execution_count": 38,
   "metadata": {},
   "outputs": [
    {
     "data": {
      "image/png": "[encoded data removed]",
      "text/plain": [
       "<Figure size 432x288 with 1 Axes>"
      ]
     },
     "metadata": {
      "needs_background": "light"
     },
     "output_type": "display_data"
    }
   ],
   "source": [
    "import matplotlib.pyplot as plt\n",
    "\n",
    "plt.scatter(x=leyZ.keys(), y=leyZ.values())\n",
    "plt.ylim(-.1,.6)\n",
    "plt.grid()\n",
    "plt.xlabel(\"$k$\",fontsize=14)\n",
    "plt.ylabel(\"$P(Z=k)$\",fontsize=14)\n",
    "plt.title(\"Ley (función de probabilidades) de $Z$\",fontsize=14)\n",
    "plt.show()"
   ]
  }
 ],
 "metadata": {
  "kernelspec": {
   "display_name": "Python 3",
   "language": "python",
   "name": "python3"
  },
  "language_info": {
   "codemirror_mode": {
    "name": "ipython",
    "version": 3
   },
   "file_extension": ".py",
   "mimetype": "text/x-python",
   "name": "python",
   "nbconvert_exporter": "python",
   "pygments_lexer": "ipython3",
   "version": "3.7.6"
  }
 },
 "nbformat": 4,
 "nbformat_minor": 4
}
