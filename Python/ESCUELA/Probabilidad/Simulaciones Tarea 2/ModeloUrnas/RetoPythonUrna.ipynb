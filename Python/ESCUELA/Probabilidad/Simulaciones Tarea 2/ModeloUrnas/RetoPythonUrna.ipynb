{
 "cells": [
  {
   "cell_type": "markdown",
   "metadata": {},
   "source": [
    "# Reto Python 2: Un modelo generalizado de Urnas\n",
    "## Santiago Arroyo Lozano"
   ]
  },
  {
   "cell_type": "markdown",
   "metadata": {},
   "source": [
    "**La composición de la urna**\n",
    "Consideremos una urna compuesta por $N$ bolas de $k$ colores distintos, con $N$ y $k$ enteros\n",
    "tales que $1 \\leq k \\leq N$. Sea $1 \\leq n_{i} \\leq N$ el número de bolas del color $i–$ésimo dentro de la\n",
    "urna, para cada $i = 1, 2, ..., k,$ con $n_1 + n_2 + \\dots + n_k = N$."
   ]
  },
  {
   "cell_type": "markdown",
   "metadata": {},
   "source": [
    "## El experimento\n",
    "Se extrae una muestra sin reemplazo de tamano $m$ de la urna, con $1 \\leq m \\leq N$."
   ]
  },
  {
   "cell_type": "markdown",
   "metadata": {},
   "source": [
    "## Los eventos\n",
    "Para cada $i = 1, 2, ..., k,$ sea $0 \\leq c_i \\leq n_i$, y sea $c = (c1, c2, ..., c_k)$. Denotamos como $E_c$ al evento\n",
    "*“el número de bolas extraídas del color $i$– ́esimo es $c_i$, para cada $i = 1, ..., k$”*.\n",
    "\n",
    "Sea $\\mathcal{E}$ la familia de eventos $E_c$."
   ]
  },
  {
   "cell_type": "markdown",
   "metadata": {},
   "source": [
    "## El Reto\n",
    "Escribe un programa en Python tal que compruebe el **Principio de regularidad de las\n",
    "Frecuencias Relativas** para cada uno de los eventos Ec, esto es, escribe un programa\n",
    "que haga lo siguiente:\n",
    "1. Solicite al usuario ingresar el tamaño de la urna $N$.\n",
    "2. Solicite al usuario ingresar el número de colores distintos $k$ y el número de bolas de cada color.\n",
    "3. Solicite al usuario ingresar el tamaño de la muestra sin reemplazo $m$.\n",
    "4. Solicite al usuario ingresar el número de repeticiones $r$.\n",
    "5. Arroje un gráfico de barras de las frecuencias relativas de los eventos $E_c$.\n",
    "6. Arroje un gráfico de las probabilidades de los evento $E_c$.\n",
    "\n",
    "**OBS:** El programa deber ser capaz de señalar al usuario si comete errores, e insistir en\n",
    "que se ingresen valores correctos."
   ]
  },
  {
   "cell_type": "code",
   "execution_count": 59,
   "metadata": {},
   "outputs": [],
   "source": [
    "# Definimos la función que llamará siempre al experimento\n",
    "import random\n",
    "from collections import defaultdict\n",
    "\n",
    "def experimento(k,m,r):\n",
    "    n = 0\n",
    "    F=defaultdict(float)\n",
    "    #Definimos la urna U\n",
    "    while n<r:      \n",
    "        U=[]\n",
    "        # Será una lista\n",
    "        for i in range(k):\n",
    "            for j in range(c[i]):\n",
    "                U.append(\"C\" + str(i+1))\n",
    "        muestras = []\n",
    "        # Seleccionamos nuestras m muestras sin reemplazo\n",
    "        for i in range(m):\n",
    "            b = random.choice(U)\n",
    "            muestras.append(b)\n",
    "            U.pop(U.index(b))\n",
    "        S=tuple(sorted(muestras))\n",
    "        F[S]+=1/r\n",
    "        n+=1\n",
    "    F = sorted(F.items(), key=lambda x: x[1])\n",
    "    return F"
   ]
  },
  {
   "cell_type": "markdown",
   "metadata": {},
   "source": [
    "## Nota\n",
    "Los números denotan colores, Debido a que el usuario no introduce los nombres de los colores estos los llamaremos por el número en el orden en el que fueron añadidos (Color 1 es C1, Color 2 es C2, Color 3 es C3, etc...)"
   ]
  },
  {
   "cell_type": "code",
   "execution_count": 86,
   "metadata": {},
   "outputs": [
    {
     "name": "stdout",
     "output_type": "stream",
     "text": [
      "Por favor introduce el tamaño de la urna: 25\n",
      "Por favor introduce el número de colores distintos: 5\n",
      "Por favor introduce el número de bolas de color 1 : 5\n",
      "Por favor introduce el número de bolas de color 2 : 5\n",
      "Por favor introduce el número de bolas de color 3 : 5\n",
      "Por favor introduce el número de bolas de color 4 : 5\n",
      "Por favor introduce el número de bolas de color 5 : 5\n",
      "Por favor introduce el tamaño de la muestra sin reemplazo: 2\n",
      "Por favor introduce el número de repeticiones: 10000\n",
      "\n",
      "La frecuencia relativa con la que sale cada evento es:\n",
      "[(('C2', 'C2'), 0.03189999999999989), (('C1', 'C1'), 0.03259999999999991), (('C3', 'C3'), 0.03379999999999994), (('C4', 'C4'), 0.034299999999999956), (('C5', 'C5'), 0.03660000000000002), (('C1', 'C3'), 0.07990000000000126), (('C1', 'C4'), 0.08020000000000127), (('C3', 'C5'), 0.0813000000000013), (('C1', 'C2'), 0.08210000000000132), (('C2', 'C3'), 0.08240000000000133), (('C2', 'C5'), 0.08300000000000135), (('C2', 'C4'), 0.08340000000000136), (('C1', 'C5'), 0.0848000000000014), (('C4', 'C5'), 0.08570000000000143), (('C3', 'C4'), 0.0880000000000015)]\n"
     ]
    }
   ],
   "source": [
    "#Iniciamos! \n",
    "bandera = True\n",
    "N = int(input(\"Por favor introduce el tamaño de la urna: \"))\n",
    "\n",
    "#Le pedimos al usuario el número de colores y revisamos que todo esté bien\n",
    "while bandera:\n",
    "    k = int(input(\"Por favor introduce el número de colores distintos: \"))\n",
    "    if k > N:\n",
    "        print(\"error! valor introducido muy grande\")\n",
    "    else:\n",
    "        break\n",
    "# Pedimos el número de bolas por cada color y revisamos\n",
    "c = []\n",
    "temp = 0\n",
    "for i in range(k): \n",
    "    while bandera:\n",
    "        x = (int(input(\"Por favor introduce el número de bolas de color \" + str(i+1) + \" : \")))            \n",
    "        if x >= N or (temp+x) > N:\n",
    "            print(\"error! valor introducido muy grande, quedan\", (N-temp), \" bolas por añadir\")\n",
    "        else:\n",
    "            temp += x\n",
    "            c.append(x)\n",
    "            break\n",
    "\n",
    "# Pedimos muestra y revisamos\n",
    "while bandera:\n",
    "    m = int(input(\"Por favor introduce el tamaño de la muestra sin reemplazo: \"))\n",
    "    if m > N:\n",
    "        print(\"error! valor introducido muy grande\")\n",
    "    else:\n",
    "        break\n",
    "# repeticiones\n",
    "r = int(input(\"Por favor introduce el número de repeticiones: \"))\n",
    "\n",
    "resultado = experimento(k,m,r)\n",
    "print(\"\\nLa frecuencia relativa con la que sale cada evento es:\")\n",
    "print(resultado)"
   ]
  },
  {
   "cell_type": "code",
   "execution_count": 87,
   "metadata": {},
   "outputs": [
    {
     "data": {
      "image/png": "[encoded data removed]",
      "text/plain": [
       "<Figure size 432x288 with 1 Axes>"
      ]
     },
     "metadata": {
      "needs_background": "light"
     },
     "output_type": "display_data"
    }
   ],
   "source": [
    "import matplotlib.pyplot as plt\n",
    "fig = plt.figure()\n",
    "ax = fig.add_axes([0,0,2,1])\n",
    "res = [str(i) for i,j in resultado]\n",
    "frecuencia = [j for i,j in resultado]\n",
    "ax.bar(res,frecuencia)\n",
    "plt.title(\"Frecuencias Relativas en \"+str(r)+\" repeticiones\")\n",
    "plt.show()"
   ]
  },
  {
   "cell_type": "markdown",
   "metadata": {},
   "source": [
    "Calculemos ahora la probabilidad por cada color y grafiquemos"
   ]
  },
  {
   "cell_type": "code",
   "execution_count": 88,
   "metadata": {},
   "outputs": [
    {
     "data": {
      "text/plain": [
       "defaultdict(float, {'C1': 0.2, 'C2': 0.2, 'C3': 0.2, 'C4': 0.2, 'C5': 0.2})"
      ]
     },
     "execution_count": 88,
     "metadata": {},
     "output_type": "execute_result"
    }
   ],
   "source": [
    "import matplotlib.pyplot as plt\n",
    "\n",
    "# Calculemos\n",
    "probabilidades = defaultdict(float)\n",
    "for i in range(k):\n",
    "    probabilidades[\"C\"+str(i+1)] = (c[i])/N\n",
    "probabilidades    "
   ]
  },
  {
   "cell_type": "code",
   "execution_count": 91,
   "metadata": {},
   "outputs": [
    {
     "data": {
      "image/png": "[encoded data removed]",
      "text/plain": [
       "<Figure size 432x288 with 1 Axes>"
      ]
     },
     "metadata": {
      "needs_background": "light"
     },
     "output_type": "display_data"
    }
   ],
   "source": [
    "plt.scatter(x=probabilidades.keys(), y=probabilidades.values())\n",
    "plt.ylim(0,.4)\n",
    "plt.grid()\n",
    "plt.title(\"Ley (función de probabilidades) de $E_c$\",fontsize=14)\n",
    "plt.show()"
   ]
  }
 ],
 "metadata": {
  "kernelspec": {
   "display_name": "Python 3",
   "language": "python",
   "name": "python3"
  },
  "language_info": {
   "codemirror_mode": {
    "name": "ipython",
    "version": 3
   },
   "file_extension": ".py",
   "mimetype": "text/x-python",
   "name": "python",
   "nbconvert_exporter": "python",
   "pygments_lexer": "ipython3",
   "version": "3.7.6"
  }
 },
 "nbformat": 4,
 "nbformat_minor": 4
}
