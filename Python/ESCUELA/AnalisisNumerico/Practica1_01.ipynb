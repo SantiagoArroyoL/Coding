{
 "cells": [
  {
   "cell_type": "markdown",
   "metadata": {
    "colab_type": "text",
    "id": "qDeqjiMBDbhy"
   },
   "source": [
    "# <font color=darkblue>**Universidad Nacional Autónoma de México**\n",
    "## <font color=darkblue>**Facultad de Ciencias**\n",
    "## <font color=orange>**Práctica 1 de Análisis Numérico, semestre 2022-2**\n",
    "## Dra. Úrsula Iturrarán Viveros\n",
    "# <font color=red> ALUMNO: Santiago Arroyo Lozano"
   ]
  },
  {
   "cell_type": "markdown",
   "metadata": {
    "colab_type": "text",
    "id": "xauZxyFb-CWj"
   },
   "source": [
    "## **Aritmética de punto flotante**"
   ]
  },
  {
   "cell_type": "markdown",
   "metadata": {
    "colab_type": "text",
    "id": "qOpZjI4s-XYS"
   },
   "source": [
    "## **Ejercicio 1**\n",
    " Escribe un  programa que calcule los errores absoluto y relativo de la aproximación de Stirling\n",
    "\n",
    " ## $$n! \\approx \\sqrt{2\\pi n}\\left(\\frac{n}{e} \\right)^n,$$\n",
    "\n",
    " para $n=1,2,...,10.$"
   ]
  },
  {
   "cell_type": "code",
   "execution_count": 26,
   "metadata": {
    "colab": {},
    "colab_type": "code",
    "id": "KfMbtIzxHNHY"
   },
   "outputs": [
    {
     "name": "stdout",
     "output_type": "stream",
     "text": [
      "Introduce un número natural, n = 10\n",
      "El factorial de 1 usando el bucle for es: 1\n",
      "El factorial de 1 usando la aproximacion de Stirling es: 0.9221370088957891\n",
      "Error absoluto: 0.07786299110421091\n",
      "Error relativo: 0.07786299110421091\n",
      "\n",
      "El factorial de 2 usando el bucle for es: 2\n",
      "El factorial de 2 usando la aproximacion de Stirling es: 1.9190043514889832\n",
      "Error absoluto: 0.08099564851101682\n",
      "Error relativo: 0.04049782425550841\n",
      "\n",
      "El factorial de 3 usando el bucle for es: 6\n",
      "El factorial de 3 usando la aproximacion de Stirling es: 5.836209591345864\n",
      "Error absoluto: 0.16379040865413597\n",
      "Error relativo: 0.027298401442355995\n",
      "\n",
      "El factorial de 4 usando el bucle for es: 24\n",
      "El factorial de 4 usando la aproximacion de Stirling es: 23.506175132893294\n",
      "Error absoluto: 0.4938248671067065\n",
      "Error relativo: 0.020576036129446102\n",
      "\n",
      "El factorial de 5 usando el bucle for es: 120\n",
      "El factorial de 5 usando la aproximacion de Stirling es: 118.0191679575901\n",
      "Error absoluto: 1.9808320424099009\n",
      "Error relativo: 0.016506933686749173\n",
      "\n",
      "El factorial de 6 usando el bucle for es: 720\n",
      "El factorial de 6 usando la aproximacion de Stirling es: 710.078184642185\n",
      "Error absoluto: 9.921815357815035\n",
      "Error relativo: 0.013780299108076438\n",
      "\n",
      "El factorial de 7 usando el bucle for es: 5040\n",
      "El factorial de 7 usando la aproximacion de Stirling es: 4980.395831612462\n",
      "Error absoluto: 59.604168387538266\n",
      "Error relativo: 0.011826223886416323\n",
      "\n",
      "El factorial de 8 usando el bucle for es: 40320\n",
      "El factorial de 8 usando la aproximacion de Stirling es: 39902.39545265671\n",
      "Error absoluto: 417.6045473432896\n",
      "Error relativo: 0.010357255638474444\n",
      "\n",
      "El factorial de 9 usando el bucle for es: 362880\n",
      "El factorial de 9 usando la aproximacion de Stirling es: 359536.87284194835\n",
      "Error absoluto: 3343.1271580516477\n",
      "Error relativo: 0.009212762230080598\n",
      "\n",
      "El factorial de 10 usando el bucle for es: 3628800\n",
      "El factorial de 10 usando la aproximacion de Stirling es: 3598695.6187410373\n",
      "Error absoluto: 30104.381258962676\n",
      "Error relativo: 0.008295960443938127\n",
      "\n"
     ]
    }
   ],
   "source": [
    "#Cálculo de el factorial de un número natural\n",
    "from math import pi,e,sqrt\n",
    "n = int(input('Introduce un número natural, n = ', ))\n",
    "\n",
    "k = 1\n",
    "for i in range(n):\n",
    "    k = k*(i+1)       # Primero calculemos el factorial de forma iterativa usando un bucle for\n",
    "    fact = sqrt(2*pi*(i+1))*(((i+1)/e)**(i+1)) # Calculamos el factorial con Stirling\n",
    "    print('El factorial de', i+1, 'usando el bucle for es:', k)\n",
    "    print('El factorial de', i+1, 'usando la aproximacion de Stirling es:', fact)\n",
    "    errorAbs = k-fact\n",
    "    print('Error absoluto:', errorAbs)\n",
    "    print('Error relativo:', (errorAbs/k))\n",
    "    print()\n",
    "\n"
   ]
  },
  {
   "cell_type": "markdown",
   "metadata": {
    "colab_type": "text",
    "id": "ap9sQV3wHSjy"
   },
   "source": [
    "> - <font color=blue> ¿El error absoluto crece o decrece conforme $n$ aumenta?</font><br>\n",
    "El error absoluto *crece*\n",
    "> - <font color=blue> ¿El error relativo crece o decrece conforme $n$ aumenta?</font><br>\n",
    "El error relativo *decrece*"
   ]
  },
  {
   "cell_type": "markdown",
   "metadata": {},
   "source": [
    "## Ejercicio 2\n",
    " Una forma de obtener una aproximación del valor de $\\pi$ es mediante la siguiente fórmula iterativa\n",
    "## $$\\pi \\approx \\frac{nL_{n}}{2},$$\n",
    " donde:\n",
    "## $$L_{2n} = \\sqrt{2-\\sqrt{4-L_{n^2}}}.$$\n",
    " La fórmula anterior se obtiene al inscribir polígonos regulares de $n$ lados en un círculo de radio $1$ y calcular el perímetro de dichos polígonos cuando $n$ es grande.\n",
    "\n",
    "## a) Escribe un programa que calcule las aproximaciones de $\\pi$ para \n",
    "## $$n = 6,6\\times 2, 6\\times 4,...,6\\times 2^{20}.$$ \n",
    " Comienza con $n = 6$ y $L_{6} = 1$ (caso de un hexágono regular). Tu programa también debe calcular el error absoluto en cada iteración."
   ]
  },
  {
   "cell_type": "code",
   "execution_count": 28,
   "metadata": {},
   "outputs": [
    {
     "name": "stdout",
     "output_type": "stream",
     "text": [
      "Aproximación de pi con i = 1 da 3.1058285412302498\n",
      "Error absoluto: 0.035764112359543354\n",
      "\n",
      "Aproximación de pi con i = 2 da 3.132628613281237\n",
      "Error absoluto: 0.008964040308556243\n",
      "\n",
      "Aproximación de pi con i = 3 da 3.139350203046872\n",
      "Error absoluto: 0.0022424505429210484\n",
      "\n",
      "Aproximación de pi con i = 4 da 3.14103195089053\n",
      "Error absoluto: 0.0005607026992633379\n",
      "\n",
      "Aproximación de pi con i = 5 da 3.1414524722853443\n",
      "Error absoluto: 0.0001401813044488165\n",
      "\n",
      "Aproximación de pi con i = 6 da 3.141557607911622\n",
      "Error absoluto: 3.504567817103066e-05\n",
      "\n",
      "Aproximación de pi con i = 7 da 3.141583892148936\n",
      "Error absoluto: 8.76144085726338e-06\n",
      "\n",
      "Aproximación de pi con i = 8 da 3.1415904632367617\n",
      "Error absoluto: 2.1903530313949204e-06\n",
      "\n",
      "Aproximación de pi con i = 9 da 3.1415921060430483\n",
      "Error absoluto: 5.475467448334825e-07\n",
      "\n",
      "Aproximación de pi con i = 10 da 3.1415925165881546\n",
      "Error absoluto: 1.3700163847829572e-07\n",
      "\n",
      "Aproximación de pi con i = 11 da 3.1415926186407894\n",
      "Error absoluto: 3.4949003691053804e-08\n",
      "\n",
      "Aproximación de pi con i = 12 da 3.1415926453212157\n",
      "Error absoluto: 8.268577378345299e-09\n",
      "\n",
      "Aproximación de pi con i = 13 da 3.1415926453212157\n",
      "Error absoluto: 8.268577378345299e-09\n",
      "\n",
      "Aproximación de pi con i = 14 da 3.1415926453212157\n",
      "Error absoluto: 8.268577378345299e-09\n",
      "\n",
      "Aproximación de pi con i = 15 da 3.1415926453212157\n",
      "Error absoluto: 8.268577378345299e-09\n",
      "\n",
      "Aproximación de pi con i = 16 da 3.141593669849427\n",
      "Error absoluto: -1.0162596337792706e-06\n",
      "\n",
      "Aproximación de pi con i = 17 da 3.1415923038117377\n",
      "Error absoluto: 3.497780554084784e-07\n",
      "\n",
      "Aproximación de pi con i = 18 da 3.1416086962248038\n",
      "Error absoluto: -1.6042635010649064e-05\n",
      "\n",
      "Aproximación de pi con i = 19 da 3.1415868396550413\n",
      "Error absoluto: 5.813934751852656e-06\n",
      "\n",
      "Aproximación de pi con i = 20 da 3.1416742650217575\n",
      "Error absoluto: -8.161143196439014e-05\n",
      "\n"
     ]
    }
   ],
   "source": [
    "L = 1   #Para n = 6 , L = 1; este es el valor con el que comenzaremos a hacer los cálculos.\n",
    "\n",
    "for i in range(1,21):\n",
    "  L = sqrt(2 - sqrt(4 - L**2))   #Valor de L calculado de forma iterativa.\n",
    "  n = 6*2**i                     #Valor de n = 6 x 2^i\n",
    "  p = n*L/2                      #Aproximación de pi\n",
    "  print('Aproximación de pi con i =', i, 'da', p)\n",
    "  print('Error absoluto:', (pi-p))\n",
    "  print()"
   ]
  },
  {
   "cell_type": "markdown",
   "metadata": {
    "colab_type": "text",
    "id": "ap9sQV3wHSjy"
   },
   "source": [
    "> - <font color=blue> ¿El error absoluto crece o decrece conforme $n$ aumenta?</font><br>\n",
    "El error *crece* con variaciones cada ciertas iteraciones"
   ]
  },
  {
   "cell_type": "markdown",
   "metadata": {
    "colab": {},
    "colab_type": "code",
    "id": "w6EFGUE9NofM"
   },
   "source": [
    "## b) Utiliza la fórmula $ b-\\sqrt{b^2 - a} = \\frac{a}{b+\\sqrt{b^2-a}}$ para encontrar una forma diferente de calcular $L_n$ y adáptala en un nuevo programa que aproxime a $\\pi$."
   ]
  },
  {
   "cell_type": "markdown",
   "metadata": {},
   "source": [
    "La nueva fórmula queda como $\\sqrt{\\frac{L_n^2}{2+\\sqrt{4-L_n^2}}}$"
   ]
  },
  {
   "cell_type": "code",
   "execution_count": 32,
   "metadata": {},
   "outputs": [
    {
     "name": "stdout",
     "output_type": "stream",
     "text": [
      "Aproximación de pi con i = 1 da 3.105828541230249\n",
      "Error absoluto: 0.03576411235954424\n",
      "\n",
      "Aproximación de pi con i = 2 da 3.1326286132812378\n",
      "Error absoluto: 0.008964040308555354\n",
      "\n",
      "Aproximación de pi con i = 3 da 3.1393502030468663\n",
      "Error absoluto: 0.0022424505429268216\n",
      "\n",
      "Aproximación de pi con i = 4 da 3.1410319508905085\n",
      "Error absoluto: 0.0005607026992846542\n",
      "\n",
      "Aproximación de pi con i = 5 da 3.141452472285461\n",
      "Error absoluto: 0.00014018130433202103\n",
      "\n",
      "Aproximación de pi con i = 6 da 3.1415576079118566\n",
      "Error absoluto: 3.5045677936551556e-05\n",
      "\n",
      "Aproximación de pi con i = 7 da 3.1415838921483172\n",
      "Error absoluto: 8.76144147587965e-06\n",
      "\n",
      "Aproximación de pi con i = 8 da 3.1415904632280487\n",
      "Error absoluto: 2.1903617444252177e-06\n",
      "\n",
      "Aproximación de pi con i = 9 da 3.14159210599927\n",
      "Error absoluto: 5.475905231477896e-07\n",
      "\n",
      "Aproximación de pi con i = 10 da 3.141592516692156\n",
      "Error absoluto: 1.3689763722624093e-07\n",
      "\n",
      "Aproximación de pi con i = 11 da 3.1415926193653814\n",
      "Error absoluto: 3.422441174905089e-08\n",
      "\n",
      "Aproximación de pi con i = 12 da 3.1415926450336884\n",
      "Error absoluto: 8.556104713619561e-09\n",
      "\n",
      "Aproximación de pi con i = 13 da 3.1415926514507646\n",
      "Error absoluto: 2.139028509873242e-09\n",
      "\n",
      "Aproximación de pi con i = 14 da 3.141592653055034\n",
      "Error absoluto: 5.347589038251499e-10\n",
      "\n",
      "Aproximación de pi con i = 15 da 3.141592653456101\n",
      "Error absoluto: 1.3369216844694165e-10\n",
      "\n",
      "Aproximación de pi con i = 16 da 3.1415926535563674\n",
      "Error absoluto: 3.342570664699451e-11\n",
      "\n",
      "Aproximación de pi con i = 17 da 3.1415926535814345\n",
      "Error absoluto: 8.358647107797879e-12\n",
      "\n",
      "Aproximación de pi con i = 18 da 3.1415926535877015\n",
      "Error absoluto: 2.091660178393795e-12\n",
      "\n",
      "Aproximación de pi con i = 19 da 3.141592653589268\n",
      "Error absoluto: 5.24913446042774e-13\n",
      "\n",
      "Aproximación de pi con i = 20 da 3.14159265358966\n",
      "Error absoluto: 1.3322676295501878e-13\n",
      "\n"
     ]
    }
   ],
   "source": [
    "L = 1   #Para n = 6 , L = 1; este es el valor con el que comenzaremos a hacer los cálculos.\n",
    "\n",
    "for i in range(1,21):\n",
    "  L = sqrt((L**2)/(2+sqrt(4-L**2)))   #Valor de L calculado de forma iterativa.\n",
    "  n = 6*2**i                     #Valor de n = 6 x 2^i\n",
    "  p = n*L/2                      #Aproximación de pi\n",
    "  print('Aproximación de pi con i =', i, 'da', p)\n",
    "  print('Error absoluto:', (pi-p))\n",
    "  print()"
   ]
  },
  {
   "cell_type": "markdown",
   "metadata": {
    "colab_type": "text",
    "id": "ap9sQV3wHSjy"
   },
   "source": [
    "> - <font color=blue> ¿El error absoluto crece o decrece conforme $n$ aumenta para esta nueva aproximación?</font><br>\n",
    "El error decrece, mejora mucho respecto a la aproximación anterior"
   ]
  },
  {
   "cell_type": "markdown",
   "metadata": {
    "colab_type": "text",
    "id": "XZIqckGDJr0l"
   },
   "source": [
    "## **Ejercicio 3**\n",
    "## La función exponencial se puede aproximar con su serie de Taylor: $$e^{x} = 1 + x + \\frac{x^{2}}{2} + \\cdots + \\frac{x^{n}}{n!} + \\cdots $$\n",
    " Escriba un programa que calcule el valor aproximado de $e^x$ para cualquier $x$ mediante los primeros $n$ términos de su serie de Taylor. Como criterio o condición de paro proponga que $\\frac{x^n}{n!}<10^{-6}$. El programa debe evitar cancelaciones para valores negativos de x."
   ]
  },
  {
   "cell_type": "markdown",
   "metadata": {
    "colab_type": "text",
    "id": "eOTUih6aNpbS"
   },
   "source": [
    "> - <font color=blue> Genera una tabla que muestre las aproximaciones que se obtienen con tu algoritmo para $x = \\pm20,\\pm15,\\pm10,\\pm5,\\pm1$ y que también muestre las evaluaciones hechas por la función exponecial dada por la máquina. Utiliza al menos 7 cifras decimales con notación científica.</font>\n"
   ]
  },
  {
   "cell_type": "code",
   "execution_count": 45,
   "metadata": {
    "colab": {},
    "colab_type": "code",
    "id": "YYrqIGkkZHwE"
   },
   "outputs": [
    {
     "name": "stdout",
     "output_type": "stream",
     "text": [
      "La aproximación con x= 20 nos da 271252262.88075554\n",
      "La aproximación con x= -20 nos da -19.0\n",
      "La aproximación con x= 15 nos da 2997784.0261694463\n",
      "La aproximación con x= -15 nos da -14.0\n",
      "La aproximación con x= 10 nos da 21991.482025665064\n",
      "La aproximación con x= -10 nos da -9.0\n",
      "La aproximación con x= 5 nos da 148.4131470673818\n",
      "La aproximación con x= -5 nos da -4.0\n"
     ]
    }
   ],
   "source": [
    "from math import factorial\n",
    "\n",
    "x = 20\n",
    "e_x = 0\n",
    "for i in range(21):\n",
    "    e_x += x**i/factorial(i)\n",
    "    if(e_x < (10**(-6))):\n",
    "        break\n",
    "print('La aproximación con x=', x, 'nos da', e_x)\n",
    "\n",
    "x = -20\n",
    "e_x = 0\n",
    "for i in range(21):\n",
    "    e_x += x**i/factorial(i)\n",
    "    if(e_x < (10**(-6))):\n",
    "        break\n",
    "print('La aproximación con x=', x, 'nos da', e_x)\n",
    "\n",
    "x = 15\n",
    "e_x = 0\n",
    "for i in range(21):\n",
    "    e_x += x**i/factorial(i)\n",
    "    if(e_x < (10**(-6))):\n",
    "        break\n",
    "print('La aproximación con x=', x, 'nos da', e_x)\n",
    "\n",
    "x = -15\n",
    "e_x = 0\n",
    "for i in range(21):\n",
    "    e_x += x**i/factorial(i)\n",
    "    if(e_x < (10**(-6))):\n",
    "        break\n",
    "print('La aproximación con x=', x, 'nos da', e_x)\n",
    "\n",
    "x = 10\n",
    "e_x = 0\n",
    "for i in range(21):\n",
    "    e_x += x**i/factorial(i)\n",
    "    if(e_x < (10**(-6))):\n",
    "        break\n",
    "print('La aproximación con x=', x, 'nos da', e_x)\n",
    "\n",
    "x = -10\n",
    "e_x = 0\n",
    "for i in range(21):\n",
    "    e_x += x**i/factorial(i)\n",
    "    if(e_x < (10**(-6))):\n",
    "        break\n",
    "print('La aproximación con x=', x, 'nos da', e_x)\n",
    "\n",
    "x = 5\n",
    "e_x = 0\n",
    "for i in range(21):\n",
    "    e_x += x**i/factorial(i)\n",
    "    if(e_x < (10**(-6))):\n",
    "        break\n",
    "print('La aproximación con x=', x, 'nos da', e_x)\n",
    "\n",
    "x = -5\n",
    "e_x = 0\n",
    "for i in range(21):\n",
    "    e_x += x**i/factorial(i)\n",
    "    if(e_x < (10**(-6))):\n",
    "        break\n",
    "print('La aproximación con x=', x, 'nos da', e_x)"
   ]
  },
  {
   "cell_type": "markdown",
   "metadata": {},
   "source": [
    "## Ejercicio 4\n",
    "\n",
    " En la mayoría de los sistemas de punto flotante, una forma rápida de calcular la épsilon de máquina es mediante la evaluación de la expresión\n",
    "\n",
    "## $$\\epsilon_{mach} \\approx \\vert 3*(4/3 - 1) -1\\vert.$$\n",
    "\n",
    " Investiga cómo obtener la épsilon de máquina en tu lenguaje de programación. Haz un programa que haga el cálculo anterior y que compare el resultado con la épsilon de máquina.\n"
   ]
  },
  {
   "cell_type": "code",
   "execution_count": 11,
   "metadata": {},
   "outputs": [
    {
     "name": "stdout",
     "output_type": "stream",
     "text": [
      "2.220446049250313e-16\n"
     ]
    }
   ],
   "source": [
    "import numpy as np\n",
    "#En Python es muy sencillo pues la librería Numpy nos proporciona el número:\n",
    "print(np.finfo(float).eps)"
   ]
  },
  {
   "cell_type": "code",
   "execution_count": 13,
   "metadata": {},
   "outputs": [
    {
     "data": {
      "text/plain": [
       "2.220446049250313e-16"
      ]
     },
     "execution_count": 13,
     "metadata": {},
     "output_type": "execute_result"
    }
   ],
   "source": [
    "#Usando el truco\n",
    "abs(3*(4/3-1)-1)"
   ]
  },
  {
   "cell_type": "markdown",
   "metadata": {},
   "source": [
    "> - <font color=blue> ¿Por qué funciona este truco?</font><br>\n",
    "Al substraer la representción en binario de 4/3 nos queda la definición del epsilon de máqina y esto aplica para cada sistema"
   ]
  }
 ],
 "metadata": {
  "colab": {
   "collapsed_sections": [],
   "name": "Practica1-Numerico-2021-1.ipynb",
   "provenance": []
  },
  "kernelspec": {
   "display_name": "Python 3",
   "language": "python",
   "name": "python3"
  },
  "language_info": {
   "codemirror_mode": {
    "name": "ipython",
    "version": 3
   },
   "file_extension": ".py",
   "mimetype": "text/x-python",
   "name": "python",
   "nbconvert_exporter": "python",
   "pygments_lexer": "ipython3",
   "version": "3.8.8"
  }
 },
 "nbformat": 4,
 "nbformat_minor": 1
}
