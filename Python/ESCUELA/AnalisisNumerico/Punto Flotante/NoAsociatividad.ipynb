{
  "cells": [
    {
      "cell_type": "markdown",
      "metadata": {
        "id": "0t7YMSr907hr"
      },
      "source": [
        "## Operaciones de punto flotante no-asociativas"
      ]
    },
    {
      "cell_type": "markdown",
      "metadata": {
        "id": "igCVRLDK07hv"
      },
      "source": [
        "Sumar primero números de magnitud pequeña da resultados diferentes que sumar primero números de magnitud grande debido a la mezcla de precisiones. Por ejemplo:"
      ]
    },
    {
      "cell_type": "code",
      "execution_count": null,
      "metadata": {
        "id": "eYFwdN-d07hv",
        "outputId": "70288e57-6b45-4303-b355-0cf9e2483139"
      },
      "outputs": [
        {
          "data": {
            "text/plain": [
              "0.6000000000000001"
            ]
          },
          "execution_count": 2,
          "metadata": {},
          "output_type": "execute_result"
        }
      ],
      "source": [
        "0.1+0.2+0.3"
      ]
    },
    {
      "cell_type": "code",
      "execution_count": null,
      "metadata": {
        "id": "5M4VfGJm07hx",
        "outputId": "70a3eeb9-897b-4fef-b6a9-1deefb5ea346"
      },
      "outputs": [
        {
          "data": {
            "text/plain": [
              "0.6"
            ]
          },
          "execution_count": 3,
          "metadata": {},
          "output_type": "execute_result"
        }
      ],
      "source": [
        "0.2+0.3+0.1"
      ]
    },
    {
      "cell_type": "code",
      "execution_count": null,
      "metadata": {
        "id": "LtwgIVMK07hy"
      },
      "outputs": [],
      "source": []
    },
    {
      "cell_type": "code",
      "execution_count": null,
      "metadata": {
        "id": "I4kgWbXJ07hy"
      },
      "outputs": [],
      "source": [
        "x=0.1+(0.2+0.3);"
      ]
    },
    {
      "cell_type": "code",
      "execution_count": null,
      "metadata": {
        "id": "f8LCIOtB07hy"
      },
      "outputs": [],
      "source": [
        "y=(0.1+0.2)+0.3;"
      ]
    },
    {
      "cell_type": "markdown",
      "metadata": {
        "id": "Niz-FmvT07hz"
      },
      "source": [
        "Son igulales x y y?"
      ]
    },
    {
      "cell_type": "code",
      "execution_count": null,
      "metadata": {
        "id": "7eRUe8j_07hz",
        "outputId": "d8ffa1ed-4f4f-4611-923f-4bc36c2204e8"
      },
      "outputs": [
        {
          "data": {
            "text/plain": [
              "False"
            ]
          },
          "execution_count": 8,
          "metadata": {},
          "output_type": "execute_result"
        }
      ],
      "source": [
        "x==y"
      ]
    },
    {
      "cell_type": "code",
      "execution_count": null,
      "metadata": {
        "id": "dOu1kJXt07h0",
        "outputId": "ddaf6383-99bc-46df-f57b-b3e8411c09c4"
      },
      "outputs": [
        {
          "name": "stdout",
          "output_type": "stream",
          "text": [
            "0.59999999999999998\n"
          ]
        }
      ],
      "source": [
        "print('%.17f' %x)"
      ]
    },
    {
      "cell_type": "code",
      "execution_count": null,
      "metadata": {
        "id": "iRktNy0K07h0",
        "outputId": "e9c5dd7a-c6c3-432b-94b3-79624027fde8"
      },
      "outputs": [
        {
          "name": "stdout",
          "output_type": "stream",
          "text": [
            "0.60000000000000009\n"
          ]
        }
      ],
      "source": [
        "print('%.17f' %y)"
      ]
    },
    {
      "cell_type": "code",
      "execution_count": null,
      "metadata": {
        "id": "ElGJtQAG07h1",
        "outputId": "5128fa49-c722-40af-92e5-ebecf6fa66e1"
      },
      "outputs": [
        {
          "data": {
            "text/plain": [
              "Decimal('0.59999999999999997779553950749686919152736663818359375')"
            ]
          },
          "execution_count": 13,
          "metadata": {},
          "output_type": "execute_result"
        }
      ],
      "source": [
        "import decimal\n",
        "decimal.Decimal(x)"
      ]
    },
    {
      "cell_type": "code",
      "execution_count": null,
      "metadata": {
        "id": "FG2D2MAy07h2",
        "outputId": "db0ab72a-dd9a-4dd5-b444-35ed972fef75"
      },
      "outputs": [
        {
          "data": {
            "text/plain": [
              "Decimal('0.600000000000000088817841970012523233890533447265625')"
            ]
          },
          "execution_count": 14,
          "metadata": {},
          "output_type": "execute_result"
        }
      ],
      "source": [
        "decimal.Decimal(y)"
      ]
    },
    {
      "cell_type": "markdown",
      "metadata": {
        "id": "GCaa9otx07h2"
      },
      "source": [
        "En este ejemplo 1000 veces se generan 3 números aleatorios que se suman asociandose de forma diferente y se comparan (a+b)+c == a +(b+c), si no se cumple esta igualdad, se suma 1 y la suma final debería de ser cero, pero como no lo es, esto demuestra que **hay muchos casos donde la asociatividad no se cumple** "
      ]
    },
    {
      "cell_type": "code",
      "execution_count": null,
      "metadata": {
        "id": "UWr4n19v07h2",
        "outputId": "49c25d7d-dd6b-404c-e989-0fc64946e9a1"
      },
      "outputs": [
        {
          "data": {
            "text/plain": [
              "188"
            ]
          },
          "execution_count": 26,
          "metadata": {},
          "output_type": "execute_result"
        }
      ],
      "source": [
        "import random\n",
        "\n",
        "random.seed()\n",
        "n = 1000\n",
        "a = [random.random() for i in range(n)]\n",
        "b = [random.random() for i in range(n)]\n",
        "c = [random.random() for i in range(n)]\n",
        "\n",
        "sum(1 if (a[i] + b[i]) + c[i] != a[i] + (b[i] + c[i]) else 0 for i in range(n))\n"
      ]
    },
    {
      "cell_type": "code",
      "execution_count": null,
      "metadata": {
        "id": "gu0GCn6I07h3"
      },
      "outputs": [],
      "source": []
    }
  ],
  "metadata": {
    "kernelspec": {
      "display_name": "Python 3",
      "language": "python",
      "name": "python3"
    },
    "language_info": {
      "codemirror_mode": {
        "name": "ipython",
        "version": 3
      },
      "file_extension": ".py",
      "mimetype": "text/x-python",
      "name": "python",
      "nbconvert_exporter": "python",
      "pygments_lexer": "ipython3",
      "version": "3.8.5"
    },
    "colab": {
      "provenance": []
    }
  },
  "nbformat": 4,
  "nbformat_minor": 0
}