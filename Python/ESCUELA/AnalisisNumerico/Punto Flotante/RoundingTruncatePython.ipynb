{
  "cells": [
    {
      "cell_type": "markdown",
      "metadata": {
        "id": "XVbEl0X8uYSK"
      },
      "source": [
        "# Como redondear en Python?"
      ]
    },
    {
      "cell_type": "code",
      "execution_count": null,
      "metadata": {
        "id": "3InwfppUuYSQ",
        "outputId": "c12bcf30-5b8c-499b-8be5-ad7f602b116f"
      },
      "outputs": [
        {
          "data": {
            "text/plain": [
              "2"
            ]
          },
          "execution_count": 1,
          "metadata": {},
          "output_type": "execute_result"
        }
      ],
      "source": [
        "round(2.5)"
      ]
    },
    {
      "cell_type": "markdown",
      "metadata": {
        "id": "3Ynhoxh6uYSS"
      },
      "source": [
        "Que tal 1.5?"
      ]
    },
    {
      "cell_type": "code",
      "execution_count": null,
      "metadata": {
        "id": "gO0bYYn_uYST",
        "outputId": "ce1e6768-c22f-42fe-ee47-24dbda25d916"
      },
      "outputs": [
        {
          "data": {
            "text/plain": [
              "2"
            ]
          },
          "execution_count": 2,
          "metadata": {},
          "output_type": "execute_result"
        }
      ],
      "source": [
        "round(1.5)"
      ]
    },
    {
      "cell_type": "markdown",
      "metadata": {
        "id": "teYM0UsMuYST"
      },
      "source": [
        "Como estuvo esto?? round() redondea 1.5 a 2 y 2.5 hacia abajo a 2!"
      ]
    },
    {
      "cell_type": "markdown",
      "metadata": {
        "id": "0aDnky8AuYSU"
      },
      "source": [
        "#### Que impacto tiene o puede tener el redondeo?"
      ]
    },
    {
      "cell_type": "markdown",
      "metadata": {
        "id": "4tPeAoNYuYSU"
      },
      "source": [
        "Supongamos que invertimos **100.0** pesos en algunas acciones. El valor de estas acciones depende de la oferta y la demanda por lo cual el volr de estas acciones varia en segundos. Supongamos que el valor de las acciones compradas flucutua un valor aleatorio pequeño entre  **0.05** y **-0.05** pesos, solo dos cifras décimales. Por ejemplo el valor puede incrementar **0.031286** pesos en un segundo e incrementar **0.028476** pesos en el siguiente.\n",
        "\n",
        "Si uno no quiere tener un valor a la quinta o sexta cifra décimal y decidmos truncar todo a la terecera cifra décimal.\n",
        "\n",
        "Hay algunos errores, pero manteniendo tres cifras décimales el error no puede ser **tan** significativo o si?? Veamos que pasa"
      ]
    },
    {
      "cell_type": "markdown",
      "metadata": {
        "id": "QrHQoQUauYSV"
      },
      "source": [
        "#### Empezaremos por escribir una función que trunque al tercer dígito décimal"
      ]
    },
    {
      "cell_type": "code",
      "execution_count": null,
      "metadata": {
        "id": "Ci0VV0ZLuYSW"
      },
      "outputs": [],
      "source": [
        "def truncate(n):\n",
        "...     return int(n * 1000) / 1000"
      ]
    },
    {
      "cell_type": "markdown",
      "metadata": {
        "id": "KCSFYQoHuYSX"
      },
      "source": [
        "Esta función lo que hace es mover el punto décimal del número $n$ tres posiciones a la derecha multiplicando al número $n$ por 1000. Se toma la parte entera de este resultado con la instrucción: int( ). Alfinal el punto décimal se mueve tres posiciones a la izquierda mediante la división por 1000 "
      ]
    },
    {
      "cell_type": "code",
      "execution_count": null,
      "metadata": {
        "id": "Lr7LA4eMuYSX",
        "outputId": "454eedfa-16a1-4633-b85b-a1c035d78a22"
      },
      "outputs": [
        {
          "data": {
            "text/plain": [
              "0.239"
            ]
          },
          "execution_count": 5,
          "metadata": {},
          "output_type": "execute_result"
        }
      ],
      "source": [
        "valor_real, valor_truncado=100, 100\n",
        "\n",
        "import random\n",
        "random.seed(100)\n",
        "\n",
        "for _ in range(1000000):\n",
        "    randn = random.uniform(-0.05, 0.05)\n",
        "    valor_real = valor_real + randn\n",
        "    valor_truncado = truncate(valor_truncado + randn)\n",
        "\n",
        "valor_real\n",
        "96.45273913513529\n",
        "\n",
        "valor_truncado\n",
        "0.239"
      ]
    },
    {
      "cell_type": "markdown",
      "metadata": {
        "id": "IEXujfOAuYSZ"
      },
      "source": [
        "La instrucción: range(1000000) devuelve numeros entre 0 y 999,999. "
      ]
    },
    {
      "cell_type": "markdown",
      "metadata": {
        "id": "iuHWHcfBuYSa"
      },
      "source": [
        "El valor que toma: $from$ $range( )$ en cada paso  es alamacendao en la variable _, que hemos usado aquí pues no necesitamos este valor dentro del loop. En cada paso un nuevo número aleatorio entre -0.05 y 0.0 es generado usando $random.randn()$ y esto se asigna a la variable $randn$. El nuevo valor se asinga a la variable randn to actual_value, y el total truncado se calcula sumando $randn$ a truncated_value y entonces el valor truncado se obtiene con: truncate()."
      ]
    },
    {
      "cell_type": "markdown",
      "metadata": {
        "id": "U9D-Vq99uYSc"
      },
      "source": [
        "Como se puede ver observando el comportamiento de la variable: actual_value, no pedimos mucho:"
      ]
    },
    {
      "cell_type": "code",
      "execution_count": null,
      "metadata": {
        "id": "jIfRLCw5uYSd",
        "outputId": "3b30fe87-ef81-401f-b5b1-7c7f5c707572"
      },
      "outputs": [
        {
          "data": {
            "text/plain": [
              "3.547260864864711"
            ]
          },
          "execution_count": 6,
          "metadata": {},
          "output_type": "execute_result"
        }
      ],
      "source": [
        "100-valor_real"
      ]
    },
    {
      "cell_type": "markdown",
      "metadata": {
        "id": "Yfu8zmMZuYSd"
      },
      "source": [
        "Sin embargo, uno no puede ver este comportamiento con la variable: truncated_value, segun la cual, perdimos todo el dinero que invertimos"
      ]
    },
    {
      "cell_type": "code",
      "execution_count": null,
      "metadata": {
        "id": "GnAngv73uYSe",
        "outputId": "d2bd081d-535a-4f8a-f29c-7affcb5574e6"
      },
      "outputs": [
        {
          "data": {
            "text/plain": [
              "0.239"
            ]
          },
          "execution_count": 7,
          "metadata": {},
          "output_type": "execute_result"
        }
      ],
      "source": [
        "valor_truncado"
      ]
    },
    {
      "cell_type": "markdown",
      "metadata": {
        "id": "m5Qqdc2guYSe"
      },
      "source": [
        "Podemos generalizar el proceso, remplazando 1000 con el número $10^ᵖ$ (10 elevado a la p-th ésima potencia), donde $p$ es el número de posiciones decimales a truncar:\n",
        "\n"
      ]
    },
    {
      "cell_type": "markdown",
      "metadata": {
        "id": "cuyLtF5MuYSf"
      },
      "source": [
        "Nótese que fijamos la variable aletoria para que el ejemplo sea reproducible: random.seed(100) "
      ]
    },
    {
      "cell_type": "markdown",
      "metadata": {
        "id": "4QKK_PhGuYSg"
      },
      "source": [
        "#### Usemos round() para redondear a tres cifras décimales"
      ]
    },
    {
      "cell_type": "code",
      "execution_count": null,
      "metadata": {
        "id": "BV5HydmvuYSg"
      },
      "outputs": [],
      "source": [
        "random.seed(100)\n",
        "actual_value, rounded_value = 100, 100\n",
        "\n",
        "for _ in range(1000000):\n",
        "    randn = random.uniform(-0.05, 0.05)\n",
        "    actual_value = actual_value + randn\n",
        "    rounded_value = round(rounded_value + randn, 3)                        "
      ]
    },
    {
      "cell_type": "code",
      "execution_count": null,
      "metadata": {
        "id": "yC7gAgQauYSh",
        "outputId": "b76d2897-6a9a-4446-b1d3-00489becd00b"
      },
      "outputs": [
        {
          "data": {
            "text/plain": [
              "96.45273913513529"
            ]
          },
          "execution_count": 9,
          "metadata": {},
          "output_type": "execute_result"
        }
      ],
      "source": [
        "actual_value"
      ]
    },
    {
      "cell_type": "code",
      "execution_count": null,
      "metadata": {
        "id": "euJn6PjpuYSh",
        "outputId": "d505dfa5-bf4b-43f0-e697-dc4c6ee8ae31"
      },
      "outputs": [
        {
          "data": {
            "text/plain": [
              "96.258"
            ]
          },
          "execution_count": 10,
          "metadata": {},
          "output_type": "execute_result"
        }
      ],
      "source": [
        "rounded_value"
      ]
    },
    {
      "cell_type": "markdown",
      "metadata": {
        "id": "To7JGyiGuYSi"
      },
      "source": [
        "**Que diferencia!!**"
      ]
    },
    {
      "cell_type": "markdown",
      "metadata": {
        "id": "7fdNma8kuYSi"
      },
      "source": [
        "**Que impacto puede tener el redondeo?**"
      ]
    },
    {
      "cell_type": "markdown",
      "metadata": {
        "id": "XKn6xuEruYSi"
      },
      "source": [
        "* Multiplicar el número por 1000 para mover el punto decimal 3 lugares a la derecha\n",
        "* Tomar la parte entera del nuevo número con int()\n",
        "* Recuperar los tres lugares decimales a la izquierda mediante la división por 1000\n",
        "\n",
        "Podemos generalizar el truncamiento a p-cifras (10 elevado a la p-th potencia), donde $p$ es el número de cifras decimales a truncar:"
      ]
    },
    {
      "cell_type": "code",
      "execution_count": null,
      "metadata": {
        "id": "kX8L2njCuYSj"
      },
      "outputs": [],
      "source": [
        "def truncate(n, decimals=0):\n",
        "    multiplier = 10 ** decimals\n",
        "    return int(n * multiplier) / multiplier"
      ]
    },
    {
      "cell_type": "markdown",
      "metadata": {
        "id": "L-VdQHIpuYSj"
      },
      "source": [
        "En esta nueva versión de truncate(), el default es cero, por lo que si no se pasa segundo argumento, la función simplemente regresa la parte entera del número que se le pase"
      ]
    },
    {
      "cell_type": "markdown",
      "metadata": {
        "id": "BpluewURuYSk"
      },
      "source": [
        "En esta versión de truncate(), el valor por dafualt del segundo argumento es 0. Por lo tanto, si no se pasa ninguna argumeto a esta función, truncate() regresa la parte entera del número que se haya pasado. Esta función, trabaja con números positivos y negativos:"
      ]
    },
    {
      "cell_type": "code",
      "execution_count": null,
      "metadata": {
        "id": "0tlZ_0H2uYSm",
        "outputId": "f356e5b3-0c3f-4b39-e796-c9401f44b37a"
      },
      "outputs": [
        {
          "data": {
            "text/plain": [
              "12.0"
            ]
          },
          "execution_count": 12,
          "metadata": {},
          "output_type": "execute_result"
        }
      ],
      "source": [
        "truncate(12.5)"
      ]
    },
    {
      "cell_type": "markdown",
      "metadata": {
        "id": "3FFWz67zuYSm"
      },
      "source": [
        "Funciona incluso con números negativos como dígitos décimales a truncar a la izquierda del punto décimal"
      ]
    },
    {
      "cell_type": "code",
      "execution_count": null,
      "metadata": {
        "id": "dt9BEk8duYSm",
        "outputId": "4e1b1a32-72e9-4db9-f3a0-a122a2788a2b"
      },
      "outputs": [
        {
          "data": {
            "text/plain": [
              "120.0"
            ]
          },
          "execution_count": 13,
          "metadata": {},
          "output_type": "execute_result"
        }
      ],
      "source": [
        "truncate(125.6, -1)\n",
        "120.0"
      ]
    },
    {
      "cell_type": "code",
      "execution_count": null,
      "metadata": {
        "id": "GXfMZhevuYSn",
        "outputId": "2b117de5-2771-468e-fb0c-1e337028e642"
      },
      "outputs": [
        {
          "data": {
            "text/plain": [
              "-1000.0"
            ]
          },
          "execution_count": 14,
          "metadata": {},
          "output_type": "execute_result"
        }
      ],
      "source": [
        "truncate(-1374.25, -3)\n",
        "-1000.0"
      ]
    },
    {
      "cell_type": "markdown",
      "metadata": {
        "id": "hr_IcE3DuYSq"
      },
      "source": [
        "Cuando se pasa a la función un número positivo, uno trunca hacia abajo. De la misma forma, truncar un número negativo redondea el número hacia arriba. En cierta forma, truncation es una combinación de los metodos de redondeo dependiendo del signo de número que se esta redondeando."
      ]
    },
    {
      "cell_type": "markdown",
      "metadata": {
        "id": "vkAxdX3ouYSq"
      },
      "source": [
        "### Redondeo hacia arriba"
      ]
    },
    {
      "cell_type": "markdown",
      "metadata": {
        "id": "1Tf1Vk5AuYSr"
      },
      "source": [
        "Usaremos ahora la función: ceil() del modulo math. Esta función según la definció devuelve el entero mayor o igual que el número dado:"
      ]
    },
    {
      "cell_type": "code",
      "execution_count": null,
      "metadata": {
        "id": "kUdNdFNpuYSs",
        "outputId": "2fed74e3-71e0-4ab7-fe74-93d6c0056a78"
      },
      "outputs": [
        {
          "data": {
            "text/plain": [
              "2"
            ]
          },
          "execution_count": 15,
          "metadata": {},
          "output_type": "execute_result"
        }
      ],
      "source": [
        "import math\n",
        "math.ceil(1.2)"
      ]
    },
    {
      "cell_type": "code",
      "execution_count": null,
      "metadata": {
        "id": "jYexuPKcuYSt",
        "outputId": "c5df8cba-70ea-4a24-91c4-853b10391c07"
      },
      "outputs": [
        {
          "data": {
            "text/plain": [
              "2"
            ]
          },
          "execution_count": 16,
          "metadata": {},
          "output_type": "execute_result"
        }
      ],
      "source": [
        "math.ceil(2)"
      ]
    },
    {
      "cell_type": "code",
      "execution_count": null,
      "metadata": {
        "id": "W0spUI-auYSt",
        "outputId": "935f12eb-e982-4552-e429-6c66281c0f92"
      },
      "outputs": [
        {
          "data": {
            "text/plain": [
              "0"
            ]
          },
          "execution_count": 17,
          "metadata": {},
          "output_type": "execute_result"
        }
      ],
      "source": [
        "math.ceil(-0.5)"
      ]
    },
    {
      "cell_type": "markdown",
      "metadata": {
        "id": "cj4-ccJvuYSt"
      },
      "source": [
        "Notese que el 'ceiling' de -0.5 es 0, no -1. Esto tiene sentido pues 0 es el entero mas cercano a -0.5 esto es mayor o igual a -0.5."
      ]
    },
    {
      "cell_type": "code",
      "execution_count": null,
      "metadata": {
        "id": "g2Lm9oBiuYSt"
      },
      "outputs": [],
      "source": [
        "def round_up(n, decimals=0):\n",
        "    multiplier = 10 ** decimals\n",
        "    return math.ceil(n * multiplier) / multiplier"
      ]
    },
    {
      "cell_type": "code",
      "execution_count": null,
      "metadata": {
        "id": "0rE91ptmuYSu",
        "outputId": "11711b0a-0393-4baf-d4d0-d6f4090e2b54"
      },
      "outputs": [
        {
          "data": {
            "text/plain": [
              "2.0"
            ]
          },
          "execution_count": 19,
          "metadata": {},
          "output_type": "execute_result"
        }
      ],
      "source": [
        "round_up(1.1)"
      ]
    },
    {
      "cell_type": "code",
      "execution_count": null,
      "metadata": {
        "id": "R7hcdRL9uYSv",
        "outputId": "3da8f775-77c9-4de2-ae17-0bd7da62e0d8"
      },
      "outputs": [
        {
          "data": {
            "text/plain": [
              "1.3"
            ]
          },
          "execution_count": 20,
          "metadata": {},
          "output_type": "execute_result"
        }
      ],
      "source": [
        "round_up(1.23, 1)"
      ]
    },
    {
      "cell_type": "code",
      "execution_count": null,
      "metadata": {
        "id": "gARE7WIGuYS0",
        "outputId": "d808c6fa-53c2-43e5-fedf-e17e4b746aeb"
      },
      "outputs": [
        {
          "data": {
            "text/plain": [
              "1.55"
            ]
          },
          "execution_count": 21,
          "metadata": {},
          "output_type": "execute_result"
        }
      ],
      "source": [
        "round_up(1.543, 2)"
      ]
    },
    {
      "cell_type": "markdown",
      "metadata": {
        "id": "C6GXLdePuYS1"
      },
      "source": [
        "Definamos la función round_up()"
      ]
    },
    {
      "cell_type": "code",
      "execution_count": null,
      "metadata": {
        "id": "LgFLLEkNuYS1"
      },
      "outputs": [],
      "source": [
        "def round_up(n, decimals=0):\n",
        "    multiplier = 10 ** decimals\n",
        "    return math.ceil(n * multiplier) / multiplier"
      ]
    },
    {
      "cell_type": "markdown",
      "metadata": {
        "id": "n1edrH-uuYS2"
      },
      "source": [
        "Veamos las diferencias"
      ]
    },
    {
      "cell_type": "code",
      "execution_count": null,
      "metadata": {
        "id": "GzfFSW5yuYS2",
        "outputId": "c04498da-0b87-42b3-9dfd-251f5c1938dc"
      },
      "outputs": [
        {
          "data": {
            "text/plain": [
              "2.0"
            ]
          },
          "execution_count": 26,
          "metadata": {},
          "output_type": "execute_result"
        }
      ],
      "source": [
        "round_up(1.1)"
      ]
    },
    {
      "cell_type": "code",
      "execution_count": null,
      "metadata": {
        "id": "9AgWRQqmuYS2",
        "outputId": "b47afd91-f7b1-4931-97d4-ae386eac1ad8"
      },
      "outputs": [
        {
          "data": {
            "text/plain": [
              "1.3"
            ]
          },
          "execution_count": 27,
          "metadata": {},
          "output_type": "execute_result"
        }
      ],
      "source": [
        "round_up(1.23, 1)"
      ]
    },
    {
      "cell_type": "code",
      "execution_count": null,
      "metadata": {
        "id": "mCPdNSeNuYS3",
        "outputId": "aa990408-18eb-405e-af00-071795d5e96c"
      },
      "outputs": [
        {
          "data": {
            "text/plain": [
              "1.55"
            ]
          },
          "execution_count": 28,
          "metadata": {},
          "output_type": "execute_result"
        }
      ],
      "source": [
        "round_up(1.543, 2)"
      ]
    },
    {
      "cell_type": "markdown",
      "metadata": {
        "id": "Fnw2JeHsuYS3"
      },
      "source": [
        "Se pueden pasar valores negativos"
      ]
    },
    {
      "cell_type": "code",
      "execution_count": null,
      "metadata": {
        "id": "sDj4ESdAuYS4",
        "outputId": "72546ce6-0d23-44e3-e303-9af4e267ca69"
      },
      "outputs": [
        {
          "data": {
            "text/plain": [
              "30.0"
            ]
          },
          "execution_count": 22,
          "metadata": {},
          "output_type": "execute_result"
        }
      ],
      "source": [
        "round_up(22.45, -1)"
      ]
    },
    {
      "cell_type": "code",
      "execution_count": null,
      "metadata": {
        "id": "B1u58jAVuYS4",
        "outputId": "2f857064-3192-4cf3-db11-6aa2dca86181"
      },
      "outputs": [
        {
          "data": {
            "text/plain": [
              "1400.0"
            ]
          },
          "execution_count": 23,
          "metadata": {},
          "output_type": "execute_result"
        }
      ],
      "source": [
        "round_up(1352, -2)"
      ]
    },
    {
      "cell_type": "markdown",
      "metadata": {
        "id": "pD7lE8QwuYS4"
      },
      "source": [
        "Que pasa con round_up(-1.5)"
      ]
    },
    {
      "cell_type": "code",
      "execution_count": null,
      "metadata": {
        "id": "NxudhyI8uYS5",
        "outputId": "cba32d15-7f23-485f-b709-6ca816c0e3d9"
      },
      "outputs": [
        {
          "data": {
            "text/plain": [
              "-1.0"
            ]
          },
          "execution_count": 24,
          "metadata": {},
          "output_type": "execute_result"
        }
      ],
      "source": [
        "round_up(-1.5)"
      ]
    },
    {
      "cell_type": "markdown",
      "metadata": {
        "id": "McUVcgsGuYS5"
      },
      "source": [
        "No hay simetría con respecto a round(1.5) que va a 2.0, sin embargo round(-1.5) no "
      ]
    },
    {
      "cell_type": "markdown",
      "metadata": {
        "id": "2OrC0ziyuYS5"
      },
      "source": [
        "Implementemos redondeo hacia abajo. Usaremos truncate() y round_up, primero moviendo el punto décimal, después redondeando a un entero y finamlente moviendo de regreso el punto décimal."
      ]
    },
    {
      "cell_type": "code",
      "execution_count": null,
      "metadata": {
        "id": "zczSKCh8uYS5"
      },
      "outputs": [],
      "source": [
        "def round_down(n, decimals=0):\n",
        "    multiplier = 10 ** decimals\n",
        "    return math.floor(n * multiplier) / multiplier"
      ]
    },
    {
      "cell_type": "markdown",
      "metadata": {
        "id": "9j3T1r8OuYS6"
      },
      "source": [
        "La función math.flooor devuelve el entero menor o igual que el número que se le pasa a la función. simplemente remplazamos: math.ceil() por: math.floor()"
      ]
    },
    {
      "cell_type": "code",
      "execution_count": null,
      "metadata": {
        "id": "xvQSOWWauYS6",
        "outputId": "eee50aa8-5787-41e6-cfbf-d7f684c1765d"
      },
      "outputs": [
        {
          "data": {
            "text/plain": [
              "1.0"
            ]
          },
          "execution_count": 26,
          "metadata": {},
          "output_type": "execute_result"
        }
      ],
      "source": [
        "round_down(1.5)"
      ]
    },
    {
      "cell_type": "code",
      "execution_count": null,
      "metadata": {
        "id": "dEadkBrJuYS6",
        "outputId": "2259edb1-664e-410a-d594-da64497afc85"
      },
      "outputs": [
        {
          "data": {
            "text/plain": [
              "1.3"
            ]
          },
          "execution_count": 27,
          "metadata": {},
          "output_type": "execute_result"
        }
      ],
      "source": [
        "round_down(1.37, 1)"
      ]
    },
    {
      "cell_type": "code",
      "execution_count": null,
      "metadata": {
        "id": "DAV7vIQGuYS7",
        "outputId": "fadb86d8-b655-4f88-f0dc-e2bf66e004fc"
      },
      "outputs": [
        {
          "data": {
            "text/plain": [
              "-1.0"
            ]
          },
          "execution_count": 28,
          "metadata": {},
          "output_type": "execute_result"
        }
      ],
      "source": [
        "round_down(-0.5)"
      ]
    },
    {
      "cell_type": "markdown",
      "metadata": {
        "id": "ccqdOFo3uYS7"
      },
      "source": [
        "Hay diferencias significativas entre truncate(), round_down() y round_up(). Recordemos que round_up() no es simétrica alrededor de cero y round_down() tampoco lo es. Hay un sesgo de redondeo (rounding bias), veamos este efecto:"
      ]
    },
    {
      "cell_type": "code",
      "execution_count": null,
      "metadata": {
        "id": "rleESgb1uYS7"
      },
      "outputs": [],
      "source": [
        "data = [1.25, -2.67, 0.43, -1.79, 4.32, -8.19]"
      ]
    },
    {
      "cell_type": "code",
      "execution_count": null,
      "metadata": {
        "id": "3VMsV22GuYS8",
        "outputId": "5bc7f984-6308-4194-cd45-2e58c5729685"
      },
      "outputs": [
        {
          "data": {
            "text/plain": [
              "-1.1083333333333332"
            ]
          },
          "execution_count": 30,
          "metadata": {},
          "output_type": "execute_result"
        }
      ],
      "source": [
        "import statistics\n",
        "statistics.mean(data)"
      ]
    },
    {
      "cell_type": "markdown",
      "metadata": {
        "id": "SXJGYC8TuYS8"
      },
      "source": [
        "Que pasa si aplicamos round_up(), round_down() y truncate()"
      ]
    },
    {
      "cell_type": "code",
      "execution_count": null,
      "metadata": {
        "id": "XxdxUPczuYS8",
        "outputId": "13779dea-ba81-41bf-be4f-d573d0f7d99f"
      },
      "outputs": [
        {
          "data": {
            "text/plain": [
              "[1.3, -2.6, 0.5, -1.7, 4.4, -8.1]"
            ]
          },
          "execution_count": 31,
          "metadata": {},
          "output_type": "execute_result"
        }
      ],
      "source": [
        "ru_data = [round_up(n, 1) for n in data]\n",
        "ru_data"
      ]
    },
    {
      "cell_type": "code",
      "execution_count": null,
      "metadata": {
        "id": "uNNtv1UtuYS9",
        "outputId": "2e5bf40e-e77a-4613-f2a7-ceb61e720999"
      },
      "outputs": [
        {
          "data": {
            "text/plain": [
              "-1.0333333333333332"
            ]
          },
          "execution_count": 32,
          "metadata": {},
          "output_type": "execute_result"
        }
      ],
      "source": [
        "statistics.mean(ru_data)"
      ]
    },
    {
      "cell_type": "code",
      "execution_count": null,
      "metadata": {
        "id": "16H2QV3VuYS9",
        "outputId": "3b0beaa3-baaa-4294-cc35-7d5ec9b346ff"
      },
      "outputs": [
        {
          "data": {
            "text/plain": [
              "-1.1333333333333333"
            ]
          },
          "execution_count": 33,
          "metadata": {},
          "output_type": "execute_result"
        }
      ],
      "source": [
        "rd_data = [round_down(n, 1) for n in data]\n",
        "statistics.mean(rd_data)"
      ]
    },
    {
      "cell_type": "code",
      "execution_count": null,
      "metadata": {
        "id": "TYNlm5s6uYS9",
        "outputId": "d636fb1d-6dbb-4f04-cc51-cb2d6138e310"
      },
      "outputs": [
        {
          "data": {
            "text/plain": [
              "-1.0833333333333333"
            ]
          },
          "execution_count": 34,
          "metadata": {},
          "output_type": "execute_result"
        }
      ],
      "source": [
        "tr_data = [truncate(n, 1) for n in data]\n",
        "statistics.mean(tr_data)"
      ]
    },
    {
      "cell_type": "markdown",
      "metadata": {
        "id": "TeTK7RuouYS9"
      },
      "source": [
        "Este efcto ilustra los efectos del redondeo "
      ]
    },
    {
      "cell_type": "markdown",
      "metadata": {
        "id": "n3tdBB8SuYS-"
      },
      "source": [
        "Que pasa si queremos redondear 1.25? Este número representa un empate entre 1.2 y 1.3, ambos son los más cercanos a 1.25 en una cifra décimal. En este caso, se tiene que definir una forma de desempate, esta técnica se llama **Rounding half=up**. En este punto se tiene que establecer si el dígito décimal después del punto recorrido es menor o mayor que 5."
      ]
    },
    {
      "cell_type": "markdown",
      "metadata": {
        "id": "dswJQazXuYS-"
      },
      "source": [
        "Una forma de hacerlo es sumar 0.5 al valor dado y después redondear hacia abajo con math.floor()"
      ]
    },
    {
      "cell_type": "code",
      "execution_count": null,
      "metadata": {
        "id": "Jxn2dGOKuYS-"
      },
      "outputs": [],
      "source": [
        "def round_half_up(n, decimals=0):\n",
        "    multiplier = 10 ** decimals\n",
        "    return math.floor(n*multiplier + 0.5) / multiplier"
      ]
    },
    {
      "cell_type": "code",
      "execution_count": null,
      "metadata": {
        "id": "czBkXMnUuYS-",
        "outputId": "2fc5e64d-7b8d-4080-824d-f3caacd20119"
      },
      "outputs": [
        {
          "data": {
            "text/plain": [
              "1.2"
            ]
          },
          "execution_count": 36,
          "metadata": {},
          "output_type": "execute_result"
        }
      ],
      "source": [
        "round_half_up(1.23, 1)"
      ]
    },
    {
      "cell_type": "code",
      "execution_count": null,
      "metadata": {
        "id": "uhkPRRWIuYS_",
        "outputId": "373176a7-56ae-4bb7-84bf-7b71320561f7"
      },
      "outputs": [
        {
          "data": {
            "text/plain": [
              "1.3"
            ]
          },
          "execution_count": 37,
          "metadata": {},
          "output_type": "execute_result"
        }
      ],
      "source": [
        "round_half_up(1.28, 1)"
      ]
    },
    {
      "cell_type": "code",
      "execution_count": null,
      "metadata": {
        "id": "WeSn9ps0uYS_",
        "outputId": "772151ac-76a6-4205-a384-7a165e2d2fae"
      },
      "outputs": [
        {
          "data": {
            "text/plain": [
              "1.3"
            ]
          },
          "execution_count": 38,
          "metadata": {},
          "output_type": "execute_result"
        }
      ],
      "source": [
        "round_half_up(1.25, 1)"
      ]
    },
    {
      "cell_type": "markdown",
      "metadata": {
        "id": "1yBOeu8VuYS_"
      },
      "source": [
        "round_hal_up() simepre rompe el empate de los dos posibles valores, los valores negativos: -1.5 rredonde a -1, no a -2"
      ]
    },
    {
      "cell_type": "code",
      "execution_count": null,
      "metadata": {
        "id": "QSRNJJj6uYTA",
        "outputId": "064f9d5b-91da-4a80-98b0-8ddedd916c58"
      },
      "outputs": [
        {
          "data": {
            "text/plain": [
              "-1.0"
            ]
          },
          "execution_count": 39,
          "metadata": {},
          "output_type": "execute_result"
        }
      ],
      "source": [
        "round_half_up(-1.5)"
      ]
    },
    {
      "cell_type": "code",
      "execution_count": null,
      "metadata": {
        "id": "6eeoJ2ohuYTA",
        "outputId": "53cc821f-0dd9-47e7-e8c1-b1320a927267"
      },
      "outputs": [
        {
          "data": {
            "text/plain": [
              "-1.2"
            ]
          },
          "execution_count": 40,
          "metadata": {},
          "output_type": "execute_result"
        }
      ],
      "source": [
        "round_half_up(-1.25, 1)"
      ]
    },
    {
      "cell_type": "markdown",
      "metadata": {
        "id": "JV4LeFZEuYTA"
      },
      "source": [
        "Perfecto!! Ahora se puede obtener lo que la función round() no da:"
      ]
    },
    {
      "cell_type": "code",
      "execution_count": null,
      "metadata": {
        "id": "_VuWBrwTuYTA",
        "outputId": "2861ed3b-950b-4938-aff0-b75ac726119f"
      },
      "outputs": [
        {
          "data": {
            "text/plain": [
              "3.0"
            ]
          },
          "execution_count": 41,
          "metadata": {},
          "output_type": "execute_result"
        }
      ],
      "source": [
        "round_half_up(2.5)"
      ]
    },
    {
      "cell_type": "markdown",
      "metadata": {
        "id": "Lf3onnWguYTB"
      },
      "source": [
        "Pero que pasa con -1.225 con dos cifras décimales?"
      ]
    },
    {
      "cell_type": "code",
      "execution_count": null,
      "metadata": {
        "id": "ca8L3mCuuYTB",
        "outputId": "8bf5a480-c40f-4915-dac8-788b0de126c3"
      },
      "outputs": [
        {
          "data": {
            "text/plain": [
              "-1.23"
            ]
          },
          "execution_count": 42,
          "metadata": {},
          "output_type": "execute_result"
        }
      ],
      "source": [
        "round_half_up(-1.225, 2)"
      ]
    },
    {
      "cell_type": "markdown",
      "metadata": {
        "id": "FcI-Otx4uYTD"
      },
      "source": [
        "-1.225 esta en medio de -1.22 y -1.23. Como -1.22 es el mayoro de estos dos, round_half_up(-1.225, 2) deberí a regresar -1.22. Sin embargo, obtenemos: -1.23."
      ]
    },
    {
      "cell_type": "markdown",
      "metadata": {
        "id": "a6knOkuZuYTD"
      },
      "source": [
        "Habrá un error en la función round_half_up()? Lo primero que observamos que es que -1.225 no se multiplica por 100. Vamos a asegurar esto:"
      ]
    },
    {
      "cell_type": "code",
      "execution_count": null,
      "metadata": {
        "id": "-lJdHNMTuYTD",
        "outputId": "e1a6d81c-cdd9-404f-cf24-db189f0aab71"
      },
      "outputs": [
        {
          "data": {
            "text/plain": [
              "-122.50000000000001"
            ]
          },
          "execution_count": 63,
          "metadata": {},
          "output_type": "execute_result"
        }
      ],
      "source": [
        "-1.225 * 100"
      ]
    },
    {
      "cell_type": "markdown",
      "metadata": {
        "id": "8x-grmJmuYTD"
      },
      "source": [
        "Esto esta mal, pero no explica por que round_half_up(-1.225), regresa -1.23. Esto es por el error de representación en Python "
      ]
    },
    {
      "cell_type": "code",
      "execution_count": null,
      "metadata": {
        "id": "Hxy3N4gYuYTE",
        "outputId": "0e9ea47c-018a-4ab8-b60f-52fbd6c9b6d6"
      },
      "outputs": [
        {
          "name": "stdout",
          "output_type": "stream",
          "text": [
            "Precision:\n",
            "1.10000000000000008881784197001\n"
          ]
        }
      ],
      "source": [
        "import decimal\n",
        "d = decimal.Decimal(1.1)\n",
        "print('Precision:')\n",
        "print('{:.30}'.format(d))"
      ]
    },
    {
      "cell_type": "code",
      "execution_count": null,
      "metadata": {
        "id": "w7eLBTQ3uYTE",
        "outputId": "62e01b50-a469-433b-db2f-de54f89adce8"
      },
      "outputs": [
        {
          "name": "stdout",
          "output_type": "stream",
          "text": [
            "\n",
            "Ancho con presicion combinada:\n",
            "  1.1     1\n",
            " 1.10   1.1\n",
            " 1.10   1.1\n"
          ]
        }
      ],
      "source": [
        "print('\\nAncho con presicion combinada:')\n",
        "print('{:5.1f} {:5.1g}'.format(d, d))\n",
        "print('{:5.2f} {:5.2g}'.format(d, d))\n",
        "print('{:5.2f} {:5.2g}'.format(d, d))"
      ]
    },
    {
      "cell_type": "code",
      "execution_count": null,
      "metadata": {
        "id": "hu0Nw_BSuYTE",
        "outputId": "afaab302-ab2a-4bff-990b-92fcc7fc7a81"
      },
      "outputs": [
        {
          "data": {
            "text/plain": [
              "9999.99"
            ]
          },
          "execution_count": 61,
          "metadata": {},
          "output_type": "execute_result"
        }
      ],
      "source": [
        "_ / 100"
      ]
    },
    {
      "cell_type": "markdown",
      "metadata": {
        "id": "OSZEjJ5FuYTF"
      },
      "source": [
        "Esto fue tomado de la página: https://realpython.com/python-rounding/"
      ]
    },
    {
      "cell_type": "code",
      "execution_count": null,
      "metadata": {
        "id": "b7N9BZfWuYTF"
      },
      "outputs": [],
      "source": []
    }
  ],
  "metadata": {
    "kernelspec": {
      "display_name": "Python 3",
      "language": "python",
      "name": "python3"
    },
    "language_info": {
      "codemirror_mode": {
        "name": "ipython",
        "version": 3
      },
      "file_extension": ".py",
      "mimetype": "text/x-python",
      "name": "python",
      "nbconvert_exporter": "python",
      "pygments_lexer": "ipython3",
      "version": "3.8.5"
    },
    "colab": {
      "provenance": []
    }
  },
  "nbformat": 4,
  "nbformat_minor": 0
}