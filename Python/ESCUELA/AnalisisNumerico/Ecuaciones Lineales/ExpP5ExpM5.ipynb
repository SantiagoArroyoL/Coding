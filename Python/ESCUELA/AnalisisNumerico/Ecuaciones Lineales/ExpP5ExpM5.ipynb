{
  "cells": [
    {
      "cell_type": "markdown",
      "metadata": {
        "collapsed": true,
        "id": "87KhhbMlXbU2"
      },
      "source": [
        "# Análisis numérico 1:  Ursula Iturrarán-Viveros  "
      ]
    },
    {
      "cell_type": "markdown",
      "metadata": {
        "id": "3BV-rcIDXbU4"
      },
      "source": [
        "# Ejemplo de cancelación "
      ]
    },
    {
      "cell_type": "code",
      "execution_count": null,
      "metadata": {
        "id": "fJzrpZ8iXbU5"
      },
      "outputs": [],
      "source": [
        "import numpy as np\n",
        "import math as mt\n",
        "from decimal import *\n",
        "import matplotlib.pyplot as plt\n",
        "import numpy as np"
      ]
    },
    {
      "cell_type": "markdown",
      "metadata": {
        "id": "upuH7JoZXbU6"
      },
      "source": [
        "La funcion exponencial se puede calcular por medio de su serie de Taylor como sigue: $$ e^x=1+\\frac{x}{1!}+\\frac{x^2}{2!}+\\frac{x^3}{3!}+ \\frac{x^4}{4!}+\\ldots =\\sum\\limits_{n=0}^{\\infty}\\frac{x^n}{n!}$$\n",
        "\n",
        "Cuando $x>0$ numericamente no hay problema en aproximar $e^x$, pero cuando $x<0$, los signos de la serie se alternan y las magintudes los terminos positivos y negativos se van pareciendo, lo que produce errores de cancelacion catastrofica. Por esta razon se propone una formula alternativa (para cuando $x<0$): $$ e^{-x}=\\frac{1}{e^x} $$"
      ]
    },
    {
      "cell_type": "code",
      "execution_count": null,
      "metadata": {
        "id": "l35aFV8zXbU7"
      },
      "outputs": [],
      "source": [
        "#Calcular la exponencial como serie de Taylor\n",
        "def exptaylor(x,n):\n",
        "    sum=0.0\n",
        "    for k in range(n):\n",
        "        sum +=x**k/mt.factorial(k)\n",
        "        print(\"k=\", k, \"s(k)=\",sum)\n",
        "    return sum"
      ]
    },
    {
      "cell_type": "code",
      "execution_count": null,
      "metadata": {
        "id": "fJbg-QqDXbU8",
        "outputId": "d40f1f64-5a9e-41b6-d49b-831e7985631a"
      },
      "outputs": [
        {
          "name": "stdout",
          "output_type": "stream",
          "text": [
            "Dame el numero de terminos en la sumatoria: 100\n",
            "Dame el x de la exponencial exp(x): 5\n",
            "k= 0 s(k)= 1.0\n",
            "k= 1 s(k)= 6.0\n",
            "k= 2 s(k)= 18.5\n",
            "k= 3 s(k)= 39.33333333333333\n",
            "k= 4 s(k)= 65.375\n",
            "k= 5 s(k)= 91.41666666666667\n",
            "k= 6 s(k)= 113.11805555555556\n",
            "k= 7 s(k)= 128.61904761904762\n",
            "k= 8 s(k)= 138.30716765873015\n",
            "k= 9 s(k)= 143.68945656966488\n",
            "k= 10 s(k)= 146.38060102513225\n",
            "k= 11 s(k)= 147.60384850489015\n",
            "k= 12 s(k)= 148.1135349547893\n",
            "k= 13 s(k)= 148.3095682047505\n",
            "k= 14 s(k)= 148.37958007973663\n",
            "k= 15 s(k)= 148.40291737139867\n",
            "k= 16 s(k)= 148.41021027504306\n",
            "k= 17 s(k)= 148.41235524670316\n",
            "k= 18 s(k)= 148.4129510721643\n",
            "k= 19 s(k)= 148.4131078683383\n",
            "k= 20 s(k)= 148.4131470673818\n",
            "k= 21 s(k)= 148.4131564004874\n",
            "k= 22 s(k)= 148.41315852164774\n",
            "k= 23 s(k)= 148.41315898276957\n",
            "k= 24 s(k)= 148.41315907883663\n",
            "k= 25 s(k)= 148.41315909805004\n",
            "k= 26 s(k)= 148.41315910174492\n",
            "k= 27 s(k)= 148.41315910242915\n",
            "k= 28 s(k)= 148.41315910255133\n",
            "k= 29 s(k)= 148.4131591025724\n",
            "k= 30 s(k)= 148.41315910257592\n",
            "k= 31 s(k)= 148.4131591025765\n",
            "k= 32 s(k)= 148.41315910257657\n",
            "k= 33 s(k)= 148.41315910257657\n",
            "k= 34 s(k)= 148.41315910257657\n",
            "k= 35 s(k)= 148.41315910257657\n",
            "k= 36 s(k)= 148.41315910257657\n",
            "k= 37 s(k)= 148.41315910257657\n",
            "k= 38 s(k)= 148.41315910257657\n",
            "k= 39 s(k)= 148.41315910257657\n",
            "k= 40 s(k)= 148.41315910257657\n",
            "k= 41 s(k)= 148.41315910257657\n",
            "k= 42 s(k)= 148.41315910257657\n",
            "k= 43 s(k)= 148.41315910257657\n",
            "k= 44 s(k)= 148.41315910257657\n",
            "k= 45 s(k)= 148.41315910257657\n",
            "k= 46 s(k)= 148.41315910257657\n",
            "k= 47 s(k)= 148.41315910257657\n",
            "k= 48 s(k)= 148.41315910257657\n",
            "k= 49 s(k)= 148.41315910257657\n",
            "k= 50 s(k)= 148.41315910257657\n",
            "k= 51 s(k)= 148.41315910257657\n",
            "k= 52 s(k)= 148.41315910257657\n",
            "k= 53 s(k)= 148.41315910257657\n",
            "k= 54 s(k)= 148.41315910257657\n",
            "k= 55 s(k)= 148.41315910257657\n",
            "k= 56 s(k)= 148.41315910257657\n",
            "k= 57 s(k)= 148.41315910257657\n",
            "k= 58 s(k)= 148.41315910257657\n",
            "k= 59 s(k)= 148.41315910257657\n",
            "k= 60 s(k)= 148.41315910257657\n",
            "k= 61 s(k)= 148.41315910257657\n",
            "k= 62 s(k)= 148.41315910257657\n",
            "k= 63 s(k)= 148.41315910257657\n",
            "k= 64 s(k)= 148.41315910257657\n",
            "k= 65 s(k)= 148.41315910257657\n",
            "k= 66 s(k)= 148.41315910257657\n",
            "k= 67 s(k)= 148.41315910257657\n",
            "k= 68 s(k)= 148.41315910257657\n",
            "k= 69 s(k)= 148.41315910257657\n",
            "k= 70 s(k)= 148.41315910257657\n",
            "k= 71 s(k)= 148.41315910257657\n",
            "k= 72 s(k)= 148.41315910257657\n",
            "k= 73 s(k)= 148.41315910257657\n",
            "k= 74 s(k)= 148.41315910257657\n",
            "k= 75 s(k)= 148.41315910257657\n",
            "k= 76 s(k)= 148.41315910257657\n",
            "k= 77 s(k)= 148.41315910257657\n",
            "k= 78 s(k)= 148.41315910257657\n",
            "k= 79 s(k)= 148.41315910257657\n",
            "k= 80 s(k)= 148.41315910257657\n",
            "k= 81 s(k)= 148.41315910257657\n",
            "k= 82 s(k)= 148.41315910257657\n",
            "k= 83 s(k)= 148.41315910257657\n",
            "k= 84 s(k)= 148.41315910257657\n",
            "k= 85 s(k)= 148.41315910257657\n",
            "k= 86 s(k)= 148.41315910257657\n",
            "k= 87 s(k)= 148.41315910257657\n",
            "k= 88 s(k)= 148.41315910257657\n",
            "k= 89 s(k)= 148.41315910257657\n",
            "k= 90 s(k)= 148.41315910257657\n",
            "k= 91 s(k)= 148.41315910257657\n",
            "k= 92 s(k)= 148.41315910257657\n",
            "k= 93 s(k)= 148.41315910257657\n",
            "k= 94 s(k)= 148.41315910257657\n",
            "k= 95 s(k)= 148.41315910257657\n",
            "k= 96 s(k)= 148.41315910257657\n",
            "k= 97 s(k)= 148.41315910257657\n",
            "k= 98 s(k)= 148.41315910257657\n",
            "k= 99 s(k)= 148.41315910257657\n",
            "Valor exacto= 148.4131591025766\n",
            "Error relativo = 1.915039717654698e-16\n"
          ]
        }
      ],
      "source": [
        "m =input('Dame el número de términos en la sumatoria: ')\n",
        "arg =input('Dame el x de la exponencial exp(x): ')\n",
        "arg=float(arg)\n",
        "p=exptaylor(arg, int(m))\n",
        "print(\"Valor exacto=\", mt.exp(arg))\n",
        "print(\"Error relativo =\", mt.fabs((mt.exp(arg)-p)/mt.exp(arg)))"
      ]
    },
    {
      "cell_type": "code",
      "execution_count": null,
      "metadata": {
        "collapsed": true,
        "id": "AxONG2tYXbU_"
      },
      "outputs": [],
      "source": [
        "#Ejercicio: Que pasa si el exponente es NEGATIVO??, por ejemplo exp(-5)??"
      ]
    },
    {
      "cell_type": "code",
      "execution_count": null,
      "metadata": {
        "id": "LcKoJsnRXbVA",
        "outputId": "019fc162-0730-45ad-f20c-60793cc410a4"
      },
      "outputs": [
        {
          "name": "stdout",
          "output_type": "stream",
          "text": [
            "Dame el numero de terminos en la sumatoria: 10\n",
            "Dame el x de la exponencial exp(x): -5\n",
            "k= 0 s(k)= 1.0\n",
            "k= 1 s(k)= -4.0\n",
            "k= 2 s(k)= 8.5\n",
            "k= 3 s(k)= -12.333333333333332\n",
            "k= 4 s(k)= 13.708333333333336\n",
            "k= 5 s(k)= -12.333333333333332\n",
            "k= 6 s(k)= 9.368055555555557\n",
            "k= 7 s(k)= -6.132936507936506\n",
            "k= 8 s(k)= 3.5551835317460334\n",
            "k= 9 s(k)= -1.827105379188711\n",
            "Valor exacto= 0.006737946999085467\n",
            "Error relativo = 272.16648133870774\n",
            "Alternativa exp(-x)=1/exp(x)\n",
            "k= 0 s(k)= 1.0\n",
            "k= 1 s(k)= 6.0\n",
            "k= 2 s(k)= 18.5\n",
            "k= 3 s(k)= 39.33333333333333\n",
            "k= 4 s(k)= 65.375\n",
            "k= 5 s(k)= 91.41666666666667\n",
            "k= 6 s(k)= 113.11805555555556\n",
            "k= 7 s(k)= 128.61904761904762\n",
            "k= 8 s(k)= 138.30716765873015\n",
            "k= 9 s(k)= 143.68945656966488\n",
            "Error relativo con formula alternativa= 0.0328743851197011\n"
          ]
        }
      ],
      "source": [
        "m =input('Dame el número de términos en la sumatoria: ')\n",
        "arg =input('Dame el x de la exponencial exp(x): ')\n",
        "arg=float(arg)\n",
        "p=exptaylor(arg, int(m))\n",
        "print(\"Valor exacto=\", mt.exp(arg))\n",
        "print(\"Error relativo =\", mt.fabs((mt.exp(arg)-p)/mt.exp(arg)))\n",
        "print(\"Alternativa exp(-x)=1/exp(x)\")\n",
        "p1=exptaylor(-arg,int(m))\n",
        "print(\"Error relativo con fórmula alternativa=\", mt.fabs((mt.exp(arg)-(1.0/p1))/mt.exp(arg)))"
      ]
    },
    {
      "cell_type": "code",
      "execution_count": null,
      "metadata": {
        "id": "okW2d-LLXbVA"
      },
      "outputs": [],
      "source": []
    }
  ],
  "metadata": {
    "kernelspec": {
      "display_name": "Python 3",
      "language": "python",
      "name": "python3"
    },
    "language_info": {
      "codemirror_mode": {
        "name": "ipython",
        "version": 3
      },
      "file_extension": ".py",
      "mimetype": "text/x-python",
      "name": "python",
      "nbconvert_exporter": "python",
      "pygments_lexer": "ipython3",
      "version": "3.8.5"
    },
    "colab": {
      "provenance": []
    }
  },
  "nbformat": 4,
  "nbformat_minor": 0
}