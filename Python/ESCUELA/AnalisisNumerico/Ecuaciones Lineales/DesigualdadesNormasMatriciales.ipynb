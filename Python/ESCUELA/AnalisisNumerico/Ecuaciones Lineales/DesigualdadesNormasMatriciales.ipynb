{
  "cells": [
    {
      "cell_type": "markdown",
      "metadata": {
        "id": "QKtxZ3inxr2N"
      },
      "source": [
        "# <center>Normas matriciales y sus desigualdades"
      ]
    },
    {
      "cell_type": "markdown",
      "metadata": {
        "id": "RsrU0pAaxr2R"
      },
      "source": [
        "##  <center> Análisis Numérico  \n",
        "##  <center> Ursula Iturrarán-Viveros"
      ]
    },
    {
      "cell_type": "markdown",
      "metadata": {
        "id": "nNXYXrQuxr2S"
      },
      "source": [
        "Supongamos que tenemos la matriz generada aleatoriamente:"
      ]
    },
    {
      "cell_type": "code",
      "execution_count": null,
      "metadata": {
        "id": "g2YiBulJxr2S",
        "outputId": "14254194-a309-4b6c-9409-b935e6f739a3"
      },
      "outputs": [
        {
          "data": {
            "text/plain": [
              "array([[-6,  9],\n",
              "       [ 6,  2],\n",
              "       [-5,  9]])"
            ]
          },
          "execution_count": 1,
          "metadata": {},
          "output_type": "execute_result"
        }
      ],
      "source": [
        "import numpy as np\n",
        "a = np.random.randint(-10, 10, size=(3, 2))\n",
        "a"
      ]
    },
    {
      "cell_type": "markdown",
      "metadata": {
        "id": "klkLC_BRxr2U"
      },
      "source": [
        "Necesitamos el número de renglones ($n$) y columnas ($m$) que podemos obtener:"
      ]
    },
    {
      "cell_type": "code",
      "execution_count": null,
      "metadata": {
        "id": "iSrE_ZdSxr2U",
        "outputId": "60339104-15d4-41b0-a32d-e2a05472c194"
      },
      "outputs": [
        {
          "name": "stdout",
          "output_type": "stream",
          "text": [
            "3 2\n"
          ]
        }
      ],
      "source": [
        "n, m = a.shape\n",
        "print(n, m)"
      ]
    },
    {
      "cell_type": "markdown",
      "metadata": {
        "id": "7iKJUtW8xr2V"
      },
      "source": [
        "### Norma de Frobenius"
      ]
    },
    {
      "cell_type": "markdown",
      "metadata": {
        "id": "n7zDtQmDxr2V"
      },
      "source": [
        "La norma de **Frobenius** se conoce también como la nora de **Hilbert-Schmidt** o la norma de **Schur**, es una de las nomras matriciales más usadas en algebra lineal. La norma de Frobenius se define:"
      ]
    },
    {
      "cell_type": "markdown",
      "metadata": {
        "id": "dtFuIbZ-xr2W"
      },
      "source": [
        "$$\n",
        "\\left\\Vert \\mathbf{A} \\right\\Vert_{F} = \\sqrt{\\sum_{i = 1}^{m} \\sum_{j = 1}^{n} |a_{ij}^2|} \n",
        "$$"
      ]
    },
    {
      "cell_type": "markdown",
      "metadata": {
        "id": "f-fAS7Sjxr2W"
      },
      "source": [
        "Esto se puede programar de la siguiente manera:"
      ]
    },
    {
      "cell_type": "code",
      "execution_count": null,
      "metadata": {
        "id": "3I2A-ggWxr2X",
        "outputId": "7b8038aa-4282-46f5-9304-f02f8d349649"
      },
      "outputs": [
        {
          "data": {
            "text/plain": [
              "16.217274740226856"
            ]
          },
          "execution_count": 3,
          "metadata": {},
          "output_type": "execute_result"
        }
      ],
      "source": [
        "f = 0 #En esta variable se acumula la suma dentro de la raíz cuadrada\n",
        "for i in np.arange(n): #Recorre los renglones\n",
        "    for j in np.arange(m): #Recorre las columnas\n",
        "        f = f + np.sum(np.power(np.abs(a[i, j]), 2)) #Va agregando los términos de la doble sumatoria\n",
        "\n",
        "np.sqrt(f) #Calcula la raíz cuadrada del resultado"
      ]
    },
    {
      "cell_type": "markdown",
      "metadata": {
        "id": "cZM3Y7EIxr2X"
      },
      "source": [
        "Se puede hacer uso de la vectoriazación y esto mejora la eficiencia. Con una sola instrucción recorre los renglones y columnas de la matriz"
      ]
    },
    {
      "cell_type": "code",
      "execution_count": null,
      "metadata": {
        "id": "FU7Ll6NQxr2Y",
        "outputId": "a81173b5-8c73-4305-df32-e394a272231e"
      },
      "outputs": [
        {
          "data": {
            "text/plain": [
              "16.217274740226856"
            ]
          },
          "execution_count": 4,
          "metadata": {},
          "output_type": "execute_result"
        }
      ],
      "source": [
        "np.sqrt(np.sum(np.abs(a) ** 2))"
      ]
    },
    {
      "cell_type": "markdown",
      "metadata": {
        "id": "KIOa3mcexr2Y"
      },
      "source": [
        "Numpy de Python ya tiene esta norma incluida en la función 'norm' solo hay que especificar 'fro' para que calcule la norma de Frobenius"
      ]
    },
    {
      "cell_type": "code",
      "execution_count": null,
      "metadata": {
        "id": "sHcH12Dlxr2Y",
        "outputId": "368796da-bed0-45a2-b0cf-11ea077e97fa"
      },
      "outputs": [
        {
          "data": {
            "text/plain": [
              "16.217274740226856"
            ]
          },
          "execution_count": 5,
          "metadata": {},
          "output_type": "execute_result"
        }
      ],
      "source": [
        "np.linalg.norm(a, 'fro')"
      ]
    },
    {
      "cell_type": "markdown",
      "metadata": {
        "id": "s9cDLyRZxr2Z"
      },
      "source": [
        "### Norma-1 "
      ]
    },
    {
      "cell_type": "markdown",
      "metadata": {
        "id": "4NN9KSpzxr2Z"
      },
      "source": [
        "$$\n",
        "\\left\\Vert \\mathbf{A}\\right\\Vert _{1}\\ = \\sup_{\\vec{x}\\neq\\vec{0}}\\frac{\\left\\Vert A\\vec{x}\\right\\Vert _{1}}{\\left\\Vert\\vec{x}\\right\\Vert _{1}} = \\max_{1\\leq j\\leq n}\\left(\\sum_{i=1}^{n}\\left|a_{ij}\\right|\\right) = \\max_{1\\leq j\\leq n}\\left\\Vert \\vec{a}_{j}\\right\\Vert _{1} \\quad \\text{máximo de la suma de cada una de las columnas}\n",
        "$$"
      ]
    },
    {
      "cell_type": "code",
      "execution_count": null,
      "metadata": {
        "id": "M6q8MYUDxr2Z",
        "outputId": "d87e696d-8b0e-4a99-8adf-7ad52a020538"
      },
      "outputs": [
        {
          "data": {
            "text/plain": [
              "20"
            ]
          },
          "execution_count": 6,
          "metadata": {},
          "output_type": "execute_result"
        }
      ],
      "source": [
        "colsums = []\n",
        "for i in np.arange(m): #Para todas las columnas\n",
        "    v = np.sum(np.abs(a[:, i]))\n",
        "    colsums.append(v)\n",
        "\n",
        "np.max(colsums)"
      ]
    },
    {
      "cell_type": "markdown",
      "metadata": {
        "id": "OBOIReR8xr2a"
      },
      "source": [
        "Podemos hacer 'axis=0' con lo que la función 'sum' de Python sumará por columna, esto equivale a la vectorización, siendo así más rápida"
      ]
    },
    {
      "cell_type": "code",
      "execution_count": null,
      "metadata": {
        "id": "YrnGzKuhxr2a",
        "outputId": "a09e0aaf-f9d3-4a98-e03a-73d60f9f9106"
      },
      "outputs": [
        {
          "data": {
            "text/plain": [
              "20"
            ]
          },
          "execution_count": 7,
          "metadata": {},
          "output_type": "execute_result"
        }
      ],
      "source": [
        "np.max(np.sum(np.abs(a), axis=0))"
      ]
    },
    {
      "cell_type": "markdown",
      "metadata": {
        "id": "5OibTBVdxr2a"
      },
      "source": [
        "Comprobamos con el modulo de Numpy"
      ]
    },
    {
      "cell_type": "code",
      "execution_count": null,
      "metadata": {
        "id": "s8Unp_tvxr2a",
        "outputId": "d81fb2d3-7008-47a8-ea97-43ca84a8e043"
      },
      "outputs": [
        {
          "data": {
            "text/plain": [
              "20.0"
            ]
          },
          "execution_count": 8,
          "metadata": {},
          "output_type": "execute_result"
        }
      ],
      "source": [
        "np.linalg.norm(a, 1)"
      ]
    },
    {
      "cell_type": "markdown",
      "metadata": {
        "id": "TvlYOdlExr2b"
      },
      "source": [
        "### Nomra infinito $\\infty$-Norm"
      ]
    },
    {
      "cell_type": "markdown",
      "metadata": {
        "id": "5nqoAzzsxr2b"
      },
      "source": [
        "$$\n",
        "\\left\\Vert \\mathbf{A}\\right\\Vert _{\\infty} = \\sup_{\\vec{x}\\neq\\vec{0}}\\frac{\\left\\Vert A\\vec{x}\\right\\Vert _{\\infty}}{\\left\\Vert \\vec{x}\\right\\Vert _{\\infty}} = \\max_{1\\leq i\\leq n}\\left(\\sum_{j=1}^{n}\\left|a_{ij}\\right|\\right) = \\max_{1\\leq i\\leq n}\\left\\Vert \\vec{a}_{i}\\right\\Vert _{1} \\quad \\text{máximo de la suma de cada uno de los renglones}\n",
        "$$\n",
        "\n"
      ]
    },
    {
      "cell_type": "code",
      "execution_count": null,
      "metadata": {
        "id": "ukrN592Mxr2c",
        "outputId": "0632b79c-a083-4d9e-c572-7666f18c0ef7"
      },
      "outputs": [
        {
          "data": {
            "text/plain": [
              "15"
            ]
          },
          "execution_count": 10,
          "metadata": {},
          "output_type": "execute_result"
        }
      ],
      "source": [
        "rowsums = []\n",
        "for i in np.arange(n): #Para todos los renglones\n",
        "    v = np.sum(np.absolute(a[i, :]))\n",
        "    rowsums.append(v)\n",
        "\n",
        "np.max(rowsums)"
      ]
    },
    {
      "cell_type": "markdown",
      "metadata": {
        "id": "a8y20pK1xr2c"
      },
      "source": [
        "Análogo a la norma uno, hacemos 'axis=1'"
      ]
    },
    {
      "cell_type": "code",
      "execution_count": null,
      "metadata": {
        "id": "14wCxH-hxr2c",
        "outputId": "4099120d-a988-4381-c570-71a8b2f20932"
      },
      "outputs": [
        {
          "data": {
            "text/plain": [
              "15"
            ]
          },
          "execution_count": 11,
          "metadata": {},
          "output_type": "execute_result"
        }
      ],
      "source": [
        "np.max(np.sum(np.abs(a), axis=1))"
      ]
    },
    {
      "cell_type": "markdown",
      "metadata": {
        "id": "bMu8tQuMxr2d"
      },
      "source": [
        "Lo verificamos con Numpy"
      ]
    },
    {
      "cell_type": "code",
      "execution_count": null,
      "metadata": {
        "id": "LS0baSmsxr2d",
        "outputId": "7b42c0f0-30fb-4a16-c8ef-ffeb4e57dd1e"
      },
      "outputs": [
        {
          "data": {
            "text/plain": [
              "15.0"
            ]
          },
          "execution_count": 12,
          "metadata": {},
          "output_type": "execute_result"
        }
      ],
      "source": [
        "np.linalg.norm(a, np.inf)"
      ]
    },
    {
      "cell_type": "markdown",
      "metadata": {
        "id": "etqpgHTpxr2d"
      },
      "source": [
        "### Norma 2"
      ]
    },
    {
      "cell_type": "markdown",
      "metadata": {
        "id": "FAYjmHxaxr2d"
      },
      "source": [
        "* El caso particular de $p=2$ es conocido como norma euclidiana:\n",
        "$$\\left\\Vert \\mathbf{A}\\right\\Vert _{2}=\\max_{1 \\leqslant i \\leqslant n}\\sqrt{{\\lambda_i(\\mathbf{A}^{T}\\mathbf{A})}}$$"
      ]
    },
    {
      "cell_type": "markdown",
      "metadata": {
        "id": "q_Tn8NxZxr2d"
      },
      "source": [
        "Esta es la raíz cuadrada del máximo de los eigenvalores ($\\lambda_i$) de la matrix que es el producto interior: $\\mathbf{A}^{T}\\mathbf{A}$. Existe una función de Numpy que permite el cálculo de los eigenvalores"
      ]
    },
    {
      "cell_type": "code",
      "execution_count": null,
      "metadata": {
        "id": "qRJsLQfnxr2e",
        "outputId": "268cbaf9-8702-4842-cff4-ace77efc72a0"
      },
      "outputs": [
        {
          "data": {
            "text/plain": [
              "15.00302852556239"
            ]
          },
          "execution_count": 13,
          "metadata": {},
          "output_type": "execute_result"
        }
      ],
      "source": [
        "np.sqrt(np.max(np.linalg.eigvals(np.inner(a, a))))"
      ]
    },
    {
      "cell_type": "markdown",
      "metadata": {
        "id": "iaG3IORtxr2e"
      },
      "source": [
        "Lo comprobamos con la función de Python"
      ]
    },
    {
      "cell_type": "code",
      "execution_count": null,
      "metadata": {
        "id": "MQXuO9q6xr2e",
        "outputId": "c0004fc7-3da2-4202-c70a-f7106d3655b5"
      },
      "outputs": [
        {
          "data": {
            "text/plain": [
              "15.003028525562398"
            ]
          },
          "execution_count": 15,
          "metadata": {},
          "output_type": "execute_result"
        }
      ],
      "source": [
        "np.linalg.norm(a, 2)"
      ]
    },
    {
      "cell_type": "markdown",
      "metadata": {
        "id": "XqsSat8Xxr2e"
      },
      "source": [
        "### Desigualdades y algunas propiedades de las normas matriciales"
      ]
    },
    {
      "cell_type": "markdown",
      "metadata": {
        "id": "pH91aHZKxr2e"
      },
      "source": [
        "Veamos algunas de las propiedades y desigualdades que surgen en las normas matriciales. La primera desigualdad es la llamada desigualdad de Hölder"
      ]
    },
    {
      "cell_type": "markdown",
      "metadata": {
        "id": "TAhJU9N-xr2f"
      },
      "source": [
        "$$\\left\\Vert \\mathbf{A}\\right\\Vert _{2} \\leqslant \\sqrt{ \\left\\Vert \\mathbf{A}\\right\\Vert _{1}\\left\\Vert \\mathbf{A}\\right\\Vert _{\\infty} }$$"
      ]
    },
    {
      "cell_type": "markdown",
      "metadata": {
        "id": "oj_qSI80xr2f"
      },
      "source": [
        "La siguiente función crea una matrix aleatoria de tamaño no mayor a $6 \\times 6$ y no menor a $3 \\times 3$ con elementos aleatorios entre $[-10,10]$. Se comparan las nomras 1, 2 e infinito. La función corre 100,000 ejemplos de matrices de este tipo. Usando la función de Python 'any' se puede verificar que ninugno de los resultados es 'False' lo que verifica que esta desiguladad se cumple.\n",
        "  "
      ]
    },
    {
      "cell_type": "code",
      "execution_count": null,
      "metadata": {
        "id": "OHfdACUbxr2f",
        "outputId": "22965353-9a43-43a4-fc32-6e5425203982"
      },
      "outputs": [
        {
          "data": {
            "text/plain": [
              "False"
            ]
          },
          "execution_count": 16,
          "metadata": {},
          "output_type": "execute_result"
        }
      ],
      "source": [
        "def holder_inequality():\n",
        "    mat_size = np.random.randint(3, 6, 2)\n",
        "    a = np.random.randint(-10, 10, size=mat_size)\n",
        "    \n",
        "    norm2 = np.sqrt(np.max(np.linalg.eigvals(np.inner(a, a))))\n",
        "    norm1 = np.max(np.sum(np.abs(a), axis=0))\n",
        "    inf_norm = np.max(np.sum(np.abs(a), axis=1))\n",
        "    \n",
        "    return norm2 <= np.sqrt(norm1 * inf_norm)\n",
        "\n",
        "res = []\n",
        "for i in range(0, 100000):\n",
        "    res.append(holder_inequality())\n",
        "    \n",
        "any(x == False for x in res)"
      ]
    },
    {
      "cell_type": "markdown",
      "metadata": {
        "id": "0SBYuVJJxr2f"
      },
      "source": [
        "Otra desigualdad entre la nomra de Frobenius y la Norma-2 se define como sigue:"
      ]
    },
    {
      "cell_type": "markdown",
      "metadata": {
        "id": "CJ7rRiBqxr2f"
      },
      "source": [
        "$$\\left\\Vert \\mathbf{A}\\right\\Vert _{2} \\leqslant \\left\\Vert \\mathbf{A}\\right\\Vert _{F} \\leqslant \\sqrt{n} \\left\\Vert \\mathbf{A}\\right\\Vert _{2} $$"
      ]
    },
    {
      "cell_type": "markdown",
      "metadata": {
        "id": "n746qbVuxr2f"
      },
      "source": [
        "La siguiente función (análoga a la anterior) crea una matrix aleatoria de tamaño no mayor a $6 \\times 6$ y no menor a $3 \\times 3$ con elementos aleatorios entre $[-10,10]$. Se comparan las nomras 1, 2 e infinito. La función corre 100,000 ejemplos de matrices de este tipo. Usando la función de Python 'any' se puede verificar que ninugno de los resultados es 'False' lo que verifica que esta desiguladad se cumple.\n",
        "  "
      ]
    },
    {
      "cell_type": "code",
      "execution_count": null,
      "metadata": {
        "id": "ZT-kNnSXxr2g",
        "outputId": "dbd3eb93-31e3-478e-ea6c-8f907512044a"
      },
      "outputs": [
        {
          "data": {
            "text/plain": [
              "False"
            ]
          },
          "execution_count": 19,
          "metadata": {},
          "output_type": "execute_result"
        }
      ],
      "source": [
        "def frobenius_2_norm_inequality():\n",
        "    mat_size = np.random.randint(3, 6, 2)\n",
        "    a = np.random.randint(-10, 10, size=mat_size)\n",
        "    \n",
        "    n = a.shape[1]\n",
        "    norm2 = np.sqrt(np.max(np.linalg.eigvals(np.inner(a, a))))\n",
        "    frob = np.sqrt(np.sum(np.abs(a) ** 2))\n",
        "    \n",
        "    return norm2 <= frob <= np.sqrt(n) * norm2\n",
        "\n",
        "res = []\n",
        "for i in range(0, 100000):\n",
        "    res.append(frobenius_2_norm_inequality())\n",
        "    \n",
        "any(x == False for x in res)"
      ]
    },
    {
      "cell_type": "markdown",
      "metadata": {
        "id": "_7qDcfVAxr2g"
      },
      "source": [
        "La siguiente es otra desigualdad que resulta en las normas matriciales. Cada desigualdad se demuestra (o se verifica) de forma similar a las anteriores"
      ]
    },
    {
      "cell_type": "markdown",
      "metadata": {
        "id": "C77mXrw4xr2g"
      },
      "source": [
        "$$\\max_{i,j}|a_{ij}|\\leqslant \\left\\Vert \\mathbf{A}\\right\\Vert _{2} \\leqslant \\sqrt{ mn} \\max_{i,j}|a_{ij}|$$"
      ]
    },
    {
      "cell_type": "code",
      "execution_count": null,
      "metadata": {
        "id": "2R8_gog9xr2g",
        "outputId": "e3ea46a5-60a5-45a7-eb6f-3dfbd077e05a"
      },
      "outputs": [
        {
          "data": {
            "text/plain": [
              "False"
            ]
          },
          "execution_count": 20,
          "metadata": {},
          "output_type": "execute_result"
        }
      ],
      "source": [
        "def inequality2():\n",
        "    mat_size = np.random.randint(3, 6, 2)\n",
        "    a = np.random.randint(-10, 10, size=mat_size)\n",
        "    maximum = np.max(np.abs(a))\n",
        "    norm2 = np.sqrt(np.max(np.linalg.eigvals(np.inner(a, a))))\n",
        "    right = np.sqrt(a.shape[0] * a.shape[1]) * maximum\n",
        "    \n",
        "    return maximum <= norm2 <= right\n",
        "\n",
        "res = []\n",
        "for i in range(0, 100000):\n",
        "    res.append(inequality2())\n",
        "    \n",
        "any(x == False for x in res)"
      ]
    },
    {
      "cell_type": "markdown",
      "metadata": {
        "id": "w6N2J_Pwxr2g"
      },
      "source": [
        "$$\\frac{1}{\\sqrt{n}} \\left\\Vert \\mathbf{A}\\right\\Vert _{\\infty}\\leqslant \\left\\Vert \\mathbf{A}\\right\\Vert _{2} \\leqslant \\sqrt{m} \\left\\Vert \\mathbf{A}\\right\\Vert _{\\infty}$$"
      ]
    },
    {
      "cell_type": "code",
      "execution_count": null,
      "metadata": {
        "id": "1kRIr6Lsxr2h",
        "outputId": "d52491ce-6064-4b18-e3d9-0e8568e55333"
      },
      "outputs": [
        {
          "data": {
            "text/plain": [
              "False"
            ]
          },
          "execution_count": 21,
          "metadata": {},
          "output_type": "execute_result"
        }
      ],
      "source": [
        "def inequality3():\n",
        "    mat_size = np.random.randint(3, 6, 2)\n",
        "    a = np.random.randint(0, 10, size=mat_size)\n",
        "    \n",
        "    inf_norm = np.max(np.sum(a, axis=1))\n",
        "    \n",
        "    left = 1 / np.sqrt(a.shape[1]) * inf_norm\n",
        "    norm2 = np.sqrt(np.max(np.linalg.eigvals(np.inner(a, a))))\n",
        "    right = np.sqrt(a.shape[0]) * inf_norm\n",
        "\n",
        "    return left <= norm2 <= right\n",
        "\n",
        "res = []\n",
        "for i in range(0, 100000):\n",
        "    res.append(inequality3())\n",
        "    \n",
        "any(x == False for x in res)"
      ]
    },
    {
      "cell_type": "markdown",
      "metadata": {
        "id": "B4gr_D-Lxr2h"
      },
      "source": [
        "$$\\frac{1}{\\sqrt{m}} \\left\\Vert \\mathbf{A}\\right\\Vert _{1}\\leqslant \\left\\Vert \\mathbf{A}\\right\\Vert _{2} \\leqslant \\sqrt{n} \\left\\Vert \\mathbf{A}\\right\\Vert _{1}$$"
      ]
    },
    {
      "cell_type": "code",
      "execution_count": null,
      "metadata": {
        "id": "_67LyYToxr2j",
        "outputId": "e09678c0-2310-42d5-b7b5-b94e9618c232"
      },
      "outputs": [
        {
          "data": {
            "text/plain": [
              "False"
            ]
          },
          "execution_count": 22,
          "metadata": {},
          "output_type": "execute_result"
        }
      ],
      "source": [
        "def inequality4():\n",
        "    mat_size = np.random.randint(3, 4, 2)\n",
        "    a = np.random.randint(0, 10, size=mat_size)\n",
        "    \n",
        "    norm1 = np.max(np.sum(a, axis=1))\n",
        "    norm2 = np.sqrt(np.max(np.linalg.eigvals(np.inner(a, a))))\n",
        "    right = np.sqrt(a.shape[1]) * norm1\n",
        "    \n",
        "    return 1 / np.sqrt(a.shape[0]) * norm1 <= norm2 <= right\n",
        "\n",
        "res = []\n",
        "for i in range(0, 100000):\n",
        "    res.append(inequality4())\n",
        "    \n",
        "any(x == False for x in res)"
      ]
    },
    {
      "cell_type": "markdown",
      "metadata": {
        "id": "O-ooXz7txr2j"
      },
      "source": [
        "### Referencias"
      ]
    },
    {
      "cell_type": "markdown",
      "metadata": {
        "id": "FgM62JzJxr2k"
      },
      "source": [
        "Golub, Gene; Van Loan, Charles F. (1996). Matrix Computations (Third ed.). Baltimore: The Johns Hopkins University Press.\n",
        "\n",
        "Wikipedia contributors. \"Matrix norm.\" Wikipedia, The Free Encyclopedia. Wikipedia, The Free Encyclopedia, 17 Apr. 2020. Web. 18 Apr. 2020\n",
        "\n",
        "Wikipedia contributors. \"Norm (mathematics).\" Wikipedia, The Free Encyclopedia. Wikipedia, The Free Encyclopedia, 2 Mar. 2020. Web. 5 Apr. 2020.)\n",
        "\n",
        "Weisstein, Eric W. \"Matrix Norm.\" From MathWorld--A Wolfram Web Resource. https://mathworld.wolfram.com/MatrixNorm.html\n",
        "\n",
        "https://www.math.usm.edu/lambers/mat610/sum10/lecture2.pdf"
      ]
    },
    {
      "cell_type": "markdown",
      "metadata": {
        "id": "nf1gdm6nxr2k"
      },
      "source": [
        "Ejemplos tomados de: https://aaronschlegel.me/matrix-norms-inequalities-python.html"
      ]
    },
    {
      "cell_type": "code",
      "execution_count": null,
      "metadata": {
        "id": "8LBTzew2xr2k"
      },
      "outputs": [],
      "source": []
    }
  ],
  "metadata": {
    "kernelspec": {
      "display_name": "Python 3",
      "language": "python",
      "name": "python3"
    },
    "language_info": {
      "codemirror_mode": {
        "name": "ipython",
        "version": 3
      },
      "file_extension": ".py",
      "mimetype": "text/x-python",
      "name": "python",
      "nbconvert_exporter": "python",
      "pygments_lexer": "ipython3",
      "version": "3.8.5"
    },
    "colab": {
      "provenance": []
    }
  },
  "nbformat": 4,
  "nbformat_minor": 0
}