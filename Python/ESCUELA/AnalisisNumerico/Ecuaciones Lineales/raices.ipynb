{
  "cells": [
    {
      "cell_type": "markdown",
      "metadata": {
        "collapsed": true,
        "id": "AeuljKov1JPu"
      },
      "source": [
        "# Análisis numérico 1:  Ursula Iturrarán-Viveros "
      ]
    },
    {
      "cell_type": "markdown",
      "metadata": {
        "id": "rukl14sH1JP0"
      },
      "source": [
        "# Alternativas para evitar la cancelación "
      ]
    },
    {
      "cell_type": "code",
      "execution_count": null,
      "metadata": {
        "id": "DGsy1LmX1JP1"
      },
      "outputs": [],
      "source": [
        "import numpy as np\n",
        "from math import sqrt\n",
        "from decimal import *\n",
        "import matplotlib.pyplot as plt\n",
        "import numpy as np"
      ]
    },
    {
      "cell_type": "code",
      "execution_count": null,
      "metadata": {
        "id": "6r-Ds8gB1JP2"
      },
      "outputs": [],
      "source": [
        "#Calcular la cuadrática con la fórmula tradicional\n",
        "import math\n",
        "import cmath\n",
        "def cuadratica(a,b,c):\n",
        "    disc=b**2-4.*a*c\n",
        "    if disc>=0:\n",
        "        x1=(-b+math.sqrt(b**2-4.0*a*c))/(2*a)\n",
        "        x2=(-b-math.sqrt(b**2-4.0*a*c))/(2*a)\n",
        "    #negative argument for the square root. i.e complex roots   \n",
        "    else:\n",
        "        x1=(-b+cmath.sqrt(b**2-4.0*a*c))/(2*a)\n",
        "        x2=(-b-cmath.sqrt(b**2-4.0*a*c))/(2*a)\n",
        "    return x1, x2"
      ]
    },
    {
      "cell_type": "markdown",
      "metadata": {
        "id": "byk9L_LO1JP3"
      },
      "source": [
        "Las dos soluciones de una ecuación cuadrática esta dadas por:\n",
        "$$  x=\\frac{-b \\pm \\sqrt{b^2-4ac}}{2a} $$ y \n",
        "Si $b^2 >>|4ac|$ encontes $\\sqrt{b^2-4ac}$ será muy parecida a $|b|$ por lo que habrá efectos de cancelación (si no se cuenta con suficiente precisión) al calcular $x_2$. Para evitar estos efectos de cancelación en este caso, se puede aplicar una fórmula alternativa."
      ]
    },
    {
      "cell_type": "markdown",
      "metadata": {
        "id": "rzwI5bBG1JP4"
      },
      "source": [
        "Obtener la raíz más grande (en valor absoulto) $x_1$ aplicando la ecuación siguiente:\n",
        "$$  x=\\frac{-b +\\mathrm{sgn}(b) \\sqrt{b^2-4ac}}{2a} $$ y como $ ax^2+bx+c=a(x-x_1)(x-x_2)$ esto implica que el término independiente es: $ax_1x_2=c$ por lo que la otra raíz ($x_2$) se puede cálcular como: $$x_2=\\frac{c}{ax_1} $$\n"
      ]
    },
    {
      "cell_type": "code",
      "execution_count": null,
      "metadata": {
        "id": "58MeYVyg1JP4"
      },
      "outputs": [],
      "source": [
        "#Calcular la cuadratica con la fórmula alternativa\n",
        "def cuad_alternativa(a,b,c):\n",
        "    disc=b**2-4.*a*c\n",
        "    if -b>0:\n",
        "        x1=(-b+math.sqrt(disc))/(2.*a)\n",
        "        x2=c/(a*x1)\n",
        "    else:\n",
        "        x1=(-b-cmath.sqrt(disc))/(2.*a)\n",
        "        x2=c/(a*x1)\n",
        "    return x1,x2"
      ]
    },
    {
      "cell_type": "markdown",
      "metadata": {
        "id": "meJbww2F1JP5"
      },
      "source": [
        "Esto es equivalente a usar el método de racionalización y multiplicar la ecuación de solución de la cuadrática por un factor 1 conveniente: $$ x=\\frac{-b \\pm \\sqrt{b^2-4ac}}{2a}\\left[\\frac{-b-\\sqrt{b^2-4ac}}{-b-\\sqrt{b^2-4ac}} \\right]$$ obteniendo las dos raíces \n",
        "$$ x_1=\\frac{2c}{-b-\\sqrt{b^2-4ac}}$$ y $$x_2=\\frac{2c}{-b+\\sqrt{b^2-4ac}}$$ Teniendo en cuenta que la fórmula \n",
        "alternativa se aplicará **solo** a aquella raíz donde haya efecto de cancelación.                  "
      ]
    },
    {
      "cell_type": "markdown",
      "metadata": {
        "id": "B7yXhTTA1JP6"
      },
      "source": [
        "## Caso $a=6$, $b=5$, $c=−4$"
      ]
    },
    {
      "cell_type": "code",
      "execution_count": null,
      "metadata": {
        "id": "sjZG-azF1JP7",
        "outputId": "f2615ce0-b237-4b9b-971c-b2294cb1a2a1"
      },
      "outputs": [
        {
          "name": "stdout",
          "output_type": "stream",
          "text": [
            "Dame el coeficiente a:6\n"
          ]
        }
      ],
      "source": [
        "a = input(\"Dame el coeficiente a:\")\n",
        "a=float(a)"
      ]
    },
    {
      "cell_type": "code",
      "execution_count": null,
      "metadata": {
        "id": "LFlYyj2Y1JP8",
        "outputId": "94acfbc8-a0e4-4dbd-cccc-41ae95aa49ff"
      },
      "outputs": [
        {
          "name": "stdout",
          "output_type": "stream",
          "text": [
            "Dame el coeficiente b:5\n"
          ]
        }
      ],
      "source": [
        "b = input(\"Dame el coeficiente b:\")\n",
        "b=float(b)"
      ]
    },
    {
      "cell_type": "code",
      "execution_count": null,
      "metadata": {
        "id": "SMrWtKJk1JP8",
        "outputId": "9592915d-2e3b-400b-f637-bdba29ec81a4"
      },
      "outputs": [
        {
          "name": "stdout",
          "output_type": "stream",
          "text": [
            "Dame el coeficiente c:-4\n"
          ]
        }
      ],
      "source": [
        "c = input(\"Dame el coeficiente c:\")\n",
        "c=float(c)"
      ]
    },
    {
      "cell_type": "code",
      "execution_count": null,
      "metadata": {
        "id": "NULfrVjM1JP9",
        "outputId": "d28c32df-c99a-4e9d-d845-97f53b1deb4f"
      },
      "outputs": [
        {
          "name": "stdout",
          "output_type": "stream",
          "text": [
            "La solución con la fórmula tradicional es: (0.5, -1.3333333333333333)\n",
            "La solución con la fórmula alternativa es: ((-1.3333333333333333+0j), (0.5-0j))\n"
          ]
        }
      ],
      "source": [
        "print('La solución con la fórmula tradicional es:', cuadratica(a,b,c))\n",
        "print('La solución con la fórmula alternativa es:', cuad_alternativa(a,b,c))"
      ]
    },
    {
      "cell_type": "code",
      "execution_count": null,
      "metadata": {
        "id": "ZZAMT-Uk1JP9",
        "outputId": "09fedb08-7574-4909-9cd3-22cd9cd8dd9d"
      },
      "outputs": [
        {
          "name": "stdout",
          "output_type": "stream",
          "text": [
            "La solución con la fórmula alternativa es: ((-1.3333333333333333+0j), (0.5-0j))\n"
          ]
        }
      ],
      "source": [
        "print('La solución con la fórmula alternativa es:', cuad_alternativa(a,b,c))"
      ]
    },
    {
      "cell_type": "markdown",
      "metadata": {
        "id": "ayS2oZTp1JP-"
      },
      "source": [
        "## Caso $a=6×10^{30}$,    $b=5×10^{30}$,    $c=−4×10^{30}$"
      ]
    },
    {
      "cell_type": "markdown",
      "metadata": {
        "id": "cJVqWL5S1JP-"
      },
      "source": [
        "Como los coeficientes en este caso son los del caso 2 multiplicados por $10^{30}$ las raíces no cambian."
      ]
    },
    {
      "cell_type": "code",
      "execution_count": null,
      "metadata": {
        "id": "H38yCQ7Z1JP-"
      },
      "outputs": [],
      "source": [
        "a=float(6e+30)\n",
        "b=float(5e+30)\n",
        "c=float(-4e+30)"
      ]
    },
    {
      "cell_type": "code",
      "execution_count": null,
      "metadata": {
        "id": "KQg1VWJB1JP-",
        "outputId": "676a15ab-2a76-421c-cdc6-01927db58eab"
      },
      "outputs": [
        {
          "name": "stdout",
          "output_type": "stream",
          "text": [
            "La solución con la fórmula tradicional es: (0.5000000000000001, -1.3333333333333335)\n",
            "La solución con la fórmula alternativa es: ((-1.3333333333333335+0j), (0.5-0j))\n"
          ]
        }
      ],
      "source": [
        "print('La solución con la fórmula tradicional es:', cuadratica(a,b,c))\n",
        "print('La solución con la fórmula alternativa es:', cuad_alternativa(a,b,c))"
      ]
    },
    {
      "cell_type": "markdown",
      "metadata": {
        "id": "9IWCWRR51JP_"
      },
      "source": [
        "## Caso $a=10^{-30}$,   $b=-10^{30}$,   $c=10^{30}$"
      ]
    },
    {
      "cell_type": "code",
      "execution_count": null,
      "metadata": {
        "id": "neO5cQhs1JP_"
      },
      "outputs": [],
      "source": [
        "a=float(10e-30)\n",
        "b=float(-10e+30)\n",
        "c=float(10e+30)"
      ]
    },
    {
      "cell_type": "code",
      "execution_count": null,
      "metadata": {
        "id": "8gvBExhU1JP_",
        "outputId": "cb2855ea-8ce6-4e7a-ca1c-0b800dc89257"
      },
      "outputs": [
        {
          "name": "stdout",
          "output_type": "stream",
          "text": [
            "La solución con la fórmula tradicional es: (1e+60, 0.0)\n",
            "La solución con la fórmula alternativa es: (1e+60, 1.0000000000000002)\n"
          ]
        }
      ],
      "source": [
        "print('La solución con la fórmula tradicional es:', cuadratica(a,b,c))\n",
        "print('La solución con la fórmula alternativa es:', cuad_alternativa(a,b,c))"
      ]
    },
    {
      "cell_type": "markdown",
      "metadata": {
        "id": "sA9vN8_t1JP_"
      },
      "source": [
        "En este caso **una de las raíces es cercana a 1**, mientras que **la otra es próxima a $10^{60}$**. Nuestro algoritmo debería determinar la primera, aunque la segunda caiga fuera del rango del sistema de punto flotante. En formato simple el número más grande que se puede representar es aproximadamente $3.4*10^{38}$ y en formato doble $1.8*10^{308}$.\n",
        "\n",
        "Obviamente, cualquier intento de hacer que los coeficientes tengan magnitud aproximada simplemente dividiendo todos ellos por el mismo \n",
        "número esta condenado al fracaso, ya que causaría un error de underflow o de overflow (si no se tiene una precisión adecuada), según el caso. \n",
        "\n",
        "Esta ecuación, es un **test severo** para un algoritmo de resolución de ecuaciones cuadráticas e incluso para el sistema de representación que se use.\n"
      ]
    },
    {
      "cell_type": "markdown",
      "metadata": {
        "id": "6da9iG4e1JQA"
      },
      "source": [
        "## Caso $a=1.0$,   $b=-4.0$,   $c=3.9999999$"
      ]
    },
    {
      "cell_type": "code",
      "execution_count": null,
      "metadata": {
        "id": "mhaPGbFP1JQA"
      },
      "outputs": [],
      "source": [
        "a = float(1.0000000)\n",
        "b = float(-4.0000000)\n",
        "c = float(3.999999999999999)"
      ]
    },
    {
      "cell_type": "code",
      "execution_count": null,
      "metadata": {
        "id": "_hsy3MsM1JQA",
        "outputId": "6a2a628c-86bb-4791-a8a3-31be8c3ee821"
      },
      "outputs": [
        {
          "name": "stdout",
          "output_type": "stream",
          "text": [
            "La solución con la fórmula tradicional es: (2.0000000298023224, 1.9999999701976776)\n",
            "La solución con la fórmula alternativa es: (2.0000000298023224, 1.9999999701976776)\n"
          ]
        }
      ],
      "source": [
        "print('La solución con la fórmula tradicional es:', cuadratica(a,b,c))\n",
        "print('La solución con la fórmula alternativa es:', cuad_alternativa(a,b,c))"
      ]
    },
    {
      "cell_type": "markdown",
      "metadata": {
        "id": "5gzLT0rU1JQA"
      },
      "source": [
        "Con una modificación muy pequeña en uno de los coeficientes (c) se producee un error en el cálculo"
      ]
    },
    {
      "cell_type": "code",
      "execution_count": null,
      "metadata": {
        "id": "2AOHg0HG1JQA"
      },
      "outputs": [],
      "source": [
        "a = float(1.0000000)\n",
        "b = float(-4.0000000)\n",
        "c = float(3.9999999999999999)"
      ]
    },
    {
      "cell_type": "code",
      "execution_count": null,
      "metadata": {
        "id": "BSEE0gCy1JQB",
        "outputId": "394e5aeb-6050-4978-bdfe-3b2a5a8aab9f"
      },
      "outputs": [
        {
          "name": "stdout",
          "output_type": "stream",
          "text": [
            "La solución con la fórmula tradicional es: (2.0, 2.0)\n",
            "La solución con la fórmula alternativa es: (2.0, 2.0)\n"
          ]
        }
      ],
      "source": [
        "print('La solución con la fórmula tradicional es:', cuadratica(a,b,c))\n",
        "print('La solución con la fórmula alternativa es:', cuad_alternativa(a,b,c))"
      ]
    },
    {
      "cell_type": "markdown",
      "metadata": {
        "id": "rAsc0jTe1JQB"
      },
      "source": [
        "Supongamos el polinomio cuadrático $$\\left(x-2\\right)^2=10^{-6}$$ tiene como raíces $2 \\pm 10^{-3}$. Sin embargo, un cambio de $10^{−6}$ en el término independiente puede producir un cambio de $10^{−3}$ en las raíces."
      ]
    },
    {
      "cell_type": "code",
      "execution_count": null,
      "metadata": {
        "id": "17FiVBnq1JQB"
      },
      "outputs": [],
      "source": [
        "#Ejercicio. Que pasa cuando b*b-4ac es casi cero?"
      ]
    },
    {
      "cell_type": "code",
      "execution_count": null,
      "metadata": {
        "id": "m0bKVq7-1JQB"
      },
      "outputs": [],
      "source": [
        "a = float(1.0000000)\n",
        "b = float(-4.0000000)\n",
        "c = float(4.0-0.000001)"
      ]
    },
    {
      "cell_type": "code",
      "execution_count": null,
      "metadata": {
        "id": "nSBdxaJi1JQC",
        "outputId": "8f8f8b94-06df-44fb-ea70-8d43ef35f616"
      },
      "outputs": [
        {
          "name": "stdout",
          "output_type": "stream",
          "text": [
            "La solución con la fórmula tradicional es: (2.00100000000007, 1.9989999999999302)\n",
            "La solución con la fórmula alternativa es: (2.00100000000007, 1.99899999999993)\n"
          ]
        }
      ],
      "source": [
        "print('La solución con la fórmula tradicional es:', cuadratica(a,b,c))\n",
        "print('La solución con la fórmula alternativa es:', cuad_alternativa(a,b,c))"
      ]
    },
    {
      "cell_type": "code",
      "execution_count": null,
      "metadata": {
        "id": "JjXXsTDt1JQC"
      },
      "outputs": [],
      "source": []
    }
  ],
  "metadata": {
    "kernelspec": {
      "display_name": "Python 3",
      "language": "python",
      "name": "python3"
    },
    "language_info": {
      "codemirror_mode": {
        "name": "ipython",
        "version": 3
      },
      "file_extension": ".py",
      "mimetype": "text/x-python",
      "name": "python",
      "nbconvert_exporter": "python",
      "pygments_lexer": "ipython3",
      "version": "3.8.5"
    },
    "colab": {
      "provenance": []
    }
  },
  "nbformat": 4,
  "nbformat_minor": 0
}