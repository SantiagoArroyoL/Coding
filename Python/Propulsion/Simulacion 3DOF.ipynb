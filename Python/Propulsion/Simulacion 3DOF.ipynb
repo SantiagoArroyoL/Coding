{
 "cells": [
  {
   "cell_type": "markdown",
   "id": "066772f1",
   "metadata": {},
   "source": [
    "# Simulación 3DOF de Dinámica del Cohete\n",
    "Santiago Arroyo Lozano"
   ]
  },
  {
   "cell_type": "markdown",
   "id": "8398d5fa",
   "metadata": {},
   "source": [
    "## Plantemiento del problema\n",
    "Vamos a implementar el algoritmo explicado en el Artículo del MIT sobre la\n",
    "dinámica de un cohete unidimensional.\n",
    "Graficaremos la altura, velocidad, aceleración y fuerzas con respecto al tiempo.\n",
    "\n",
    "Las conclusiones estarán explicadas en el PDF adjunto con este programa\n",
    "\n",
    "Parámetros para la simulación:\n",
    "\n",
    "1. Diámetro del fuselaje: 2 in\n",
    "2. Masa seca: 1kg\n",
    "3. Coeficiente de Arrastre: Usar valor constante, investigarlo en internet y elegir uno a criterio del aspirante.\n",
    "4. Densidad del aire en la CDMX y gravedad de la Tierra.\n",
    "5. Curva de empuje: 150N por 2 seg. con flujo de masa: 150 g/s\n",
    "6. Diferencial de tiempo a elección del aspirante"
   ]
  },
  {
   "cell_type": "code",
   "execution_count": null,
   "id": "569c5246",
   "metadata": {},
   "outputs": [],
   "source": [
    "\"\"\"\n",
    "@author Santiago Arroyo\n",
    "@date 25/07/2022\n",
    "\n",
    "Simulacion dinamica de vuelo cohete 3DOF\n",
    "\"\"\"\n"
   ]
  }
 ],
 "metadata": {
  "kernelspec": {
   "display_name": "Python 3 (ipykernel)",
   "language": "python",
   "name": "python3"
  },
  "language_info": {
   "codemirror_mode": {
    "name": "ipython",
    "version": 3
   },
   "file_extension": ".py",
   "mimetype": "text/x-python",
   "name": "python",
   "nbconvert_exporter": "python",
   "pygments_lexer": "ipython3",
   "version": "3.8.8"
  }
 },
 "nbformat": 4,
 "nbformat_minor": 5
}
