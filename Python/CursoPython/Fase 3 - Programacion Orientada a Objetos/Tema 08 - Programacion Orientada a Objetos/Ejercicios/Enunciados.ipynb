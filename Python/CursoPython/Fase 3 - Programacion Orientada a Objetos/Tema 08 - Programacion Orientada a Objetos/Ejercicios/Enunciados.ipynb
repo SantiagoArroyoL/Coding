{
 "cells": [
  {
   "cell_type": "markdown",
   "metadata": {},
   "source": [
    "# Programacion Orientada a Objetos (Enunciados)\n"
   ]
  },
  {
   "cell_type": "markdown",
   "metadata": {},
   "source": [
    "**En este ejercicio vas a trabajar el concepto de puntos, coordenadas y vectores sobre el plano cartesiano y cómo la programación Orientada a Objetos puede ser una excelente aliada para trabajar con ellos. No está pensado para que hagas ningún tipo de cálculo sino para que practiques la automatización de tareas.**\n",
    "\n",
    "**Antes de continuar voy a explicar brevemente los conceptos básicos por si alguien necesita un repaso.**\n",
    "\n",
    "## El plano cartesiano\n",
    "\n",
    "Representa un espacio bidimensional (en 2 dimensiones), formado por dos rectas perpendiculares, una horizontal y otra vertical que se cortan en un punto. La recta horizontal se denomina eje de las abscisas o **eje X**, mientras que la vertical recibe el nombre de eje de las ordenadas o simplemente **eje Y**. En cuanto al punto donde se cortan, se conoce como el **punto de origen O**.\n",
    "\n",
    "<img src=\"eje.jpg\" width=\"350\" />\n",
    "\n",
    "Es importante remarcar que el plano se divide en 4 cuadrantes:\n",
    "\n",
    "<img src=\"cuadrante.jpg\" width=\"350\" />\n",
    "\n",
    "## Puntos y coordenadas\n",
    "\n",
    "El objetivo de todo esto es describir la posición de **puntos** sobre el plano en forma de **coordenadas**, que se forman asociando el valor del eje de las X (horizontal) con el valor del eje Y (vertical).\n",
    "\n",
    "La representación de un punto es sencilla: **P(X,Y)** dónde X y la Y son la distancia horizontal (izquierda o derecha) y vertical (arriba o abajo) respectivamente, utilizando como referencia el punto de origen (0,0), justo en el centro del plano.\n",
    "\n",
    "<img src=\"Cartesian-coordinate-system.svg.png\" width=\"300\" />\n",
    "\n",
    "\n",
    "## Vectores en el plano\n",
    "\n",
    "Finalmente, un vector en el plano hace referencia a un segmento orientado, generado a partir de dos puntos distintos. \n",
    "\n",
    "A efectos prácticos no deja de ser una línea formada desde un punto inicial en dirección a otro punto final, por lo que se entiende que un vector tiene longitud y dirección/sentido.\n",
    "\n",
    "\n",
    "<img src=\"vector3.png\" width=\"300\" />\n",
    "\n",
    "En esta figura, podemos observar dos puntos A y B que podríamos definir de la siguiente forma:\n",
    "* **A(x1, y1)** => **A(2, 3)**\n",
    "* **B(x2, y2)** => **B(5, 5)**\n",
    "\n",
    "Y el vector se representaría como la diferencia entre las coordendas del segundo punto respecto al primero (el segundo menos el primero):\n",
    "* **AB = (x2-x1, y2-y1)** => **(5-2, 5-3)** => **(3,2)** \n",
    "\n",
    "Lo que en definitiva no deja de ser: 3 a la derecha y 2 arriba.\n",
    "\n",
    "Y con esto finalizamos este mini repaso."
   ]
  },
  {
   "cell_type": "markdown",
   "metadata": {},
   "source": [
    "# El ejercicio\n",
    "\n",
    "#### Preparación\n",
    "\n",
    "* Crea una clase llamada **Punto** con sus dos coordenadas X e Y.\n",
    "* Añade un método **constructor** para crear puntos fácilmente. Si no se reciben una coordenada, su valor será cero.\n",
    "* Sobreescribe el método **string**, para que al imprimir por pantalla un punto aparezca en formato (X,Y)\n",
    "* Añade un método llamado **cuadrante** que indique a qué cuadrante pertenece el punto, o si es el origen.\n",
    "* Añade un método llamado **vector**, que tome otro punto y calcule el vector resultante entre los dos puntos.\n",
    "* (Optativo) Añade un método llamado **distancia**, que tome otro punto y calcule la distancia entre los dos puntos y la muestre por pantalla. La fórmula es la siguiente:\n",
    "\n",
    "<img src=\"distancia.png\" width=\"250\" />\n",
    "\n",
    "*Nota: La función raíz cuadrada en Python sqrt() se debe importar del módulo math y utilizarla de la siguiente forma:*\n",
    "```python\n",
    "import math\n",
    "math.sqrt(9)\n",
    "> 3.0\n",
    "```\n",
    "\n",
    "* Crea una clase llamada **Rectangulo** con dos puntos (inicial y final) que formarán la diagonal del rectángulo.\n",
    "* Añade un método **constructor** para crear ambos puntos fácilmente, si no se envían se crearán dos puntos en el origen por defecto.\n",
    "* Añade al rectángulo un método llamado **base** que muestre la base.\n",
    "* Añade al rectángulo un método llamado **altura** que muestre la altura.\n",
    "* Añade al rectángulo un método llamado **area** que muestre el area.\n",
    "\n",
    "*Puedes identificar fácilmente estos valores si intentas dibujar el cuadrado a partir de su  diagonal. Si andas perdido, prueba de dibujarlo en un papel. Además recuerda que puedes utilizar la función **abs()** para saber el valor absolute de un número.*\n",
    "\n",
    "#### Experimentación\n",
    "* Crea los puntos A(2, 3),  B(5,5), C(-3, -1) y D(0,0) e imprimelos por pantalla.\n",
    "* Consulta a que cuadrante pertenecen el punto A, C y D.\n",
    "* Consulta los vectores AB y BA.\n",
    "* (Optativo) Consulta la distancia entre los puntos 'A y B' y 'B y A'. \n",
    "* (Optativo) Determina cual de los 3 puntos A, B o C, se encuentra más lejos del origen, punto (0,0). \n",
    "* Crea un rectángulo utilizando los puntos A y B.\n",
    "* Consulta la base, altura y área del rectángulo."
   ]
  },
  {
   "cell_type": "code",
   "execution_count": 21,
   "metadata": {},
   "outputs": [],
   "source": [
    "# Completa el ejercicio aquí\n",
    "from math import sqrt\n",
    "class Punto:\n",
    "    \n",
    "    def __init__(self, x=0,y=0):\n",
    "        self.x = x\n",
    "        self.y = y\n",
    "    \n",
    "    def __str__(self):\n",
    "        return \"({},{})\".format(self.x,self.y)\n",
    "    \n",
    "    def cuadrante(self):\n",
    "        if self.x < 0:\n",
    "            if self.y < 0:\n",
    "                return \"Tercer cuadrante\"\n",
    "            elif self.y > 0:\n",
    "                return \"Segundo cuadrante\"\n",
    "            else:\n",
    "                return \"Solo Y está en el origen, X es negativo\"\n",
    "        elif self.x > 0:\n",
    "            if self.y < 0:\n",
    "                return \"Cuarto cuadrante\"\n",
    "            elif self.y > 0:\n",
    "                return \"Segundo cuadrante\"\n",
    "            else:\n",
    "                return \"Solo Y está en el origen, X es positivo\"\n",
    "        else:\n",
    "            if self.y > 0:\n",
    "                return \"Solo X está en el origen, Y es positivo\"\n",
    "            elif self.y < 0:\n",
    "                return \"Solo X está en el origen, Y es negativo\"\n",
    "            else:\n",
    "                return \"Origen\"\n",
    "        \n",
    "    def vector(self, otro_punto):\n",
    "        return (otro_punto.x-self.x, otro_punto.y-self.y)\n",
    "                \n",
    "    def distancia(self,otro_punto):\n",
    "        return sqrt((otro_punto.x-self.x)**2+(otro_punto.y-self.y)**2)"
   ]
  },
  {
   "cell_type": "code",
   "execution_count": 27,
   "metadata": {},
   "outputs": [
    {
     "name": "stdout",
     "output_type": "stream",
     "text": [
      "A: (2,3)\n",
      "B: (5,5)\n",
      "C: (-3,-1)\n",
      "D: (0,0)\n",
      "A pertenece al: Segundo cuadrante\n",
      "C pertenece al: Tercer cuadrante\n",
      "D pertenece al: Origen\n",
      "Vector AB = (3, 2)\n",
      "Vector BA = (-3, -2)\n",
      "Distancia entre A y B = 3.605551275463989\n",
      "Distancia entre B y A = 3.605551275463989\n",
      "El punto más lejos del origen tiene una distancia 3.1622776601683795\n"
     ]
    }
   ],
   "source": [
    "# Experimentacion\n",
    "A = Punto(2,3)\n",
    "B = Punto(5,5)\n",
    "C = Punto(-3, -1)\n",
    "D = Punto()\n",
    "print(\"A:\",A)\n",
    "print(\"B:\",B)\n",
    "print(\"C:\",C)\n",
    "print(\"D:\",D)\n",
    "print(\"A pertenece al:\", A.cuadrante())\n",
    "print(\"C pertenece al:\", C.cuadrante())\n",
    "print(\"D pertenece al:\", D.cuadrante())\n",
    "print(\"Vector AB =\", A.vector(B))\n",
    "print(\"Vector BA =\", B.vector(A))\n",
    "print(\"Distancia entre A y B =\",A.distancia(B))\n",
    "print(\"Distancia entre B y A =\",B.distancia(A))\n",
    "distancias = []\n",
    "distancias.append(D.distancia(A))\n",
    "distancias.append(D.distancia(B))\n",
    "distancias.append(D.distancia(C))\n",
    "d = min(distancias[0],distancias[1],distancias[2])\n",
    "print(\"El punto más lejos del origen tiene una distancia {}\".format(d))"
   ]
  },
  {
   "cell_type": "code",
   "execution_count": 28,
   "metadata": {},
   "outputs": [],
   "source": [
    "class Rectangulo:\n",
    "    \n",
    "    def __init__(self, pInicial=Punto(), pFinal=Punto()):\n",
    "        self.pInicial = pInicial\n",
    "        self.pFinal = pFinal\n",
    "        \n",
    "    def base(self):\n",
    "        return abs(self.pInicial.x - self.pFinal.x)\n",
    "    \n",
    "    def altura(self):\n",
    "        return abs(self.pInicial.y - self.pFinal.y) \n",
    "    \n",
    "    def area(self):\n",
    "        return self.base()*self.altura()        "
   ]
  },
  {
   "cell_type": "code",
   "execution_count": 30,
   "metadata": {},
   "outputs": [
    {
     "name": "stdout",
     "output_type": "stream",
     "text": [
      "La base del rectángulo es 3\n",
      "La altura del rectángulo es 2\n",
      "El area del rectángulo es 6\n"
     ]
    }
   ],
   "source": [
    "# Experimentación final\n",
    "r = Rectangulo(A,B)\n",
    "print(\"La base del rectángulo es\", r.base())\n",
    "print(\"La altura del rectángulo es\", r.altura())\n",
    "print(\"El area del rectángulo es\", r.area())"
   ]
  }
 ],
 "metadata": {
  "anaconda-cloud": {},
  "kernelspec": {
   "display_name": "Python 3 (ipykernel)",
   "language": "python",
   "name": "python3"
  },
  "language_info": {
   "codemirror_mode": {
    "name": "ipython",
    "version": 3
   },
   "file_extension": ".py",
   "mimetype": "text/x-python",
   "name": "python",
   "nbconvert_exporter": "python",
   "pygments_lexer": "ipython3",
   "version": "3.8.8"
  }
 },
 "nbformat": 4,
 "nbformat_minor": 1
}
