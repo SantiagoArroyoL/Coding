{
 "cells": [
  {
   "cell_type": "markdown",
   "metadata": {},
   "source": [
    "# Cómo crear un  paquete distribuible?\n",
    "Para crear un paquete distribuible tenemos que crear un fichero setup.py fuera de la raíz, indicando una información básica, de la siguiente forma:\n",
    "```\n",
    "setup.py\n",
    "paquete/\n",
    " |   __init__.py\n",
    " |  hola/\n",
    " |     |  __init__.py\n",
    " |     |  saludos.py\n",
    " |   adios/\n",
    " |     |  __init__.py\n",
    " |     |  despedidas.py\n",
    "```"
   ]
  },
  {
   "cell_type": "code",
   "execution_count": 3,
   "metadata": {},
   "outputs": [
    {
     "ename": "SyntaxError",
     "evalue": "invalid syntax (<ipython-input-3-b08dd6c40253>, line 10)",
     "output_type": "error",
     "traceback": [
      "\u001b[1;36m  File \u001b[1;32m\"<ipython-input-3-b08dd6c40253>\"\u001b[1;36m, line \u001b[1;32m10\u001b[0m\n\u001b[1;33m    scripts=[] # Sí es valida la sintaxis\u001b[0m\n\u001b[1;37m          ^\u001b[0m\n\u001b[1;31mSyntaxError\u001b[0m\u001b[1;31m:\u001b[0m invalid syntax\n"
     ]
    }
   ],
   "source": [
    "from setuptools import setup\n",
    "setup(\n",
    "    name=\"paquete\",\n",
    "    version=\"0.1\",\n",
    "    description=\"Este es un paquete de ejemplo\",\n",
    "    author=\"Santiago Arroyo\",\n",
    "    author_email=\"hola@arroyo.com\",\n",
    "    url=\"http://www.mipagina.net\",\n",
    "    packages=['paquete','paquete.hola','paquete.adios'] #find_packages() - se puede usar alternativamente\n",
    "    scripts=[] # Sí es valida la sintaxis\n",
    ")"
   ]
  },
  {
   "cell_type": "markdown",
   "metadata": {},
   "source": [
    "Una vez hemos definido el distribuible con su información básica, incluyendo los paquetes y subpaquetes que lo forman, así como los posibles scripts, debemos crearlo. Para hacerlo utilizaremos el siguiente comando allí donde tenemos el setup.py:\n",
    "\n",
    "```\n",
    "python setup.py sdist\n",
    "```\n",
    "\n",
    "Ahora, si todo ha funcionado correctamente, se habrá creado una nueva carpeta llamada dist, y en ella encontraremos un fichero zip en Windows o tar.gz si estamos en Linux. Este fichero es nuestro distribuible y ahora podríamos compartirlo con todo el mundo para que puedan instalar nuestro paquete.\n",
    "\n",
    "Para instalar un paquete en Python, y finalmente hacer que éste se pueda utilizar desde cualquier lugar lo haremos de la siguiente forma, desde el directorio donde tenemos el paquete comprimido:\n",
    "\n",
    "```\n",
    "pip install paquete-0.1.zip\n",
    "```\n",
    "\n",
    "Ahora, si utilizamos el comando pip3 list, podremos consultar todos los paquetes instalados en nuestro Python, y podremos ver también el nuestro. Si aparece correctamente podremos utilizar nuestro paquete desde cualquier script, pues se encuentra instalado dentro de Python.\n",
    "\n",
    "Finalmente utilizando el comando pip uninstall para desinstalarlo:\n",
    "\n",
    "```\n",
    "pip uninstall paquete\n",
    "```\n",
    "\n",
    "Bueno, esto solo era un ejemplo muy sencillo de como distribuir un paquete, pero como ya he dicho el tema daría para hablar muchísimo, así que me lo reservo para el final del curso. Por ahora espero que hayáis aprendido mucho sobre los módulos y los paquetes porque utilizarlos es la clave para conseguir una buena organización de código."
   ]
  }
 ],
 "metadata": {
  "kernelspec": {
   "display_name": "Python 3",
   "language": "python",
   "name": "python3"
  },
  "language_info": {
   "codemirror_mode": {
    "name": "ipython",
    "version": 3
   },
   "file_extension": ".py",
   "mimetype": "text/x-python",
   "name": "python",
   "nbconvert_exporter": "python",
   "pygments_lexer": "ipython3",
   "version": "3.7.6"
  }
 },
 "nbformat": 4,
 "nbformat_minor": 4
}
