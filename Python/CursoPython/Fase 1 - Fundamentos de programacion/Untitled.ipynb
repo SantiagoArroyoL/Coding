{
 "cells": [
  {
   "cell_type": "markdown",
   "id": "93722938",
   "metadata": {},
   "source": [
    "# Ejemplo de cabecera"
   ]
  },
  {
   "cell_type": "code",
   "execution_count": null,
   "id": "f005d3f5",
   "metadata": {},
   "outputs": [],
   "source": [
    "n = 0\n",
    "while n < 10:\n",
    "    if (n % 2) == 0:\n",
    "        print(n,'es un número par')\n",
    "    else:\n",
    "        print(n,'es un número impar') \n",
    "    n = n + 1"
   ]
  },
  {
   "cell_type": "markdown",
   "id": "95c480d9",
   "metadata": {},
   "source": [
    "## Recorriendo los elementos de una lista utilizando While"
   ]
  }
 ],
 "metadata": {
  "kernelspec": {
   "display_name": "Python 3 (ipykernel)",
   "language": "python",
   "name": "python3"
  },
  "language_info": {
   "codemirror_mode": {
    "name": "ipython",
    "version": 3
   },
   "file_extension": ".py",
   "mimetype": "text/x-python",
   "name": "python",
   "nbconvert_exporter": "python",
   "pygments_lexer": "ipython3",
   "version": "3.8.8"
  }
 },
 "nbformat": 4,
 "nbformat_minor": 5
}
