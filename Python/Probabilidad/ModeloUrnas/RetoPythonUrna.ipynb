{
 "cells": [
  {
   "cell_type": "markdown",
   "metadata": {},
   "source": [
    "# Reto Python 2: Un modelo generalizado de Urnas\n",
    "## Santiago Arroyo Lozano"
   ]
  },
  {
   "cell_type": "markdown",
   "metadata": {},
   "source": [
    "**La composición de la urna**\n",
    "Consideremos una urna compuesta por $N$ bolas de $k$ colores distintos, con $N$ y $k$ enteros\n",
    "tales que $1 \\leq k \\leq N$. Sea $1 \\leq n_{i} \\leq N$ el número de bolas del color $i–$ésimo dentro de la\n",
    "urna, para cada $i = 1, 2, ..., k,$ con $n_1 + n_2 + \\dots + n_k = N$."
   ]
  },
  {
   "cell_type": "markdown",
   "metadata": {},
   "source": [
    "## El experimento\n",
    "Se extrae una muestra sin reemplazo de tamano $m$ de la urna, con $1 \\leq m \\leq N$."
   ]
  },
  {
   "cell_type": "markdown",
   "metadata": {},
   "source": [
    "## Los eventos\n",
    "Para cada $i = 1, 2, ..., k,$ sea $0 \\leq c_i \\leq n_i$, y sea $c = (c1, c2, ..., c_k)$. Denotamos como $E_c$ al evento\n",
    "*“el número de bolas extraídas del color $i$– ́esimo es $c_i$, para cada $i = 1, ..., k$”*.\n",
    "\n",
    "Sea $\\mathcal{E}$ la familia de eventos $E_c$."
   ]
  },
  {
   "cell_type": "markdown",
   "metadata": {},
   "source": [
    "## El Reto\n",
    "Escribe un programa en Python tal que compruebe el **Principio de regularidad de las\n",
    "Frecuencias Relativas** para cada uno de los eventos Ec, esto es, escribe un programa\n",
    "que haga lo siguiente:\n",
    "1. Solicite al usuario ingresar el tamaño de la urna $N$.\n",
    "2. Solicite al usuario ingresar el número de colores distintos $k$ y el número de bolas de cada color.\n",
    "3. Solicite al usuario ingresar el tamaño de la muestra sin reemplazo $m$.\n",
    "4. Solicite al usuario ingresar el número de repeticiones $r$.\n",
    "5. Arroje un gráfico de barras de las frecuencias relativas de los eventos $E_c$.\n",
    "6. Arroje un gráfico de las probabilidades de los evento $E_c$.\n",
    "\n",
    "**OBS:** El programa deber ser capaz de señalar al usuario si comete errores, e insistir en\n",
    "que se ingresen valores correctos."
   ]
  },
  {
   "cell_type": "code",
   "execution_count": null,
   "metadata": {},
   "outputs": [],
   "source": [
    "#Iniciamos! \n",
    "N = int(input(\"Por favor introduce el tamaño de la urna: \"))\n",
    "k = int(input(\"Por favor introduce el número de colores distintos\"))\n",
    "D "
   ]
  }
 ],
 "metadata": {
  "kernelspec": {
   "display_name": "Python 3",
   "language": "python",
   "name": "python3"
  },
  "language_info": {
   "codemirror_mode": {
    "name": "ipython",
    "version": 3
   },
   "file_extension": ".py",
   "mimetype": "text/x-python",
   "name": "python",
   "nbconvert_exporter": "python",
   "pygments_lexer": "ipython3",
   "version": "3.7.6"
  }
 },
 "nbformat": 4,
 "nbformat_minor": 4
}
