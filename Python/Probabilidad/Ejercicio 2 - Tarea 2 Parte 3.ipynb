{
 "cells": [
  {
   "cell_type": "markdown",
   "metadata": {},
   "source": [
    "# Ejercicio 2 - Tarea 2 Parte 3\n",
    "## Simulación del ejericio 7 - Usando los parámetros que elijas, calcula $P(Z \\leq 10).$"
   ]
  },
  {
   "cell_type": "markdown",
   "metadata": {},
   "source": [
    "Demostramos en la parte 1 de la tarea que \n",
    "\\begin{equation*}\n",
    "    \\boxed{P(Z = k) = \\frac{p^k \\theta^k e^{-p \\theta}}{k!}}\n",
    "\\end{equation*}\n",
    "Hagamos la simulación que se nos pide, en partiuclar cuando $Z \\leq 10$"
   ]
  },
  {
   "cell_type": "code",
   "execution_count": null,
   "metadata": {},
   "outputs": [],
   "source": []
  }
 ],
 "metadata": {
  "kernelspec": {
   "display_name": "Python 3",
   "language": "python",
   "name": "python3"
  },
  "language_info": {
   "codemirror_mode": {
    "name": "ipython",
    "version": 3
   },
   "file_extension": ".py",
   "mimetype": "text/x-python",
   "name": "python",
   "nbconvert_exporter": "python",
   "pygments_lexer": "ipython3",
   "version": "3.7.6"
  }
 },
 "nbformat": 4,
 "nbformat_minor": 4
}
