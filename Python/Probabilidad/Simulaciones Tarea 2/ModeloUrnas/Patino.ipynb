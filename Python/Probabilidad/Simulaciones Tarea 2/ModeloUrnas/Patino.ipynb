{
 "cells": [
  {
   "cell_type": "markdown",
   "metadata": {},
   "source": [
    "#  Patiño y Santiago team"
   ]
  },
  {
   "cell_type": "code",
   "execution_count": 2,
   "metadata": {},
   "outputs": [],
   "source": [
    "import handcalcs.render\n",
    "from math import sqrt"
   ]
  },
  {
   "cell_type": "code",
   "execution_count": 3,
   "metadata": {},
   "outputs": [
    {
     "data": {
      "text/latex": [
       "\\[\n",
       "\\begin{aligned}\n",
       "a &= 3 \\; \n",
       "\\\\[10pt]\n",
       "b &= -10 \\; \n",
       "\\\\[10pt]\n",
       "c &= 2 \\; \n",
       "\\\\[10pt]\n",
       "\\alpha &= 5 \\; \n",
       "\\\\[10pt]\n",
       "\\omega &= 3.14 \\; \n",
       "\\\\[10pt]\n",
       "\\Omega &= 3.142 \\; \n",
       "\\\\[10pt]\n",
       "\\beta &= 1 \\; \\;\\textrm{(Así se hace un comentario)}\n",
       "\\\\[10pt]\n",
       "\\mathrm{nalba} &= 0 \\; \\;\\textrm{(nalba no existe)}\n",
       "\\end{aligned}\n",
       "\\]"
      ],
      "text/plain": [
       "<IPython.core.display.Latex object>"
      ]
     },
     "metadata": {},
     "output_type": "display_data"
    }
   ],
   "source": [
    "%%render\n",
    "a = 3\n",
    "b = -10\n",
    "c = 2\n",
    "alpha = 5\n",
    "omega = 3.14\n",
    "Omega = 3.1416\n",
    "beta = 1 #Así se hace un comentario\n",
    "nalba = 0 #nalba no existe"
   ]
  },
  {
   "cell_type": "code",
   "execution_count": 4,
   "metadata": {},
   "outputs": [
    {
     "data": {
      "text/latex": [
       "\\[\n",
       "\\begin{aligned}\n",
       "x &= \\left( - b \\right) + \\frac{ \\sqrt { \\left( b \\right) ^{ 2 } - 4 \\cdot a \\cdot c } }{ 2 \\cdot a }  = \\left( - -10 \\right) + \\frac{ \\sqrt { \\left( -10 \\right) ^{ 2 } - 4 \\cdot 3 \\cdot 2 } }{ 2 \\cdot 3 } &= 11.453  \n",
       "\\end{aligned}\n",
       "\\]"
      ],
      "text/plain": [
       "<IPython.core.display.Latex object>"
      ]
     },
     "metadata": {},
     "output_type": "display_data"
    }
   ],
   "source": [
    "%%render\n",
    "x = -b + sqrt(b**2 - 4*a*c) / (2*a)"
   ]
  },
  {
   "cell_type": "code",
   "execution_count": 5,
   "metadata": {},
   "outputs": [
    {
     "data": {
      "text/latex": [
       "\\[\n",
       "\\begin{aligned}\n",
       "\\alpha_{2} &= \\left( 2 \\right) ^{ 4 } &= 16 \\; \\;\\textrm{(Como en Latex)}\n",
       "\\end{aligned}\n",
       "\\]"
      ],
      "text/plain": [
       "<IPython.core.display.Latex object>"
      ]
     },
     "metadata": {},
     "output_type": "display_data"
    }
   ],
   "source": [
    "%%render\n",
    "alpha_2 = 2**4 #Como en Latex"
   ]
  },
  {
   "cell_type": "code",
   "execution_count": 6,
   "metadata": {},
   "outputs": [
    {
     "data": {
      "text/latex": [
       "\\[\n",
       "\\begin{aligned}\n",
       "\\beta_{\\alpha_{2_{3_{4_{5}}}}} &= 1 \\; \n",
       "\\end{aligned}\n",
       "\\]"
      ],
      "text/plain": [
       "<IPython.core.display.Latex object>"
      ]
     },
     "metadata": {},
     "output_type": "display_data"
    }
   ],
   "source": [
    "%%render\n",
    "beta_alpha_2_3_4_5 = 1"
   ]
  },
  {
   "cell_type": "code",
   "execution_count": 7,
   "metadata": {},
   "outputs": [
    {
     "data": {
      "text/latex": [
       "\\[\n",
       "\\begin{aligned}\n",
       "w &= 12 \\; \n",
       "\\\\[10pt]\n",
       "z &= 2 \\cdot \\frac{ w }{ 5 }  = 2 \\cdot \\frac{ 12 }{ 5 } &= 4.8  \n",
       "\\end{aligned}\n",
       "\\]"
      ],
      "text/plain": [
       "<IPython.core.display.Latex object>"
      ]
     },
     "metadata": {},
     "output_type": "display_data"
    }
   ],
   "source": [
    "%%render\n",
    "w = 12\n",
    "z = 2*w/5"
   ]
  },
  {
   "cell_type": "code",
   "execution_count": 10,
   "metadata": {},
   "outputs": [
    {
     "data": {
      "text/latex": [
       "\\[\n",
       "\\begin{aligned}\n",
       "&\\text{Since, } w \\leq 15 \\rightarrow \\left( 12 \\leq 15 \\right) :   \\end{aligned}\n",
       "\\]\n",
       "\\[\n",
       "\\begin{aligned}\n",
       "\\mathrm{res} &= 2 \\cdot x  = 2 \\cdot 11.453 &= 22.906  \n",
       "\\end{aligned}\n",
       "\\]"
      ],
      "text/plain": [
       "<IPython.core.display.Latex object>"
      ]
     },
     "metadata": {},
     "output_type": "display_data"
    }
   ],
   "source": [
    "%%render \n",
    "if w <= 15: res = 2*x\n",
    "else: b = y"
   ]
  },
  {
   "cell_type": "code",
   "execution_count": null,
   "metadata": {},
   "outputs": [],
   "source": []
  }
 ],
 "metadata": {
  "kernelspec": {
   "display_name": "Python 3",
   "language": "python",
   "name": "python3"
  },
  "language_info": {
   "codemirror_mode": {
    "name": "ipython",
    "version": 3
   },
   "file_extension": ".py",
   "mimetype": "text/x-python",
   "name": "python",
   "nbconvert_exporter": "python",
   "pygments_lexer": "ipython3",
   "version": "3.7.6"
  }
 },
 "nbformat": 4,
 "nbformat_minor": 4
}
