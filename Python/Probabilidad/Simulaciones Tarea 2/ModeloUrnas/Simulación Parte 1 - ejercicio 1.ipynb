{
 "cells": [
  {
   "cell_type": "markdown",
   "metadata": {},
   "source": [
    "# Simulación del Ejercicio 1 de la Parte 1"
   ]
  },
  {
   "cell_type": "markdown",
   "metadata": {},
   "source": [
    "Dos bolas se seleccionan (sin reemplazo) al azar de una urna que contiene $8$ bolas blancas, $8$ bolas negras, y $2$ bolas naranjas. Supongamos que ganamos la cantidad de 2 pesos por cada bola negra seleccionada y perdemos 1 peso por cada bola blanca seleccionada. Sea $X$ la variable aleatoria que denota nuestra ganancia. Cuál es la ley de $X$? Calcula la esperanza y varianza de $X$."
   ]
  },
  {
   "cell_type": "markdown",
   "metadata": {},
   "source": [
    "![title](bolas_urna.png)"
   ]
  },
  {
   "cell_type": "code",
   "execution_count": 2,
   "metadata": {},
   "outputs": [],
   "source": [
    "Bolas=['B','O','W']"
   ]
  },
  {
   "cell_type": "code",
   "execution_count": 2,
   "metadata": {},
   "outputs": [
    {
     "data": {
      "text/plain": [
       "['B', 'O', 'W']"
      ]
     },
     "execution_count": 2,
     "metadata": {},
     "output_type": "execute_result"
    }
   ],
   "source": [
    "Bolas"
   ]
  },
  {
   "cell_type": "markdown",
   "metadata": {},
   "source": [
    "Resultados posibles en cuanto a color?"
   ]
  },
  {
   "cell_type": "code",
   "execution_count": 1,
   "metadata": {},
   "outputs": [
    {
     "data": {
      "text/plain": [
       "['B', 'B']"
      ]
     },
     "execution_count": 1,
     "metadata": {},
     "output_type": "execute_result"
    }
   ],
   "source": [
    "['B','B']"
   ]
  },
  {
   "cell_type": "code",
   "execution_count": 5,
   "metadata": {},
   "outputs": [
    {
     "data": {
      "text/plain": [
       "['B', 'O']"
      ]
     },
     "execution_count": 5,
     "metadata": {},
     "output_type": "execute_result"
    }
   ],
   "source": [
    "['B','O']"
   ]
  },
  {
   "cell_type": "code",
   "execution_count": 3,
   "metadata": {},
   "outputs": [
    {
     "data": {
      "text/plain": [
       "[['B', 'B'],\n",
       " ['B', 'O'],\n",
       " ['B', 'W'],\n",
       " ['O', 'B'],\n",
       " ['O', 'O'],\n",
       " ['O', 'W'],\n",
       " ['W', 'B'],\n",
       " ['W', 'O'],\n",
       " ['W', 'W']]"
      ]
     },
     "execution_count": 3,
     "metadata": {},
     "output_type": "execute_result"
    }
   ],
   "source": [
    "R = [[x,y] for x in Bolas for y in Bolas]\n",
    "R"
   ]
  },
  {
   "cell_type": "code",
   "execution_count": 42,
   "metadata": {},
   "outputs": [
    {
     "data": {
      "text/plain": [
       "[['B', 'B'], ['B', 'O'], ['B', 'W'], ['O', 'O'], ['O', 'W'], ['W', 'W']]"
      ]
     },
     "execution_count": 42,
     "metadata": {},
     "output_type": "execute_result"
    }
   ],
   "source": [
    "# Resultados\n",
    "R=[[x,y] for x in Bolas for y in Bolas if Bolas.index(x)<=Bolas.index(y)]\n",
    "R"
   ]
  },
  {
   "cell_type": "code",
   "execution_count": 4,
   "metadata": {},
   "outputs": [
    {
     "data": {
      "text/plain": [
       "['B',\n",
       " 'B',\n",
       " 'B',\n",
       " 'B',\n",
       " 'B',\n",
       " 'B',\n",
       " 'B',\n",
       " 'B',\n",
       " 'O',\n",
       " 'O',\n",
       " 'W',\n",
       " 'W',\n",
       " 'W',\n",
       " 'W',\n",
       " 'W',\n",
       " 'W',\n",
       " 'W',\n",
       " 'W']"
      ]
     },
     "execution_count": 4,
     "metadata": {},
     "output_type": "execute_result"
    }
   ],
   "source": [
    "U=[]\n",
    "for i in range(18):\n",
    "    if i<=7:\n",
    "        U.append('B')\n",
    "    elif i<=9:\n",
    "        U.append('O')\n",
    "    else:\n",
    "        U.append('W')\n",
    "        \n",
    "U"
   ]
  },
  {
   "cell_type": "code",
   "execution_count": 2,
   "metadata": {},
   "outputs": [],
   "source": [
    "import random"
   ]
  },
  {
   "cell_type": "code",
   "execution_count": 9,
   "metadata": {},
   "outputs": [
    {
     "data": {
      "text/plain": [
       "'W'"
      ]
     },
     "execution_count": 9,
     "metadata": {},
     "output_type": "execute_result"
    }
   ],
   "source": [
    "b=random.choice(U)\n",
    "b"
   ]
  },
  {
   "cell_type": "markdown",
   "metadata": {},
   "source": [
    "Queremos saber qué bola exactamente elegimos.\n",
    "Primero debemos saber el índice de la bola elegida"
   ]
  },
  {
   "cell_type": "code",
   "execution_count": 10,
   "metadata": {},
   "outputs": [
    {
     "data": {
      "text/plain": [
       "10"
      ]
     },
     "execution_count": 10,
     "metadata": {},
     "output_type": "execute_result"
    }
   ],
   "source": [
    "U.index(b)"
   ]
  },
  {
   "cell_type": "markdown",
   "metadata": {},
   "source": [
    "Ahora quitamos la bola elegida de la urna y en su lugar ponemos 'None'"
   ]
  },
  {
   "cell_type": "code",
   "execution_count": 20,
   "metadata": {},
   "outputs": [
    {
     "data": {
      "text/plain": [
       "['B',\n",
       " 'B',\n",
       " 'B',\n",
       " 'B',\n",
       " 'B',\n",
       " 'B',\n",
       " 'B',\n",
       " 'O',\n",
       " 'O',\n",
       " 'None',\n",
       " 'W',\n",
       " 'W',\n",
       " 'W',\n",
       " 'W',\n",
       " 'W',\n",
       " 'W',\n",
       " 'W']"
      ]
     },
     "execution_count": 20,
     "metadata": {},
     "output_type": "execute_result"
    }
   ],
   "source": [
    "U[U.index(b)]='None'\n",
    "U"
   ]
  },
  {
   "cell_type": "markdown",
   "metadata": {},
   "source": [
    "Cómo elegimos dos bolas sin reemplazo?"
   ]
  },
  {
   "cell_type": "markdown",
   "metadata": {},
   "source": [
    "Construimos nuestra urna nuevamente"
   ]
  },
  {
   "cell_type": "code",
   "execution_count": 21,
   "metadata": {},
   "outputs": [
    {
     "data": {
      "text/plain": [
       "['B',\n",
       " 'B',\n",
       " 'B',\n",
       " 'B',\n",
       " 'B',\n",
       " 'B',\n",
       " 'B',\n",
       " 'B',\n",
       " 'O',\n",
       " 'O',\n",
       " 'W',\n",
       " 'W',\n",
       " 'W',\n",
       " 'W',\n",
       " 'W',\n",
       " 'W',\n",
       " 'W',\n",
       " 'W']"
      ]
     },
     "execution_count": 21,
     "metadata": {},
     "output_type": "execute_result"
    }
   ],
   "source": [
    "U=[]\n",
    "for i in range(18):\n",
    "    if i<=7:\n",
    "        U.append('B')\n",
    "    elif i<=9:\n",
    "        U.append('O')\n",
    "    else:\n",
    "        U.append('W')\n",
    "        \n",
    "U"
   ]
  },
  {
   "cell_type": "code",
   "execution_count": 22,
   "metadata": {},
   "outputs": [
    {
     "data": {
      "text/plain": [
       "['B']"
      ]
     },
     "execution_count": 22,
     "metadata": {},
     "output_type": "execute_result"
    }
   ],
   "source": [
    "b0=random.choice(U)\n",
    "S=list(b0)\n",
    "S"
   ]
  },
  {
   "cell_type": "code",
   "execution_count": 23,
   "metadata": {},
   "outputs": [
    {
     "data": {
      "text/plain": [
       "'B'"
      ]
     },
     "execution_count": 23,
     "metadata": {},
     "output_type": "execute_result"
    }
   ],
   "source": [
    "U.pop(U.index(b0))\n",
    "b1=random.choice(U)\n",
    "b1"
   ]
  },
  {
   "cell_type": "code",
   "execution_count": 24,
   "metadata": {},
   "outputs": [
    {
     "data": {
      "text/plain": [
       "['B', 'B']"
      ]
     },
     "execution_count": 24,
     "metadata": {},
     "output_type": "execute_result"
    }
   ],
   "source": [
    "S.append(b1)\n",
    "S.sort()\n",
    "S"
   ]
  },
  {
   "cell_type": "markdown",
   "metadata": {},
   "source": [
    "Nos interesa repetir indefinidamente este experimento y clalcular las frecuencias relativas con las que ocurren cada uno de los resultados R"
   ]
  },
  {
   "cell_type": "code",
   "execution_count": 1,
   "metadata": {},
   "outputs": [
    {
     "name": "stdout",
     "output_type": "stream",
     "text": [
      "dict_items([(('B', 'O'), 10479), (('W', 'W'), 18340), (('O', 'W'), 10329), (('B', 'W'), 41997), (('B', 'B'), 18181), (('O', 'O'), 674)])\n",
      "\n",
      "La frecuencia con la que sale cada evento es:\n",
      "[(('B', 'B'), 18181), (('B', 'O'), 10479), (('B', 'W'), 41997), (('O', 'O'), 674), (('O', 'W'), 10329), (('W', 'W'), 18340)]\n"
     ]
    }
   ],
   "source": [
    "import random\n",
    "from collections import defaultdict\n",
    "\n",
    "r=100000 # número total de repeticiones\n",
    "\n",
    "n=0 # repetición actual\n",
    "\n",
    "F=defaultdict(int)\n",
    "\n",
    "while n<r:\n",
    "    U=[]\n",
    "    for i in range(18):\n",
    "        if i<=7:\n",
    "            U.append('B')\n",
    "        elif i<=9:\n",
    "            U.append('O')\n",
    "        else:\n",
    "            U.append('W')\n",
    "            \n",
    "    b0=random.choice(U)\n",
    "    U.pop(U.index(b0))\n",
    "    b1=random.choice(U)\n",
    "    S=(b0,b1)\n",
    "    S=tuple(sorted(S))\n",
    "    F[S]+=1\n",
    "    \n",
    "    n+=1\n",
    "    \n",
    "print(F.items())\n",
    "F=sorted(F.items())\n",
    "print(\"\\nLa frecuencia con la que sale cada evento es:\")\n",
    "print(F)\n"
   ]
  },
  {
   "cell_type": "code",
   "execution_count": 26,
   "metadata": {},
   "outputs": [
    {
     "data": {
      "image/png": "[encoded data removed]",
      "text/plain": [
       "<Figure size 432x288 with 1 Axes>"
      ]
     },
     "metadata": {
      "needs_background": "light"
     },
     "output_type": "display_data"
    }
   ],
   "source": [
    "import matplotlib.pyplot as plt\n",
    "fig = plt.figure()\n",
    "ax = fig.add_axes([0,0,2,1])\n",
    "resultado = [str(i) for i,j in F]\n",
    "frecuencia = [j for i,j in F]\n",
    "ax.bar(resultado,frecuencia)\n",
    "plt.title(\"Frecuencias en \"+str(r)+\" repeticiones\")\n",
    "plt.show()\n",
    "# Código de Erick del Río"
   ]
  },
  {
   "cell_type": "markdown",
   "metadata": {},
   "source": [
    "# Frecuencia Relativa\n",
    "Calcular y graficar las Frecuencias Relativas del experimento visto en clase. "
   ]
  },
  {
   "cell_type": "code",
   "execution_count": 3,
   "metadata": {},
   "outputs": [
    {
     "name": "stdout",
     "output_type": "stream",
     "text": [
      "dict_items([(('B', 'O'), 0.10340000000000193), (('B', 'W'), 0.4285999999999691), (('W', 'W'), 0.1818999999999963), (('O', 'W'), 0.09710000000000175), (('B', 'B'), 0.1826999999999962), (('O', 'O'), 0.0063000000000000035)])\n",
      "\n",
      "La frecuencia relativa con la que sale cada evento es:\n",
      "[(('B', 'B'), 0.1826999999999962), (('B', 'O'), 0.10340000000000193), (('B', 'W'), 0.4285999999999691), (('O', 'O'), 0.0063000000000000035), (('O', 'W'), 0.09710000000000175), (('W', 'W'), 0.1818999999999963)]\n"
     ]
    }
   ],
   "source": [
    "import random\n",
    "from collections import defaultdict\n",
    "\n",
    "r=10000 # número total de repeticiones\n",
    "\n",
    "n=0 # repetición actual\n",
    "\n",
    "F=defaultdict(float)\n",
    "\n",
    "while n < r:\n",
    "    #Construimos nuestro espacio muestral\n",
    "    U = []\n",
    "    for i in range(18):\n",
    "        if i <= 7:\n",
    "            U.append('B')\n",
    "        elif i <= 9:\n",
    "            U.append('O')\n",
    "        else:\n",
    "            U.append('W')\n",
    "    # Emepezamos a elegir aleatoriamente y ordenamos      \n",
    "    b0=random.choice(U)\n",
    "    U.pop(U.index(b0))\n",
    "    b1=random.choice(U)\n",
    "    S=(b0,b1)\n",
    "    S=tuple(sorted(S))\n",
    "    # Dividimos sobre el total para sacar la frecuencia relativa\n",
    "    F[S]+=1/r\n",
    "    \n",
    "    n+=1\n",
    "    \n",
    "print(F.items())\n",
    "F=sorted(F.items())\n",
    "print(\"\\nLa frecuencia relativa con la que sale cada evento es:\")\n",
    "print(F)"
   ]
  },
  {
   "cell_type": "code",
   "execution_count": 2,
   "metadata": {},
   "outputs": [
    {
     "data": {
      "image/png": "[encoded data removed]",
      "text/plain": [
       "<Figure size 432x288 with 1 Axes>"
      ]
     },
     "metadata": {
      "needs_background": "light"
     },
     "output_type": "display_data"
    }
   ],
   "source": [
    "import matplotlib.pyplot as plt\n",
    "fig = plt.figure()\n",
    "ax = fig.add_axes([0,0,2,1])\n",
    "resultado = [str(i) for i,j in F]\n",
    "frecuencia = [j for i,j in F]\n",
    "ax.bar(resultado,frecuencia)\n",
    "plt.title(\"Frecuencias Relativas en \"+str(r)+\" repeticiones\")\n",
    "plt.show()\n",
    "# Código de Erick del Río"
   ]
  },
  {
   "cell_type": "markdown",
   "metadata": {},
   "source": [
    "# Ley de $X$"
   ]
  },
  {
   "cell_type": "markdown",
   "metadata": {},
   "source": [
    "## Espacio Muestral\n",
    "$$\\Omega = \\begin{cases}\n",
    "        4 \\text{ negras} \\\\\n",
    "        8 \\text{ blancas} \\\\\n",
    "        2 \\text{ naranjas} \\\\\n",
    "        \\end{cases} \\quad |\\Omega| = 14$$"
   ]
  },
  {
   "cell_type": "code",
   "execution_count": 4,
   "metadata": {},
   "outputs": [
    {
     "data": {
      "text/plain": [
       "{'Negras': 4, 'Blancas': 8, 'Naranjas': 2}"
      ]
     },
     "execution_count": 4,
     "metadata": {},
     "output_type": "execute_result"
    }
   ],
   "source": [
    "Omega={\"Negras\":4, \"Blancas\":8, \"Naranjas\":2}\n",
    "Omega"
   ]
  },
  {
   "cell_type": "markdown",
   "metadata": {},
   "source": [
    "La v.a. $X$ es una función $X:\\Omega\\to\\mathbb R$ que está definida por la regla\n",
    "\n",
    "$$\n",
    "X(i,j)=\\max\\{i,j\\},\\qquad(i,j)\\in\\Omega\n",
    "$$"
   ]
  }
 ],
 "metadata": {
  "kernelspec": {
   "display_name": "Python 3",
   "language": "python",
   "name": "python3"
  },
  "language_info": {
   "codemirror_mode": {
    "name": "ipython",
    "version": 3
   },
   "file_extension": ".py",
   "mimetype": "text/x-python",
   "name": "python",
   "nbconvert_exporter": "python",
   "pygments_lexer": "ipython3",
   "version": "3.7.6"
  }
 },
 "nbformat": 4,
 "nbformat_minor": 4
}
