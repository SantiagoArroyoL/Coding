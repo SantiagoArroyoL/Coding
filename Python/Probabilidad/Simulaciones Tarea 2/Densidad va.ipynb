{
 "cells": [
  {
   "cell_type": "markdown",
   "metadata": {},
   "source": [
    "# Simulación del Ejercicio 14b de la Parte 2"
   ]
  },
  {
   "cell_type": "markdown",
   "metadata": {},
   "source": [
    "Sean $X_1$ y $X_2$ dos variables aleatorias independientes e idénticamente distribuidas con ley exponencial de parámetro $\\theta > 0$.\n",
    "\n",
    "Sea $ V= $ min$\\{X_1, X_2\\}$. Encuentra la densidad, $f_V$ , de $V$ y $\\mathbb{E}[V]$.\n",
    "Sabemos que $f_V=2\\theta e ^{-2\\theta x}$\n",
    "\n",
    "Y que su esperanza es: $\\mathbb{E}[V] = \\int_0^{\\infty} x 2\\theta e^{-2x\\theta} \\,dx = \\frac{1}{2\\theta}$"
   ]
  },
  {
   "cell_type": "code",
   "execution_count": 3,
   "metadata": {},
   "outputs": [],
   "source": [
    "from math import e\n",
    "\n",
    "def V(x1,x2):\n",
    "    return min(x1,x2)\n",
    "\n",
    "def fv(x,t):\n",
    "    return 2*t*e**(-2*t*x)\n",
    "\n",
    "def esperanzaV(t):\n",
    "    return 1/(2*t)"
   ]
  },
  {
   "cell_type": "markdown",
   "metadata": {},
   "source": [
    "Alternativamente podemos hacer la integral misma en Python si conocemos el valor de $\\theta$"
   ]
  },
  {
   "cell_type": "code",
   "execution_count": 4,
   "metadata": {},
   "outputs": [],
   "source": [
    "from numpy import inf #infinito\n",
    "from math  import e #Euler\n",
    "from scipy.integrate import quad\n",
    "\n",
    "def f(x,t):\n",
    "    return x*2*t*(e**(-2*x*t))\n",
    "\n",
    "def calculaEsperanza(t):\n",
    "    res = quad(f,0,inf,args=(t))\n",
    "    return res[0]"
   ]
  },
  {
   "cell_type": "markdown",
   "metadata": {},
   "source": [
    "### Simulemos!\n",
    "Asignemos valores aleatorios en $\\mathbb{R}$ a $X_1$ y $X_2$ en un intervalo de $[0,1]$ y a $\\theta$ en un intervalo de $(0,10]$"
   ]
  },
  {
   "cell_type": "code",
   "execution_count": 34,
   "metadata": {},
   "outputs": [
    {
     "name": "stdout",
     "output_type": "stream",
     "text": [
      "Densidad  0.5015763582261705\n",
      "Esperanza 1.474307743500968\n",
      "Esperanza calculada con la integral:  1.474307743500968\n"
     ]
    }
   ],
   "source": [
    "import random as rand\n",
    "from numpy import inf #infinito\n",
    "\n",
    "#Asignemos nuestros valores\n",
    "x1 = rand.random()\n",
    "x2 = rand.random()\n",
    "t = random.uniform(0, 10)\n",
    "while (t == 0):\n",
    "    t = random.uniform(0, 10)\n",
    "    \n",
    "# Asignamos el valor de v\n",
    "v = V(x1,x2)\n",
    "\n",
    "# Simulamos la densidad\n",
    "densidad = fv(v,t)\n",
    "\n",
    "# Y finalmente la esperanza\n",
    "esperanza = calculaEsperanza(t)\n",
    "esp = esperanzaV(t)\n",
    "\n",
    "#Mostramos resultados:\n",
    "print(\"Densidad \", densidad)\n",
    "print(\"Esperanza\" , esp)\n",
    "print(\"Esperanza calculada con la integral: \", esperanza)"
   ]
  }
 ],
 "metadata": {
  "kernelspec": {
   "display_name": "Python 3",
   "language": "python",
   "name": "python3"
  },
  "language_info": {
   "codemirror_mode": {
    "name": "ipython",
    "version": 3
   },
   "file_extension": ".py",
   "mimetype": "text/x-python",
   "name": "python",
   "nbconvert_exporter": "python",
   "pygments_lexer": "ipython3",
   "version": "3.7.6"
  }
 },
 "nbformat": 4,
 "nbformat_minor": 4
}
