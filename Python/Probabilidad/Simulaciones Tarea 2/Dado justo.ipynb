{
 "cells": [
  {
   "cell_type": "markdown",
   "metadata": {},
   "source": [
    "# Simulación del Ejercicio 2 de la Parte 1"
   ]
  },
  {
   "cell_type": "markdown",
   "metadata": {
    "id": "egoGDNgbOxWk"
   },
   "source": [
    "Supongamos que un dado justo se lanza dos veces. Consideremos las siguientes variables aleatorias:\n",
    "\n",
    "\\begin{align*}\n",
    "\tX&=\\text{el valor máximo que aparece en los dos lanzamientos}\\\\\n",
    "\tY&=\\text{el valor mínimo que aparece en los dos lanzamientos}\\\\\n",
    "\tZ&=\\text{la suma de los números que aparecen en los dos lanzamientos}\\\\\n",
    "\tW&=\\text{la resta de los números que aparecen en los dos lanzamientos}\n",
    "\t\\end{align*}\n",
    "    \n",
    "Encuentra la ley (distribución o función de probabilidades discreta) de estas variables aleatorias. Además, encuentra la esperanza y varianza de cada una de ellas."
   ]
  },
  {
   "cell_type": "markdown",
   "metadata": {
    "id": "w1OhvK9cOxWl"
   },
   "source": [
    "## Espacio Muestral"
   ]
  },
  {
   "cell_type": "markdown",
   "metadata": {
    "id": "xz5W1dn7OxWm"
   },
   "source": [
    "$$\n",
    "\\Omega=\\{(i,j):1\\leq i,j\\leq 6, \\text{ enteros}\\}\n",
    "$$"
   ]
  },
  {
   "cell_type": "code",
   "execution_count": 2,
   "metadata": {
    "id": "t7zwcJgpOxWn",
    "outputId": "95b91547-d7aa-472a-fe85-2f74e3609a6f"
   },
   "outputs": [
    {
     "data": {
      "text/plain": [
       "[(1, 1),\n",
       " (1, 2),\n",
       " (1, 3),\n",
       " (1, 4),\n",
       " (1, 5),\n",
       " (1, 6),\n",
       " (2, 1),\n",
       " (2, 2),\n",
       " (2, 3),\n",
       " (2, 4),\n",
       " (2, 5),\n",
       " (2, 6),\n",
       " (3, 1),\n",
       " (3, 2),\n",
       " (3, 3),\n",
       " (3, 4),\n",
       " (3, 5),\n",
       " (3, 6),\n",
       " (4, 1),\n",
       " (4, 2),\n",
       " (4, 3),\n",
       " (4, 4),\n",
       " (4, 5),\n",
       " (4, 6),\n",
       " (5, 1),\n",
       " (5, 2),\n",
       " (5, 3),\n",
       " (5, 4),\n",
       " (5, 5),\n",
       " (5, 6),\n",
       " (6, 1),\n",
       " (6, 2),\n",
       " (6, 3),\n",
       " (6, 4),\n",
       " (6, 5),\n",
       " (6, 6)]"
      ]
     },
     "execution_count": 2,
     "metadata": {},
     "output_type": "execute_result"
    }
   ],
   "source": [
    "Omega=[(i,j) for i in range(1,7) for j in range(1,7)]\n",
    "Omega"
   ]
  },
  {
   "cell_type": "markdown",
   "metadata": {
    "id": "fAoJpBKQOxWu"
   },
   "source": [
    "Debemos darnos cuenta que estamos ante un modelo uniforme discreto (laplaciano, clásico) de probabilidad. La clase se eventos es el potencia de $\\Omega$, es decir $\\mathcal F=2^\\Omega$. Y la medida de probabilidad está dada por\n",
    "\n",
    "$$\n",
    "\\mathbb P(A)=\\frac{|A|}{|\\Omega|},\\qquad\\forall\\,A\\subset\\Omega.\n",
    "$$\n",
    "\n",
    "Aquí $|\\Omega|=36$."
   ]
  },
  {
   "cell_type": "markdown",
   "metadata": {
    "id": "rzeTLYAoOxWv"
   },
   "source": [
    "## La variable aleatoria $X$"
   ]
  },
  {
   "cell_type": "markdown",
   "metadata": {
    "id": "DSaOiRzcOxWw"
   },
   "source": [
    "La v.a. $X$ es una función $X:\\Omega\\to\\mathbb R$ que está definida por la regla\n",
    "\n",
    "$$\n",
    "X(i,j)=\\max\\{i,j\\},\\qquad(i,j)\\in\\Omega\n",
    "$$"
   ]
  },
  {
   "cell_type": "code",
   "execution_count": 3,
   "metadata": {
    "id": "SDOAU8dxOxWw",
    "outputId": "b46f839c-f76a-4a99-a62a-32b936e89421"
   },
   "outputs": [
    {
     "data": {
      "text/plain": [
       "{(1, 1): 1,\n",
       " (1, 2): 2,\n",
       " (1, 3): 3,\n",
       " (1, 4): 4,\n",
       " (1, 5): 5,\n",
       " (1, 6): 6,\n",
       " (2, 1): 2,\n",
       " (2, 2): 2,\n",
       " (2, 3): 3,\n",
       " (2, 4): 4,\n",
       " (2, 5): 5,\n",
       " (2, 6): 6,\n",
       " (3, 1): 3,\n",
       " (3, 2): 3,\n",
       " (3, 3): 3,\n",
       " (3, 4): 4,\n",
       " (3, 5): 5,\n",
       " (3, 6): 6,\n",
       " (4, 1): 4,\n",
       " (4, 2): 4,\n",
       " (4, 3): 4,\n",
       " (4, 4): 4,\n",
       " (4, 5): 5,\n",
       " (4, 6): 6,\n",
       " (5, 1): 5,\n",
       " (5, 2): 5,\n",
       " (5, 3): 5,\n",
       " (5, 4): 5,\n",
       " (5, 5): 5,\n",
       " (5, 6): 6,\n",
       " (6, 1): 6,\n",
       " (6, 2): 6,\n",
       " (6, 3): 6,\n",
       " (6, 4): 6,\n",
       " (6, 5): 6,\n",
       " (6, 6): 6}"
      ]
     },
     "execution_count": 3,
     "metadata": {},
     "output_type": "execute_result"
    }
   ],
   "source": [
    "X={(i,j):max(i,j) for i,j in Omega}\n",
    "X"
   ]
  },
  {
   "cell_type": "markdown",
   "metadata": {
    "id": "c7Tz2jhdOxW1"
   },
   "source": [
    "El rango de valores de $X$ está dado por el conjunto\n",
    "\n",
    "$$\n",
    "\\mathrm{rango}(X)=\\{1,2,3,4,5,6\\}.\n",
    "$$"
   ]
  },
  {
   "cell_type": "code",
   "execution_count": 40,
   "metadata": {
    "id": "gKpSDZ9eOxW2",
    "outputId": "c2198dd2-d992-46c4-a1d8-ce78f664a7f4"
   },
   "outputs": [
    {
     "data": {
      "text/plain": [
       "{1, 2, 3, 4, 5, 6}"
      ]
     },
     "execution_count": 40,
     "metadata": {},
     "output_type": "execute_result"
    }
   ],
   "source": [
    "set(X.values())"
   ]
  },
  {
   "cell_type": "markdown",
   "metadata": {
    "id": "5u27Ve2_OxW5"
   },
   "source": [
    "## La ley de $X$"
   ]
  },
  {
   "cell_type": "markdown",
   "metadata": {
    "id": "qdUQRoTAOxW6"
   },
   "source": [
    "Para calcular la ley de $X$ debemos considerar los siguiente eventos"
   ]
  },
  {
   "cell_type": "markdown",
   "metadata": {
    "id": "dTs-uWKyOxW7"
   },
   "source": [
    "\\begin{align}\n",
    "(X=k):=X^{-1}(k)&=\\{(i,j)\\in\\Omega:X(i,j)=k\\},\\\\[0.3em]\n",
    "&=\\{(i,j)\\in\\Omega:\\max(i,j)=k\\},\\qquad k=1,2,3,4,5,6,\n",
    "\\end{align}"
   ]
  },
  {
   "cell_type": "code",
   "execution_count": 41,
   "metadata": {
    "id": "7le0AQAjOxW9",
    "outputId": "f99d8635-64ff-42cf-e518-1dc9de19b11f"
   },
   "outputs": [
    {
     "data": {
      "text/plain": [
       "defaultdict(list,\n",
       "            {1: [(1, 1)],\n",
       "             2: [(1, 2), (2, 1), (2, 2)],\n",
       "             3: [(1, 3), (2, 3), (3, 1), (3, 2), (3, 3)],\n",
       "             4: [(1, 4), (2, 4), (3, 4), (4, 1), (4, 2), (4, 3), (4, 4)],\n",
       "             5: [(1, 5),\n",
       "              (2, 5),\n",
       "              (3, 5),\n",
       "              (4, 5),\n",
       "              (5, 1),\n",
       "              (5, 2),\n",
       "              (5, 3),\n",
       "              (5, 4),\n",
       "              (5, 5)],\n",
       "             6: [(1, 6),\n",
       "              (2, 6),\n",
       "              (3, 6),\n",
       "              (4, 6),\n",
       "              (5, 6),\n",
       "              (6, 1),\n",
       "              (6, 2),\n",
       "              (6, 3),\n",
       "              (6, 4),\n",
       "              (6, 5),\n",
       "              (6, 6)]})"
      ]
     },
     "execution_count": 41,
     "metadata": {},
     "output_type": "execute_result"
    }
   ],
   "source": [
    "# Imágenes inversas respecto X\n",
    "\n",
    "from collections import defaultdict\n",
    "iX = defaultdict(list)\n",
    "for i,j in X.items():\n",
    "    iX[j].append(i)\n",
    "    \n",
    "iX"
   ]
  },
  {
   "cell_type": "markdown",
   "metadata": {
    "id": "esR1v01POxXB"
   },
   "source": [
    "La ley de $X$ está dada entonces por"
   ]
  },
  {
   "cell_type": "markdown",
   "metadata": {
    "id": "j5dJQjohOxXC"
   },
   "source": [
    "$$\n",
    "\\mathbb P(X=k)=\\mathbb P(\\{(i,j)\\in\\Omega:\\max(i,j)=k\\})=\\frac{|\\{(i,j)\\in\\Omega:\\max(i,j)=k\\}|}{36}\n",
    "$$"
   ]
  },
  {
   "cell_type": "code",
   "execution_count": 42,
   "metadata": {
    "id": "1WvaexMqOxXF",
    "outputId": "4fee998c-e34e-4c30-c6b8-8f5cb3471c33"
   },
   "outputs": [
    {
     "data": {
      "text/plain": [
       "{1: 1, 2: 3, 3: 5, 4: 7, 5: 9, 6: 11}"
      ]
     },
     "execution_count": 42,
     "metadata": {},
     "output_type": "execute_result"
    }
   ],
   "source": [
    "# Tamaños de los eventos (X=k)\n",
    "\n",
    "TX={i:len(j) for i,j in iX.items()} \n",
    "TX"
   ]
  },
  {
   "cell_type": "markdown",
   "metadata": {
    "id": "FjmpUwA8OxXW"
   },
   "source": [
    "La ley de $X$ queda entonces como la función:"
   ]
  },
  {
   "cell_type": "markdown",
   "metadata": {
    "id": "SkF6fCLFOxXW"
   },
   "source": [
    "$$\n",
    "\\mathbb P(X=k)=\n",
    "\\begin{cases}\n",
    "\\frac{1}{36} & \\text{si } k=1\\\\[0.35em]\n",
    "\\frac{3}{36}= \\frac{1}{12} & \\text{si } k=2\\\\[0.35em]\n",
    "\\frac{5}{36} & \\text{si } k=3\\\\[0.35em]\n",
    "\\frac{7}{36} & \\text{si } k=4\\\\[0.35em]\n",
    "\\frac{9}{36}=\\frac{1}{4} & \\text{si } k=5\\\\[0.35em]\n",
    "\\frac{11}{36} & \\text{si } k=6\n",
    "\\end{cases}\n",
    "$$"
   ]
  },
  {
   "cell_type": "code",
   "execution_count": 43,
   "metadata": {
    "id": "EwN3FdLUOxXX",
    "outputId": "f0877b8e-ef90-42ce-d2e8-3b7ad201dba1"
   },
   "outputs": [
    {
     "data": {
      "text/plain": [
       "{1: 0.027777777777777776,\n",
       " 2: 0.08333333333333333,\n",
       " 3: 0.1388888888888889,\n",
       " 4: 0.19444444444444445,\n",
       " 5: 0.25,\n",
       " 6: 0.3055555555555556}"
      ]
     },
     "execution_count": 43,
     "metadata": {},
     "output_type": "execute_result"
    }
   ],
   "source": [
    "leyX={i:len(j)/36 for i,j in iX.items()}\n",
    "leyX"
   ]
  },
  {
   "cell_type": "code",
   "execution_count": 44,
   "metadata": {
    "id": "YCO3-VkvOxXb",
    "outputId": "55e09077-0d31-438b-aaef-95e8987dc4f3"
   },
   "outputs": [
    {
     "data": {
      "image/png": "[encoded data removed]",
      "text/plain": [
       "<Figure size 432x288 with 1 Axes>"
      ]
     },
     "metadata": {
      "needs_background": "light"
     },
     "output_type": "display_data"
    }
   ],
   "source": [
    "import matplotlib.pyplot as plt\n",
    "\n",
    "plt.scatter(x=leyX.keys(), y=leyX.values())\n",
    "plt.ylim(0,1)\n",
    "plt.grid()\n",
    "plt.xlabel(\"$k$\",fontsize=14)\n",
    "plt.ylabel(\"$P(X=k)$\",fontsize=14)\n",
    "plt.title(\"Ley (función de probabilidades) de $X$\",fontsize=14)\n",
    "plt.show()"
   ]
  },
  {
   "cell_type": "markdown",
   "metadata": {
    "id": "ia_DM3xnOxXi"
   },
   "source": [
    "### Esperanza y varianza de la variable $X$"
   ]
  },
  {
   "cell_type": "code",
   "execution_count": 51,
   "metadata": {
    "id": "pzKWB94nOxXj"
   },
   "outputs": [
    {
     "name": "stdout",
     "output_type": "stream",
     "text": [
      "La esperanza de X es: 4.472222222222222\n",
      "La varianza de X es: 1.9714506172839505\n"
     ]
    }
   ],
   "source": [
    "#Calculamos la esperanza\n",
    "varianza = esperanza = 0.0\n",
    "for k in range(1,7):\n",
    "    esperanza += k*(TX[k]/36)\n",
    "print(\"La esperanza de X es: \" + str(esperanza))\n",
    "#Calculamos la varianza\n",
    "for k in range(1,7):\n",
    "    varianza += (k-esperanza)**2*(TX[k]/36)\n",
    "print(\"La varianza de X es: \" + str(varianza))"
   ]
  },
  {
   "cell_type": "markdown",
   "metadata": {},
   "source": [
    "## La variable aleatoria $Y$"
   ]
  },
  {
   "cell_type": "markdown",
   "metadata": {},
   "source": [
    "La v.a. $Y$ es una función $Y:\\Omega\\to\\mathbb R$ que está definida por la regla\n",
    "    $$\n",
    "    Y(i,j)=\\min\\{i,j\\},\\qquad(i,j)\\in\\Omega\n",
    "    $$"
   ]
  },
  {
   "cell_type": "code",
   "execution_count": 6,
   "metadata": {
    "scrolled": true
   },
   "outputs": [
    {
     "data": {
      "text/plain": [
       "defaultdict(list,\n",
       "            {1: [(1, 1),\n",
       "              (1, 2),\n",
       "              (1, 3),\n",
       "              (1, 4),\n",
       "              (1, 5),\n",
       "              (1, 6),\n",
       "              (2, 1),\n",
       "              (3, 1),\n",
       "              (4, 1),\n",
       "              (5, 1),\n",
       "              (6, 1)],\n",
       "             2: [(2, 2),\n",
       "              (2, 3),\n",
       "              (2, 4),\n",
       "              (2, 5),\n",
       "              (2, 6),\n",
       "              (3, 2),\n",
       "              (4, 2),\n",
       "              (5, 2),\n",
       "              (6, 2)],\n",
       "             3: [(3, 3), (3, 4), (3, 5), (3, 6), (4, 3), (5, 3), (6, 3)],\n",
       "             4: [(4, 4), (4, 5), (4, 6), (5, 4), (6, 4)],\n",
       "             5: [(5, 5), (5, 6), (6, 5)],\n",
       "             6: [(6, 6)]})"
      ]
     },
     "execution_count": 6,
     "metadata": {},
     "output_type": "execute_result"
    }
   ],
   "source": [
    "# Creamos rápidamente a Y\n",
    "Y={(i,j):min(i,j) for i,j in Omega}\n",
    "# Imágenes inversas respecto Y\n",
    "from collections import defaultdict\n",
    "iY = defaultdict(list)\n",
    "for i,j in Y.items():\n",
    "    iY[j].append(i)\n",
    "    \n",
    "iY"
   ]
  },
  {
   "cell_type": "markdown",
   "metadata": {},
   "source": [
    "La ley está dada por:\n",
    "    $$\n",
    "    \\mathbb P(Y=k)=\\mathbb P(\\{(i,j)\\in\\Omega:\\min(i,j)=k\\})=\\frac{|\\{(i,j)\\in\\Omega:\\min(i,j)=k\\}|}{36}\n",
    "    $$"
   ]
  },
  {
   "cell_type": "code",
   "execution_count": 5,
   "metadata": {},
   "outputs": [
    {
     "data": {
      "text/plain": [
       "{1: 11, 2: 9, 3: 7, 4: 5, 5: 3, 6: 1}"
      ]
     },
     "execution_count": 5,
     "metadata": {},
     "output_type": "execute_result"
    }
   ],
   "source": [
    "TY={i:len(j) for i,j in iY.items()} \n",
    "TY"
   ]
  },
  {
   "cell_type": "markdown",
   "metadata": {},
   "source": [
    "La ley de $Y$ queda entonces como la función:\n",
    "    $$\n",
    "    \\mathbb P(Y=k)=\n",
    "    \\begin{cases}\n",
    "        \\frac{11}{36} & \\text{si } k=1\\\\[0.35em]\n",
    "        \\frac{9}{36}= \\frac{1}{4} & \\text{si } k=2\\\\[0.35em]\n",
    "        \\frac{7}{36} & \\text{si } k=3\\\\[0.35em]\n",
    "        \\frac{5}{36} & \\text{si } k=4\\\\[0.35em]\n",
    "        \\frac{3}{36}=\\frac{1}{12} & \\text{si } k=5\\\\[0.35em]\n",
    "        \\frac{1}{36} & \\text{si } k=6\n",
    "    \\end{cases}\n",
    "    $$"
   ]
  },
  {
   "cell_type": "code",
   "execution_count": 52,
   "metadata": {},
   "outputs": [
    {
     "data": {
      "text/plain": [
       "{1: 0.3055555555555556,\n",
       " 2: 0.25,\n",
       " 3: 0.19444444444444445,\n",
       " 4: 0.1388888888888889,\n",
       " 5: 0.08333333333333333,\n",
       " 6: 0.027777777777777776}"
      ]
     },
     "execution_count": 52,
     "metadata": {},
     "output_type": "execute_result"
    }
   ],
   "source": [
    "leyY={i:len(j)/36 for i,j in iY.items()}\n",
    "leyY"
   ]
  },
  {
   "cell_type": "code",
   "execution_count": 54,
   "metadata": {},
   "outputs": [
    {
     "data": {
      "image/png": "[encoded data removed]",
      "text/plain": [
       "<Figure size 432x288 with 1 Axes>"
      ]
     },
     "metadata": {
      "needs_background": "light"
     },
     "output_type": "display_data"
    }
   ],
   "source": [
    "import matplotlib.pyplot as plt\n",
    "\n",
    "plt.scatter(x=leyY.keys(), y=leyY.values())\n",
    "plt.ylim(0,1)\n",
    "plt.grid()\n",
    "plt.xlabel(\"$k$\",fontsize=14)\n",
    "plt.ylabel(\"$P(Y=k)$\",fontsize=14)\n",
    "plt.title(\"Ley (función de probabilidades) de $Y$\",fontsize=14)\n",
    "plt.show()"
   ]
  },
  {
   "cell_type": "markdown",
   "metadata": {},
   "source": [
    "### Esperanza y varianza de la variable $Y$"
   ]
  },
  {
   "cell_type": "code",
   "execution_count": 55,
   "metadata": {},
   "outputs": [
    {
     "name": "stdout",
     "output_type": "stream",
     "text": [
      "La esperanza de Y es: 2.5277777777777777\n",
      "La varianza de Y es: 1.9714506172839508\n"
     ]
    }
   ],
   "source": [
    "#Calculamos la esperanza\n",
    "varianza = esperanza = 0.0\n",
    "for k in range(1,7):\n",
    "    esperanza += k*(TY[k]/36)\n",
    "print(\"La esperanza de Y es: \" + str(esperanza))\n",
    "#Calculamos la varianza\n",
    "for k in range(1,7):\n",
    "    varianza += (k-esperanza)**2*(TY[k]/36)\n",
    "print(\"La varianza de Y es: \" + str(varianza))"
   ]
  },
  {
   "cell_type": "markdown",
   "metadata": {
    "id": "pf8f6s99OxXq"
   },
   "source": [
    "## La variable aleatoria $Z$"
   ]
  },
  {
   "cell_type": "markdown",
   "metadata": {
    "id": "7P3Z80beOxXq"
   },
   "source": [
    "La v.a. $Z$ es una función $Z:\\Omega\\to\\mathbb R$ definida por la regla:\n",
    "\n",
    "$$\n",
    "Z(i,j)=i+j,\\qquad (i,j)\\in\\Omega.\n",
    "$$"
   ]
  },
  {
   "cell_type": "code",
   "execution_count": null,
   "metadata": {
    "id": "qwC87v1EOxXr",
    "outputId": "5e6a8532-a7ec-4548-a40e-004411321173"
   },
   "outputs": [
    {
     "data": {
      "text/plain": [
       "{(1, 1): 2,\n",
       " (1, 2): 3,\n",
       " (1, 3): 4,\n",
       " (1, 4): 5,\n",
       " (1, 5): 6,\n",
       " (1, 6): 7,\n",
       " (2, 1): 3,\n",
       " (2, 2): 4,\n",
       " (2, 3): 5,\n",
       " (2, 4): 6,\n",
       " (2, 5): 7,\n",
       " (2, 6): 8,\n",
       " (3, 1): 4,\n",
       " (3, 2): 5,\n",
       " (3, 3): 6,\n",
       " (3, 4): 7,\n",
       " (3, 5): 8,\n",
       " (3, 6): 9,\n",
       " (4, 1): 5,\n",
       " (4, 2): 6,\n",
       " (4, 3): 7,\n",
       " (4, 4): 8,\n",
       " (4, 5): 9,\n",
       " (4, 6): 10,\n",
       " (5, 1): 6,\n",
       " (5, 2): 7,\n",
       " (5, 3): 8,\n",
       " (5, 4): 9,\n",
       " (5, 5): 10,\n",
       " (5, 6): 11,\n",
       " (6, 1): 7,\n",
       " (6, 2): 8,\n",
       " (6, 3): 9,\n",
       " (6, 4): 10,\n",
       " (6, 5): 11,\n",
       " (6, 6): 12}"
      ]
     },
     "execution_count": 42,
     "metadata": {
      "tags": []
     },
     "output_type": "execute_result"
    }
   ],
   "source": [
    "Z={(i,j):i+j for i,j in Omega}\n",
    "Z"
   ]
  },
  {
   "cell_type": "markdown",
   "metadata": {
    "id": "YvcjV6R_OxXv"
   },
   "source": [
    "El rango de valores de $Z$ está dado por el conjunto\n",
    "\n",
    "$$\n",
    "\\mathrm{rango}(Z):=\\{2,3,4,5,6,7,8,9,10,11,12\\}.\n",
    "$$"
   ]
  },
  {
   "cell_type": "code",
   "execution_count": null,
   "metadata": {
    "id": "Lenffp_1OxXy",
    "outputId": "32810a23-56ac-4c0d-82b4-955cca016080"
   },
   "outputs": [
    {
     "data": {
      "text/plain": [
       "{2, 3, 4, 5, 6, 7, 8, 9, 10, 11, 12}"
      ]
     },
     "execution_count": 43,
     "metadata": {
      "tags": []
     },
     "output_type": "execute_result"
    }
   ],
   "source": [
    "set(Z.values())"
   ]
  },
  {
   "cell_type": "markdown",
   "metadata": {
    "id": "jr3c5Rn9OxX5"
   },
   "source": [
    "## La ley de $Z$"
   ]
  },
  {
   "cell_type": "markdown",
   "metadata": {
    "id": "_DZw2iy1OxX6"
   },
   "source": [
    "Para calcular la ley de $Z$ debemos considerar los siguiente eventos\n"
   ]
  },
  {
   "cell_type": "markdown",
   "metadata": {
    "id": "R_16kCaKOxX7"
   },
   "source": [
    "\\begin{align}\n",
    "(Z=k):=Z^{-1}(k)&=\\{(i,j)\\in\\Omega:Z(i,j)=k\\},\\\\[0.3em]\n",
    "&=\\{(i,j)\\in\\Omega:i+j=k\\},\\qquad k=2,3,\\dots,12.\n",
    "\\end{align}"
   ]
  },
  {
   "cell_type": "markdown",
   "metadata": {
    "id": "J6N5G7naOxX7"
   },
   "source": [
    "Por ejemplo:"
   ]
  },
  {
   "cell_type": "markdown",
   "metadata": {
    "id": "iRtGDAbbOxX8"
   },
   "source": [
    "$$\n",
    "(Z=5)=Z^{-1}(5)=\\{(i,j)\\in\\Omega:i+j=5\\}=\\{(1,4),(2,3),(3,2),(4,1)\\}\n",
    "$$"
   ]
  },
  {
   "cell_type": "markdown",
   "metadata": {
    "id": "IZpK6q-UOxX8"
   },
   "source": [
    "$$\n",
    "(Z=9)=Z^{-1}(9)=\\{(i,j)\\in\\Omega:i+j=9\\}=\\{(3,6),(4,5),(5,4),(6,3)\\}\n",
    "$$"
   ]
  },
  {
   "cell_type": "code",
   "execution_count": null,
   "metadata": {
    "id": "20E0kmXQOxX9",
    "outputId": "72ecfec8-3e3b-47e9-f222-cb8f0c1640e2"
   },
   "outputs": [
    {
     "data": {
      "text/plain": [
       "defaultdict(list,\n",
       "            {2: [(1, 1)],\n",
       "             3: [(1, 2), (2, 1)],\n",
       "             4: [(1, 3), (2, 2), (3, 1)],\n",
       "             5: [(1, 4), (2, 3), (3, 2), (4, 1)],\n",
       "             6: [(1, 5), (2, 4), (3, 3), (4, 2), (5, 1)],\n",
       "             7: [(1, 6), (2, 5), (3, 4), (4, 3), (5, 2), (6, 1)],\n",
       "             8: [(2, 6), (3, 5), (4, 4), (5, 3), (6, 2)],\n",
       "             9: [(3, 6), (4, 5), (5, 4), (6, 3)],\n",
       "             10: [(4, 6), (5, 5), (6, 4)],\n",
       "             11: [(5, 6), (6, 5)],\n",
       "             12: [(6, 6)]})"
      ]
     },
     "execution_count": 44,
     "metadata": {
      "tags": []
     },
     "output_type": "execute_result"
    }
   ],
   "source": [
    "from collections import defaultdict\n",
    "iZ = defaultdict(list)\n",
    "for i,j in Z.items():\n",
    "    iZ[j].append(i)\n",
    "    \n",
    "iZ"
   ]
  },
  {
   "cell_type": "code",
   "execution_count": null,
   "metadata": {
    "id": "wEu_SglPOxYF",
    "outputId": "31440f1e-9d95-4470-a65c-9423446464bf"
   },
   "outputs": [
    {
     "data": {
      "text/plain": [
       "{2: 1, 3: 2, 4: 3, 5: 4, 6: 5, 7: 6, 8: 5, 9: 4, 10: 3, 11: 2, 12: 1}"
      ]
     },
     "execution_count": 45,
     "metadata": {
      "tags": []
     },
     "output_type": "execute_result"
    }
   ],
   "source": [
    "# Tamaños de los eventos (Z=k)\n",
    "\n",
    "TZ={i:len(j) for i,j in iZ.items()} \n",
    "TZ"
   ]
  },
  {
   "cell_type": "markdown",
   "metadata": {
    "id": "YxtzJsNeOxYJ"
   },
   "source": [
    "La ley de $Z$ queda dada entonces por la función:"
   ]
  },
  {
   "cell_type": "markdown",
   "metadata": {
    "id": "IcxKWecnOxYK"
   },
   "source": [
    "$$\n",
    "\\mathbb P(Z=k)=\n",
    "\\begin{cases}\n",
    "\\frac{1}{36} & \\text{si } k=2\\\\[0.35em]\n",
    "\\frac{2}{36}=\\frac{1}{18} & \\text{si } k=3\\\\[0.35em]\n",
    "\\frac{3}{36}=\\frac{1}{12} & \\text{si } k=4\\\\[0.35em]\n",
    "\\frac{4}{36}=\\frac{1}{9} & \\text{si } k=5\\\\[0.35em]\n",
    "\\frac{5}{36} & \\text{si } k=6\\\\[0.35em]\n",
    "\\frac{6}{36}=\\frac{1}{6} & \\text{si } k=7\\\\[0.35em]\n",
    "\\frac{5}{36} & \\text{si } k=8\\\\[0.35em]\n",
    "\\frac{4}{36}=\\frac{1}{9} & \\text{si } k=9\\\\[0.35em]\n",
    "\\frac{3}{36}=\\frac{1}{12} & \\text{si } k=10\\\\[0.35em]\n",
    "\\frac{2}{36}=\\frac{1}{18} & \\text{si } k=11\\\\[0.35em]\n",
    "\\frac{1}{36} & \\text{si } k=12\n",
    "\\end{cases}\n",
    "$$"
   ]
  },
  {
   "cell_type": "code",
   "execution_count": null,
   "metadata": {
    "id": "OYnJCVGZOxYL",
    "outputId": "1a16c68c-51c6-4292-91c3-9059aa8e869f"
   },
   "outputs": [
    {
     "data": {
      "text/plain": [
       "{2: 0.027777777777777776,\n",
       " 3: 0.05555555555555555,\n",
       " 4: 0.08333333333333333,\n",
       " 5: 0.1111111111111111,\n",
       " 6: 0.1388888888888889,\n",
       " 7: 0.16666666666666666,\n",
       " 8: 0.1388888888888889,\n",
       " 9: 0.1111111111111111,\n",
       " 10: 0.08333333333333333,\n",
       " 11: 0.05555555555555555,\n",
       " 12: 0.027777777777777776}"
      ]
     },
     "execution_count": 46,
     "metadata": {
      "tags": []
     },
     "output_type": "execute_result"
    }
   ],
   "source": [
    "leyZ={i:len(j)/36 for i,j in iZ.items()}\n",
    "leyZ"
   ]
  },
  {
   "cell_type": "code",
   "execution_count": null,
   "metadata": {
    "id": "BOVR4V1WOxYO",
    "outputId": "da78811b-b6fd-408a-92cc-9d7774ddf9ac"
   },
   "outputs": [
    {
     "data": {
      "image/png": "[encoded data removed]",
      "text/plain": [
       "<Figure size 432x288 with 1 Axes>"
      ]
     },
     "metadata": {
      "needs_background": "light",
      "tags": []
     },
     "output_type": "display_data"
    }
   ],
   "source": [
    "import matplotlib.pyplot as plt\n",
    "\n",
    "plt.scatter(x=leyZ.keys(), y=leyZ.values())\n",
    "#plt.ylim(0,1)\n",
    "plt.xticks(list(leyZ.keys()))\n",
    "plt.grid()\n",
    "plt.xlabel(\"$k$\",fontsize=14)\n",
    "plt.ylabel(\"$P(Z=k)$\",fontsize=14)\n",
    "plt.title(\"Ley (función de probabilidades) de $Z$\",fontsize=14)\n",
    "plt.show()"
   ]
  },
  {
   "cell_type": "markdown",
   "metadata": {
    "id": "IxBZsu_sOxYU"
   },
   "source": [
    "### Ejercicio"
   ]
  },
  {
   "cell_type": "markdown",
   "metadata": {
    "id": "vjd4kY_sOxYV"
   },
   "source": [
    "Calcula la esperanza y la varianza de $Z$ con **Python**"
   ]
  },
  {
   "cell_type": "markdown",
   "metadata": {
    "id": "C3o1no2dOxYW"
   },
   "source": [
    "## Una expresión analítica para la ley de $Z$"
   ]
  },
  {
   "cell_type": "markdown",
   "metadata": {
    "id": "CAyXD3MiOxYW"
   },
   "source": [
    "Para calcular los tamaños de los eventos $(Z=k)$ tomamos dos casos de acuerdo al valor de $k$:"
   ]
  },
  {
   "cell_type": "markdown",
   "metadata": {
    "id": "fBruDvCaOxYX"
   },
   "source": [
    "**Caso I.** Valores $k=2,3,4,5,6.$"
   ]
  },
  {
   "cell_type": "markdown",
   "metadata": {
    "id": "2z3UzDSjOxYY"
   },
   "source": [
    "Pensemos el problema del siguiente modo:"
   ]
  },
  {
   "cell_type": "markdown",
   "metadata": {
    "id": "UqVhq6StOxYY"
   },
   "source": [
    "Tenemos $k$ objetos que queremos repartir en $2$ cajas, de tal manera que ambas cajas tengan al menos un objeto."
   ]
  },
  {
   "cell_type": "markdown",
   "metadata": {
    "id": "GIfF53_-OxYZ"
   },
   "source": [
    "$$\n",
    "\\overbrace{\\star\\quad\\star\\quad\\cdots\\quad\\star}^{\\text{$k$ estrellitas}}\n",
    "$$\n",
    "\n",
    "$$\n",
    "\\underbrace{(\\quad,\\quad)}_{\\text{$2$ cajitas}}\n",
    "$$"
   ]
  },
  {
   "cell_type": "markdown",
   "metadata": {
    "id": "i0ITRVHZOxYa"
   },
   "source": [
    "¿De cuántas formas podemos repartir los $k$ objetos en las $2$ cajitas de tal manera que cada cajita tenga al menos un objeto?"
   ]
  },
  {
   "cell_type": "markdown",
   "metadata": {
    "id": "w7wlkPgmOxYa"
   },
   "source": [
    "Consideremos primero la situación muestra $k=5$."
   ]
  },
  {
   "cell_type": "markdown",
   "metadata": {
    "id": "sHf3ehdGOxYh"
   },
   "source": [
    "$$\n",
    "\\star\\quad\\star\\quad\\star\\quad\\star\\quad\\star\n",
    "$$\n",
    "\n",
    "$$\n",
    "\\underbrace{(\\quad,\\quad)}_{\\text{$2$ cajitas}}\n",
    "$$"
   ]
  },
  {
   "cell_type": "markdown",
   "metadata": {
    "id": "GAkJv_mGOxYi"
   },
   "source": [
    "¿De cuántas formas podemos repartir los $5$ objetos en las $2$ cajitas de tal manera que cada cajita tenga al menos un objeto?"
   ]
  },
  {
   "cell_type": "markdown",
   "metadata": {
    "id": "9b3n0WiqOxYj"
   },
   "source": [
    "Para contar este número vamos a colocar una barra entre las estrellas, de tal manera que dividimos el conjunto de estrellas en 2 partes (que corresponden a los objetos dentro de cada cajita)."
   ]
  },
  {
   "cell_type": "markdown",
   "metadata": {
    "id": "NKGFI9urOxYj"
   },
   "source": [
    "$$\n",
    "\\star\\ \\mid\\ \\star\\quad\\star\\quad\\star\\quad\\star\n",
    "$$\n",
    "\n",
    "$$\n",
    "\\star\\quad\\star\\ \\mid\\ \\star\\quad\\star\\quad\\star\n",
    "$$\n",
    "\n",
    "$$\n",
    "\\star\\quad\\star\\quad\\star\\ \\mid\\ \\star\\quad\\star\n",
    "$$\n",
    "\n",
    "$$\n",
    "\\star\\quad\\star\\quad\\star\\quad\\star\\ \\mid\\ \\star\n",
    "$$"
   ]
  },
  {
   "cell_type": "markdown",
   "metadata": {
    "id": "wwjyTfsNOxYr"
   },
   "source": [
    "Hay entonces $4$ formas de repartir $5$ objetos en dos cajitas de tal manera que ambas cajitas tengan al menos un objeto."
   ]
  },
  {
   "cell_type": "markdown",
   "metadata": {
    "id": "US-a6GOtOxYs"
   },
   "source": [
    "Para $k=6$:"
   ]
  },
  {
   "cell_type": "markdown",
   "metadata": {
    "id": "Iq2I2C33OxYt"
   },
   "source": [
    "$$\n",
    "\\star\\ \\mid\\ \\star\\quad\\star\\quad\\star\\quad\\star\\quad\\star\n",
    "$$\n",
    "\n",
    "$$\n",
    "\\star\\quad\\star\\ \\mid\\ \\star\\quad\\star\\quad\\star\\quad\\star\n",
    "$$\n",
    "\n",
    "$$\n",
    "\\star\\quad\\star\\quad\\star\\ \\mid\\ \\star\\quad\\star\\quad\\star\n",
    "$$\n",
    "\n",
    "$$\n",
    "\\star\\quad\\star\\quad\\star\\quad\\star\\ \\mid\\ \\star\\quad\\star\n",
    "$$\n",
    "\n",
    "$$\n",
    "\\star\\quad\\star\\quad\\star\\quad\\star\\quad\\star\\ \\mid\\ \\star\n",
    "$$"
   ]
  },
  {
   "cell_type": "markdown",
   "metadata": {
    "id": "3AZ7yFQROxYt"
   },
   "source": [
    "Hay $5$ formas de repartir $6$ objetos en dos cajitas de tal manera que ambas cajitas tengan al menos un objeto."
   ]
  },
  {
   "cell_type": "markdown",
   "metadata": {
    "id": "9KcibxqgOxYu"
   },
   "source": [
    "En general, para $k=2,3,4,5,6$, hay $k-1$ formas de repartir $k$ objetos en $2$ cajitas de tal manera que ambas tengan al menos un objeto."
   ]
  },
  {
   "cell_type": "markdown",
   "metadata": {
    "id": "yIsQ71a_OxYx"
   },
   "source": [
    "Concluimos que si $k=2,3,4,5,6$:\n",
    "\n",
    "$$\n",
    "|(Z=k)|=k-1.\n",
    "$$"
   ]
  },
  {
   "cell_type": "markdown",
   "metadata": {
    "id": "KGe4K2zsOxYy"
   },
   "source": [
    "Y por lo tanto, si $k=2,3,4,5,6$:\n",
    "    \n",
    "$$\n",
    "\\mathbb P(Z=k)=\\frac{k-1}{36}.\n",
    "$$"
   ]
  },
  {
   "cell_type": "markdown",
   "metadata": {
    "id": "ORRHiJELOxYz"
   },
   "source": [
    "**Caso II.** Valores $k=7,8,9,10,11,12$."
   ]
  },
  {
   "cell_type": "markdown",
   "metadata": {
    "id": "r05wsvMxOxYz"
   },
   "source": [
    "Por simetría,\n",
    "\n",
    "$$\n",
    "|(Z=k)|=|(Z=14-k)|\n",
    "$$"
   ]
  },
  {
   "cell_type": "markdown",
   "metadata": {
    "id": "9RCK5ZQmOxY0"
   },
   "source": [
    "Por lo tanto, para $k=7,8,9,10,11,12$:"
   ]
  },
  {
   "cell_type": "markdown",
   "metadata": {
    "id": "mPgMlhXpOxY1"
   },
   "source": [
    "\\begin{align}\n",
    "\\mathbb P(Z=k)&=\\mathbb P(Z=14-k)\\\\[0.5em]\n",
    "&=\\frac{(14-k)-1}{36}\\\\[0.5em]\n",
    "&=\\frac{13-k}{36}\n",
    "\\end{align}"
   ]
  },
  {
   "cell_type": "markdown",
   "metadata": {
    "id": "bD0XywDuOxY6"
   },
   "source": [
    "Podemos resumir lo anterior en una expresión unificada como sigue:"
   ]
  },
  {
   "cell_type": "markdown",
   "metadata": {
    "id": "QGEzzQHjOxY7"
   },
   "source": [
    "$$\n",
    "\\mathbb P(Z=k)=\n",
    "\\begin{cases}\n",
    "\\frac{k-1}{36} & \\text{si } k=2,3,4,5,6,\\\\[0.4em]\n",
    "\\frac{13-k}{36} & \\text{si } k=7,8,9,10,11,12.\n",
    "\\end{cases}\n",
    "$$"
   ]
  },
  {
   "cell_type": "markdown",
   "metadata": {
    "id": "S8wG5hOMOxY8"
   },
   "source": [
    "### Esperanza y varianza de la variable $Z$"
   ]
  },
  {
   "cell_type": "code",
   "execution_count": 13,
   "metadata": {},
   "outputs": [
    {
     "name": "stdout",
     "output_type": "stream",
     "text": [
      "0.0\n",
      "0.05555555555555555\n",
      "0.16666666666666666\n",
      "0.3333333333333333\n",
      "0.5555555555555556\n",
      "1.1666666666666667\n",
      "1.1666666666666665\n",
      "1.1111111111111112\n",
      "1.0\n",
      "0.8333333333333333\n",
      "0.611111111111111\n",
      "0.3333333333333333\n"
     ]
    }
   ],
   "source": [
    "for k in range(1,13):\n",
    "    if k < 6:\n",
    "        print(((k-1)/36)*k)\n",
    "    else:\n",
    "        print(((13-k)/36)*k)"
   ]
  },
  {
   "cell_type": "code",
   "execution_count": 56,
   "metadata": {},
   "outputs": [
    {
     "name": "stdout",
     "output_type": "stream",
     "text": [
      "La esperanza de Z es: 7.333333333333332\n",
      "La varianza de Z es: 6.043209876543209\n"
     ]
    }
   ],
   "source": [
    "esperanza = 0.0\n",
    "for k in range(1,13):\n",
    "    if k < 6:\n",
    "         esperanza += ((k-1)/36)*k\n",
    "    else:\n",
    "        esperanza += ((13-k)/36)*k\n",
    "print(\"La esperanza de Z es: \" + str(esperanza))\n",
    "varianza = 0.0\n",
    "for k in range(1,13):\n",
    "    if k < 6:\n",
    "         varianza += ((k-1)/36)*(k-esperanza)**2\n",
    "    else:\n",
    "        varianza += ((13-k)/36)*(k-esperanza)**2\n",
    "print(\"La varianza de Z es: \" + str(varianza))"
   ]
  },
  {
   "cell_type": "markdown",
   "metadata": {},
   "source": [
    "## Variable aleatoria $W$"
   ]
  },
  {
   "cell_type": "markdown",
   "metadata": {},
   "source": [
    "La v.a. $W$ es una función $W:\\Omega\\to\\mathbb R$ definida por la regla:\n",
    "\n",
    "$$\n",
    "W(i,j)=i-j,\\qquad (i,j)\\in\\Omega.\n",
    "$$"
   ]
  },
  {
   "cell_type": "markdown",
   "metadata": {},
   "source": [
    "Entonces el rango de $W$ queda como:\n",
    "    $$\\mathrm{rango}(W) := \\{-5, -4, -3, -2, -1, 0, 1, 2, 3, 4, 5\\}$$"
   ]
  },
  {
   "cell_type": "code",
   "execution_count": 33,
   "metadata": {},
   "outputs": [
    {
     "data": {
      "text/plain": [
       "{0: 6, -1: 5, -2: 4, -3: 3, -4: 2, -5: 1, 1: 5, 2: 4, 3: 3, 4: 2, 5: 1}"
      ]
     },
     "execution_count": 33,
     "metadata": {},
     "output_type": "execute_result"
    }
   ],
   "source": [
    "#Creamos a W rápidamente\n",
    "W={(i,j):i-j for i,j in Omega}\n",
    "W\n",
    "# Imágenes inversas respecto Z\n",
    "from collections import defaultdict\n",
    "iW = defaultdict(list)\n",
    "for i,j in W.items():\n",
    "    iW[j].append(i)\n",
    "# Tamaños de los eventos (W=k)\n",
    "TW={i:len(j) for i,j in iW.items()} \n",
    "TW"
   ]
  },
  {
   "cell_type": "markdown",
   "metadata": {},
   "source": [
    "la ley de $W$ queda entonces como la función:\n",
    "    $$\n",
    "        \\mathbb P(W=k)=\n",
    "        \\begin{cases}\n",
    "        \\frac{1}{36} & \\text{si } k=-5\\\\[0.35em]\n",
    "        \\frac{2}{36}=\\frac{1}{18} & \\text{si } k=-4\\\\[0.35em]\n",
    "        \\frac{3}{36}=\\frac{1}{12} & \\text{si } k=-3\\\\[0.35em]\n",
    "        \\frac{4}{36}=\\frac{1}{9} & \\text{si } k=-2\\\\[0.35em]\n",
    "        \\frac{5}{36} & \\text{si } k=-1\\\\[0.35em]\n",
    "        \\frac{6}{36}=\\frac{1}{6} & \\text{si } k=0\\\\[0.35em]\n",
    "        \\frac{5}{36} & \\text{si } k=1\\\\[0.35em]\n",
    "        \\frac{4}{36}=\\frac{1}{9} & \\text{si } k=2\\\\[0.35em]\n",
    "        \\frac{3}{36}=\\frac{1}{12} & \\text{si } k=3\\\\[0.35em]\n",
    "        \\frac{2}{36}=\\frac{1}{18} & \\text{si } k=4\\\\[0.35em]\n",
    "        \\frac{1}{36} & \\text{si } k=5\n",
    "        \\end{cases}\n",
    "    $$"
   ]
  },
  {
   "cell_type": "code",
   "execution_count": 59,
   "metadata": {},
   "outputs": [
    {
     "data": {
      "text/plain": [
       "{0: 0.16666666666666666,\n",
       " -1: 0.1388888888888889,\n",
       " -2: 0.1111111111111111,\n",
       " -3: 0.08333333333333333,\n",
       " -4: 0.05555555555555555,\n",
       " -5: 0.027777777777777776,\n",
       " 1: 0.1388888888888889,\n",
       " 2: 0.1111111111111111,\n",
       " 3: 0.08333333333333333,\n",
       " 4: 0.05555555555555555,\n",
       " 5: 0.027777777777777776}"
      ]
     },
     "execution_count": 59,
     "metadata": {},
     "output_type": "execute_result"
    }
   ],
   "source": [
    "leyW={i:len(j)/36 for i,j in iW.items()}\n",
    "leyW"
   ]
  },
  {
   "cell_type": "code",
   "execution_count": 60,
   "metadata": {},
   "outputs": [
    {
     "data": {
      "image/png": "[encoded data removed]",
      "text/plain": [
       "<Figure size 432x288 with 1 Axes>"
      ]
     },
     "metadata": {
      "needs_background": "light"
     },
     "output_type": "display_data"
    }
   ],
   "source": [
    "import matplotlib.pyplot as plt\n",
    "\n",
    "plt.scatter(x=leyW.keys(), y=leyW.values())\n",
    "#plt.ylim(0,1)\n",
    "plt.xticks(list(leyW.keys()))\n",
    "plt.grid()\n",
    "plt.xlabel(\"$k$\",fontsize=14)\n",
    "plt.ylabel(\"$P(W=k)$\",fontsize=14)\n",
    "plt.title(\"Ley (función de probabilidades) de $W$\",fontsize=14)\n",
    "plt.show()"
   ]
  },
  {
   "cell_type": "markdown",
   "metadata": {},
   "source": [
    "### Esperanza y varianza de la variable $W$"
   ]
  },
  {
   "cell_type": "code",
   "execution_count": 58,
   "metadata": {},
   "outputs": [
    {
     "name": "stdout",
     "output_type": "stream",
     "text": [
      "La esperanza de Z es: -1.6653345369377348e-16\n",
      "La varianza de Z es: 5.833333333333332\n"
     ]
    }
   ],
   "source": [
    "#Calculamos la esperanza\n",
    "esperanza = 0.0\n",
    "for k in range(-5,6):\n",
    "    esperanza += k*(TW[k]/36)\n",
    "print(\"La esperanza de Z es: \" + str(esperanza))\n",
    "#Calculamos la varianza\n",
    "varianza = 0.0\n",
    "for k in range(-5,6):\n",
    "    varianza += (k-esperanza)**2*(TW[k]/36)\n",
    "print(\"La varianza de Z es: \" + str(varianza))"
   ]
  }
 ],
 "metadata": {
  "colab": {
   "name": "Ejercicio 2 Tarea 2.ipynb",
   "provenance": []
  },
  "kernelspec": {
   "display_name": "Python 3",
   "language": "python",
   "name": "python3"
  },
  "language_info": {
   "codemirror_mode": {
    "name": "ipython",
    "version": 3
   },
   "file_extension": ".py",
   "mimetype": "text/x-python",
   "name": "python",
   "nbconvert_exporter": "python",
   "pygments_lexer": "ipython3",
   "version": "3.7.6"
  }
 },
 "nbformat": 4,
 "nbformat_minor": 1
}
