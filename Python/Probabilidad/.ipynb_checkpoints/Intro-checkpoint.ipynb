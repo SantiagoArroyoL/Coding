{
 "cells": [
  {
   "cell_type": "markdown",
   "metadata": {},
   "source": [
    "# Librerías que usaremos para el curso:\n",
    "**SciPy:** Agrupa muchas funciones relevantes para los cálculos numéricos.\n",
    "\n",
    "**NumPy:** Proporciona funciones específicas para cálculos vectoriales y matriciales.\n",
    "\n",
    "**SymPy:** Abarca todas las funciones necesarias para cálculos simbólicos.\n",
    "\n",
    "**Matplotlib:** Contiene herramientas para trazados 2D y 3D (similares a los de MATLAB).\n",
    "\n",
    "**Pandas:** Específica para gestión y análisis de datos."
   ]
  },
  {
   "cell_type": "markdown",
   "metadata": {},
   "source": [
    "## El módulo NumPy:\n",
    "\n",
    "Sea el sistema:\n",
    "$$4x+3y = 20 \\\\\n",
    "-5x+9y = 26$$\n",
    "\n",
    "En forma matricial:\n",
    "$$A_x=b0$$\n",
    "donde\n",
    "$$\n",
    "A = \\begin{pmatrix}\n",
    "         4 & 3 \\\\\n",
    "        -5 & 9 \n",
    "    \\end{pmatrix} \\quad\n",
    "x = \\begin{pmatrix}\n",
    "         x \\\\\n",
    "         y\n",
    "    \\end{pmatrix},\\quad     \n",
    "b = \\begin{pmatrix}\n",
    "         20 \\\\\n",
    "         26\n",
    "    \\end{pmatrix}\n",
    "$$\n",
    "La solución está dada por \n",
    "$$ x = A^{-1}b$$\n",
    "pseudocódigo para la solución:"
   ]
  },
  {
   "cell_type": "code",
   "execution_count": 1,
   "metadata": {},
   "outputs": [
    {
     "ename": "SyntaxError",
     "evalue": "invalid syntax (<ipython-input-1-4388284ca37c>, line 1)",
     "output_type": "error",
     "traceback": [
      "\u001b[1;36m  File \u001b[1;32m\"<ipython-input-1-4388284ca37c>\"\u001b[1;36m, line \u001b[1;32m1\u001b[0m\n\u001b[1;33m    A = [[4 3][-5 9]]\u001b[0m\n\u001b[1;37m            ^\u001b[0m\n\u001b[1;31mSyntaxError\u001b[0m\u001b[1;31m:\u001b[0m invalid syntax\n"
     ]
    }
   ],
   "source": [
    "A = [[4 3][-5 9]]\n",
    "X = [[x][y]]\n",
    "B = [[20][26]]\n",
    "X = inverse(A).B"
   ]
  },
  {
   "cell_type": "markdown",
   "metadata": {},
   "source": [
    "Código correcto con **NumPy:**"
   ]
  },
  {
   "cell_type": "code",
   "execution_count": 6,
   "metadata": {},
   "outputs": [
    {
     "name": "stdout",
     "output_type": "stream",
     "text": [
      "[[ 4  3]\n",
      " [-5  9]]\n"
     ]
    }
   ],
   "source": [
    "import numpy as np\n",
    "Alist=[[4,3],[-5,9]]\n",
    "A=np.array(Alist)\n",
    "print(A)"
   ]
  },
  {
   "cell_type": "code",
   "execution_count": 8,
   "metadata": {},
   "outputs": [
    {
     "name": "stdout",
     "output_type": "stream",
     "text": [
      "[[ 0.17647059 -0.05882353]\n",
      " [ 0.09803922  0.07843137]]\n"
     ]
    }
   ],
   "source": [
    "inv_A=np.linalg.inv(A)\n",
    "print(inv_A)"
   ]
  },
  {
   "cell_type": "code",
   "execution_count": 9,
   "metadata": {},
   "outputs": [
    {
     "name": "stdout",
     "output_type": "stream",
     "text": [
      "[20 26]\n"
     ]
    }
   ],
   "source": [
    "B = np.array([20,26])\n",
    "print(B)"
   ]
  },
  {
   "cell_type": "code",
   "execution_count": 11,
   "metadata": {},
   "outputs": [
    {
     "name": "stdout",
     "output_type": "stream",
     "text": [
      "[2. 4.]\n"
     ]
    }
   ],
   "source": [
    "X=np.dot(inv_A,B)\n",
    "print(X)"
   ]
  },
  {
   "cell_type": "code",
   "execution_count": 12,
   "metadata": {},
   "outputs": [
    {
     "name": "stdout",
     "output_type": "stream",
     "text": [
      "[36 38 40 42]\n"
     ]
    }
   ],
   "source": [
    "U = np.array([11,12,13,14])\n",
    "V = np.array([25,26,27,28])\n",
    "W = U+V\n",
    "print(W)"
   ]
  },
  {
   "cell_type": "code",
   "execution_count": 13,
   "metadata": {},
   "outputs": [
    {
     "name": "stdout",
     "output_type": "stream",
     "text": [
      "[3 6 9]\n"
     ]
    }
   ],
   "source": [
    "A = np.array([1,2,3])\n",
    "B = 3*A\n",
    "print(B)"
   ]
  }
 ],
 "metadata": {
  "kernelspec": {
   "display_name": "Python 3",
   "language": "python",
   "name": "python3"
  },
  "language_info": {
   "codemirror_mode": {
    "name": "ipython",
    "version": 3
   },
   "file_extension": ".py",
   "mimetype": "text/x-python",
   "name": "python",
   "nbconvert_exporter": "python",
   "pygments_lexer": "ipython3",
   "version": "3.7.6"
  }
 },
 "nbformat": 4,
 "nbformat_minor": 4
}
