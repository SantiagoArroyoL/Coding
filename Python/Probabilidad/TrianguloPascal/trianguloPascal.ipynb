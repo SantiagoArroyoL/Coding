{
 "cells": [
  {
   "cell_type": "markdown",
   "metadata": {},
   "source": [
    "# Algunos Ejercicios para Python"
   ]
  },
  {
   "cell_type": "markdown",
   "metadata": {},
   "source": [
    "## 1. Triángulo de Pascal (uso de la función *zip( )*)"
   ]
  },
  {
   "cell_type": "markdown",
   "metadata": {},
   "source": [
    "![title](pascal-triangle.png)"
   ]
  },
  {
   "cell_type": "markdown",
   "metadata": {},
   "source": [
    "Cada número son los dos números de arriba sumados"
   ]
  },
  {
   "cell_type": "markdown",
   "metadata": {},
   "source": [
    "## **Problema:** Escribe una función de Python que imprima las primeras $n$ filas del triángulo de Pascal."
   ]
  },
  {
   "cell_type": "markdown",
   "metadata": {},
   "source": [
    "### La función *zip( )*"
   ]
  },
  {
   "cell_type": "markdown",
   "metadata": {},
   "source": [
    "La función **zip( )** devuelve un objeto zip. Es un iterador de tuplas donde el primer elemento de cada iterador  se empareja, y luego el segundo elemento de cada iterador se empareja, etc."
   ]
  },
  {
   "cell_type": "markdown",
   "metadata": {},
   "source": [
    "### Ejemplo 1"
   ]
  },
  {
   "cell_type": "code",
   "execution_count": 1,
   "metadata": {},
   "outputs": [
    {
     "name": "stdout",
     "output_type": "stream",
     "text": [
      "[(1, 'a'), (2, 'b'), (3, 'c')]\n"
     ]
    }
   ],
   "source": [
    "A = [1, 2, 3]\n",
    "B = ['a','b','c']\n",
    "\n",
    "C = zip(A,B)\n",
    "\n",
    "print(list(C))"
   ]
  },
  {
   "cell_type": "markdown",
   "metadata": {},
   "source": [
    "### Ejemplo 2"
   ]
  },
  {
   "cell_type": "code",
   "execution_count": null,
   "metadata": {},
   "outputs": [],
   "source": [
    "A = [0]\n",
    "B = [1]\n",
    "\n",
    "print(A)\n",
    "print(B)\n",
    "\n",
    "C=A+B\n",
    "D=B+A\n",
    "\n",
    "print(C)\n",
    "print(D)\n",
    "print(list(zip(C,D)))\n",
    "\n",
    "E=[i+j for i,j in zip(C,D)] # E=[l+r for (l,r) in [(0,1),(1,0)]]\n",
    "# E=[0+1,1+0]\n",
    "# E=[1,1]\n",
    "\n",
    "print(E)\n"
   ]
  },
  {
   "cell_type": "markdown",
   "metadata": {},
   "source": [
    "### Ejemplo 3"
   ]
  },
  {
   "cell_type": "code",
   "execution_count": null,
   "metadata": {},
   "outputs": [],
   "source": [
    "A = [0]\n",
    "B = [1,1]\n",
    "\n",
    "print(A)\n",
    "print(B)\n",
    "\n",
    "C=A+B\n",
    "D=B+A\n",
    "\n",
    "print(C)\n",
    "print(D)\n",
    "print(list(zip(C,D)))\n",
    "\n",
    "E=[l+r for l,r in zip(C,D)]\n",
    "\n",
    "print(E)"
   ]
  },
  {
   "cell_type": "markdown",
   "metadata": {},
   "source": [
    "### Idea parea resolver el problema usando la función *zip( )*"
   ]
  },
  {
   "cell_type": "markdown",
   "metadata": {},
   "source": [
    "![title](c1.png)"
   ]
  },
  {
   "cell_type": "markdown",
   "metadata": {},
   "source": [
    "**Paso 0.** Empezamos con un renglón $r=[1]$. El cual es el **renglón cero** del triángulo de Pascal."
   ]
  },
  {
   "cell_type": "markdown",
   "metadata": {},
   "source": [
    "**Paso 1.** Para reproducir el **renglón 1**:"
   ]
  },
  {
   "cell_type": "markdown",
   "metadata": {},
   "source": [
    "![title](c2.png)"
   ]
  },
  {
   "cell_type": "markdown",
   "metadata": {},
   "source": [
    "Procedemos como sigue:"
   ]
  },
  {
   "cell_type": "markdown",
   "metadata": {},
   "source": [
    "0. Introducimos un *falso* renglón (lista) con un único elemento, el cero, digamos $t=[0]$."
   ]
  },
  {
   "cell_type": "markdown",
   "metadata": {},
   "source": [
    "1. Formamos el zip$(t+r,r+t)$, que devuelve la lista $[(0,1),(1,0)]$. Asignamos momentáneamente $r=[(0,1),(1,0)]$.\n",
    "2. Actualizamos $R=[i+j$ for $i,j$ in zip$(T+R,R+T)]$. Entonces $R=[1,1]$."
   ]
  },
  {
   "cell_type": "markdown",
   "metadata": {},
   "source": [
    "**Paso 2.** Para reproducir el **renglón 2**:"
   ]
  },
  {
   "cell_type": "markdown",
   "metadata": {},
   "source": [
    "![title](c3.png)"
   ]
  },
  {
   "cell_type": "markdown",
   "metadata": {},
   "source": [
    "Procedemos como sigue:"
   ]
  },
  {
   "cell_type": "markdown",
   "metadata": {},
   "source": [
    "1. Formamos el zip$(T+R,R+T)$, que devuelve la lista $[(0,1),(1,1),(1,0)]$. Asignamos momentáneamente $R=[(0,1),(1,0)]$.\n",
    "2. Actualizamos $R=[i+j$ for $i,j$ in zip$(T+R,R+T)]$. Entonces $R=[1,2,1]$."
   ]
  },
  {
   "cell_type": "markdown",
   "metadata": {},
   "source": [
    "## Función **triangulo_pascal( )**"
   ]
  },
  {
   "cell_type": "code",
   "execution_count": 5,
   "metadata": {},
   "outputs": [],
   "source": [
    "def triangulo_pascal(n):\n",
    "   R = [1]\n",
    "   T = [0]\n",
    "   for x in range(n):\n",
    "      print(R)\n",
    "#       print(list(zip(R+T, T+R)))\n",
    "      R=[i+j for i,j in zip(R+T, T+R)]"
   ]
  },
  {
   "cell_type": "code",
   "execution_count": 6,
   "metadata": {},
   "outputs": [
    {
     "name": "stdout",
     "output_type": "stream",
     "text": [
      "[1]\n",
      "[1, 1]\n",
      "[1, 2, 1]\n",
      "[1, 3, 3, 1]\n",
      "[1, 4, 6, 4, 1]\n",
      "[1, 5, 10, 10, 5, 1]\n"
     ]
    }
   ],
   "source": [
    "triangulo_pascal(6)"
   ]
  },
  {
   "cell_type": "code",
   "execution_count": 4,
   "metadata": {},
   "outputs": [
    {
     "name": "stdout",
     "output_type": "stream",
     "text": [
      "Introduce n: 5\n",
      "[1]\n",
      "[(1, 0), (0, 1)]\n",
      "[1, 1]\n",
      "[(1, 0), (1, 1), (0, 1)]\n",
      "[1, 2, 1]\n",
      "[(1, 0), (2, 1), (1, 2), (0, 1)]\n",
      "[1, 3, 3, 1]\n",
      "[(1, 0), (3, 1), (3, 3), (1, 3), (0, 1)]\n",
      "[1, 4, 6, 4, 1]\n",
      "[(1, 0), (4, 1), (6, 4), (4, 6), (1, 4), (0, 1)]\n"
     ]
    }
   ],
   "source": [
    "# Aquí sí dejamos que imprima el zip()\n",
    "n=int(input(\"Introduce n: \"))\n",
    "triangulo_pascal(n)"
   ]
  },
  {
   "cell_type": "code",
   "execution_count": null,
   "metadata": {},
   "outputs": [],
   "source": []
  }
 ],
 "metadata": {
  "kernelspec": {
   "display_name": "Python 3",
   "language": "python",
   "name": "python3"
  },
  "language_info": {
   "codemirror_mode": {
    "name": "ipython",
    "version": 3
   },
   "file_extension": ".py",
   "mimetype": "text/x-python",
   "name": "python",
   "nbconvert_exporter": "python",
   "pygments_lexer": "ipython3",
   "version": "3.7.6"
  }
 },
 "nbformat": 4,
 "nbformat_minor": 4
}
